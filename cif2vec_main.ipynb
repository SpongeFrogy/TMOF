{
 "cells": [
  {
   "cell_type": "code",
   "execution_count": 1,
   "metadata": {},
   "outputs": [],
   "source": [
    "import numpy as np\n",
    "import pandas as pd\n",
    "import os"
   ]
  },
  {
   "cell_type": "markdown",
   "metadata": {},
   "source": [
    "# cif2vec"
   ]
  },
  {
   "cell_type": "markdown",
   "metadata": {},
   "source": [
    "## cell params"
   ]
  },
  {
   "cell_type": "code",
   "execution_count": 2,
   "metadata": {},
   "outputs": [],
   "source": [
    "from pymatgen.io.cif import CifParser\n",
    "import fnmatch"
   ]
  },
  {
   "cell_type": "code",
   "execution_count": 3,
   "metadata": {},
   "outputs": [],
   "source": [
    "main_folder = r\"cifs/\"\n",
    "\n",
    "cif_data = pd.DataFrame(columns=[\"a\", \"b\", \"c\", \"alpha\", \"beta\", \"gamma\", \"volume\", \"sg_number\"])"
   ]
  },
  {
   "cell_type": "code",
   "execution_count": 4,
   "metadata": {},
   "outputs": [],
   "source": [
    "bad_parse  = []\n",
    "bad_get_sg = []"
   ]
  },
  {
   "cell_type": "code",
   "execution_count": 5,
   "metadata": {},
   "outputs": [
    {
     "name": "stderr",
     "output_type": "stream",
     "text": [
      "C:\\Users\\droid\\AppData\\Local\\Packages\\PythonSoftwareFoundation.Python.3.10_qbz5n2kfra8p0\\LocalCache\\local-packages\\Python310\\site-packages\\pymatgen\\io\\cif.py:1147: UserWarning: Issues encountered while parsing CIF: Some fractional coordinates rounded to ideal values to avoid issues with finite precision.\n",
      "  warnings.warn(\"Issues encountered while parsing CIF: \" + \"\\n\".join(self.warnings))\n",
      "C:\\Users\\droid\\AppData\\Local\\Packages\\PythonSoftwareFoundation.Python.3.10_qbz5n2kfra8p0\\LocalCache\\local-packages\\Python310\\site-packages\\pymatgen\\io\\cif.py:1147: UserWarning: Issues encountered while parsing CIF: Some fractional coordinates rounded to ideal values to avoid issues with finite precision.\n",
      "  warnings.warn(\"Issues encountered while parsing CIF: \" + \"\\n\".join(self.warnings))\n",
      "C:\\Users\\droid\\AppData\\Local\\Packages\\PythonSoftwareFoundation.Python.3.10_qbz5n2kfra8p0\\LocalCache\\local-packages\\Python310\\site-packages\\pymatgen\\io\\cif.py:1147: UserWarning: Issues encountered while parsing CIF: Some fractional coordinates rounded to ideal values to avoid issues with finite precision.\n",
      "  warnings.warn(\"Issues encountered while parsing CIF: \" + \"\\n\".join(self.warnings))\n"
     ]
    },
    {
     "name": "stdout",
     "output_type": "stream",
     "text": [
      "Error with prase: no parameters in fromCAU130GPa.cif\n"
     ]
    },
    {
     "name": "stderr",
     "output_type": "stream",
     "text": [
      "C:\\Users\\droid\\AppData\\Local\\Packages\\PythonSoftwareFoundation.Python.3.10_qbz5n2kfra8p0\\LocalCache\\local-packages\\Python310\\site-packages\\pymatgen\\io\\cif.py:224: UserWarning: Possible issue in cif file at line: 1\n",
      "  warnings.warn(f\"Possible issue in cif file at line: {issue}\")\n",
      "C:\\Users\\droid\\AppData\\Local\\Packages\\PythonSoftwareFoundation.Python.3.10_qbz5n2kfra8p0\\LocalCache\\local-packages\\Python310\\site-packages\\pymatgen\\io\\cif.py:224: UserWarning: Possible issue in cif file at line: 2\n",
      "  warnings.warn(f\"Possible issue in cif file at line: {issue}\")\n",
      "C:\\Users\\droid\\AppData\\Local\\Packages\\PythonSoftwareFoundation.Python.3.10_qbz5n2kfra8p0\\LocalCache\\local-packages\\Python310\\site-packages\\pymatgen\\io\\cif.py:224: UserWarning: Possible issue in cif file at line: 3\n",
      "  warnings.warn(f\"Possible issue in cif file at line: {issue}\")\n",
      "C:\\Users\\droid\\AppData\\Local\\Packages\\PythonSoftwareFoundation.Python.3.10_qbz5n2kfra8p0\\LocalCache\\local-packages\\Python310\\site-packages\\pymatgen\\io\\cif.py:224: UserWarning: Possible issue in cif file at line: 2\n",
      "  warnings.warn(f\"Possible issue in cif file at line: {issue}\")\n"
     ]
    },
    {
     "name": "stdout",
     "output_type": "stream",
     "text": [
      "Error with prase: no parameters in fromNOTT3000GPa.cif\n"
     ]
    },
    {
     "name": "stderr",
     "output_type": "stream",
     "text": [
      "C:\\Users\\droid\\AppData\\Local\\Packages\\PythonSoftwareFoundation.Python.3.10_qbz5n2kfra8p0\\LocalCache\\local-packages\\Python310\\site-packages\\pymatgen\\io\\cif.py:1147: UserWarning: Issues encountered while parsing CIF: Some fractional coordinates rounded to ideal values to avoid issues with finite precision.\n",
      "  warnings.warn(\"Issues encountered while parsing CIF: \" + \"\\n\".join(self.warnings))\n",
      "C:\\Users\\droid\\AppData\\Local\\Packages\\PythonSoftwareFoundation.Python.3.10_qbz5n2kfra8p0\\LocalCache\\local-packages\\Python310\\site-packages\\pymatgen\\io\\cif.py:1147: UserWarning: Issues encountered while parsing CIF: Some fractional coordinates rounded to ideal values to avoid issues with finite precision.\n",
      "  warnings.warn(\"Issues encountered while parsing CIF: \" + \"\\n\".join(self.warnings))\n",
      "C:\\Users\\droid\\AppData\\Local\\Packages\\PythonSoftwareFoundation.Python.3.10_qbz5n2kfra8p0\\LocalCache\\local-packages\\Python310\\site-packages\\pymatgen\\io\\cif.py:1147: UserWarning: Issues encountered while parsing CIF: Some fractional coordinates rounded to ideal values to avoid issues with finite precision.\n",
      "  warnings.warn(\"Issues encountered while parsing CIF: \" + \"\\n\".join(self.warnings))\n",
      "C:\\Users\\droid\\AppData\\Local\\Packages\\PythonSoftwareFoundation.Python.3.10_qbz5n2kfra8p0\\LocalCache\\local-packages\\Python310\\site-packages\\pymatgen\\io\\cif.py:1147: UserWarning: Issues encountered while parsing CIF: Some fractional coordinates rounded to ideal values to avoid issues with finite precision.\n",
      "  warnings.warn(\"Issues encountered while parsing CIF: \" + \"\\n\".join(self.warnings))\n",
      "C:\\Users\\droid\\AppData\\Local\\Packages\\PythonSoftwareFoundation.Python.3.10_qbz5n2kfra8p0\\LocalCache\\local-packages\\Python310\\site-packages\\pymatgen\\io\\cif.py:1147: UserWarning: Issues encountered while parsing CIF: Some fractional coordinates rounded to ideal values to avoid issues with finite precision.\n",
      "  warnings.warn(\"Issues encountered while parsing CIF: \" + \"\\n\".join(self.warnings))\n",
      "C:\\Users\\droid\\AppData\\Local\\Packages\\PythonSoftwareFoundation.Python.3.10_qbz5n2kfra8p0\\LocalCache\\local-packages\\Python310\\site-packages\\pymatgen\\io\\cif.py:1147: UserWarning: Issues encountered while parsing CIF: Some fractional coordinates rounded to ideal values to avoid issues with finite precision.\n",
      "  warnings.warn(\"Issues encountered while parsing CIF: \" + \"\\n\".join(self.warnings))\n",
      "C:\\Users\\droid\\AppData\\Local\\Packages\\PythonSoftwareFoundation.Python.3.10_qbz5n2kfra8p0\\LocalCache\\local-packages\\Python310\\site-packages\\pymatgen\\io\\cif.py:224: UserWarning: Possible issue in cif file at line: 2\n",
      "  warnings.warn(f\"Possible issue in cif file at line: {issue}\")\n",
      "C:\\Users\\droid\\AppData\\Local\\Packages\\PythonSoftwareFoundation.Python.3.10_qbz5n2kfra8p0\\LocalCache\\local-packages\\Python310\\site-packages\\pymatgen\\io\\cif.py:224: UserWarning: Possible issue in cif file at line: 3\n",
      "  warnings.warn(f\"Possible issue in cif file at line: {issue}\")\n"
     ]
    },
    {
     "name": "stdout",
     "output_type": "stream",
     "text": [
      "Error with prase: no parameters in toNOTT3001GPashear.cif\n"
     ]
    }
   ],
   "source": [
    "for file in os.listdir(main_folder):\n",
    "    if fnmatch.fnmatch(file, '*.cif'):\n",
    "        try:\n",
    "            # print(os.path.join(file))\n",
    "            struct = CifParser(os.path.join(main_folder, file)).get_structures()[0]\n",
    "            try:\n",
    "                d_lattice = struct.as_dict()['lattice']\n",
    "                property = [d_lattice[\"a\"], d_lattice[\"b\"], d_lattice[\"b\"],\n",
    "                            d_lattice[\"alpha\"], d_lattice[\"beta\"], d_lattice[\"gamma\"], d_lattice[\"volume\"],\n",
    "                            struct.get_space_group_info()[1]]\n",
    "                cif_data.loc[file[:-4]] = property\n",
    "            except ValueError:\n",
    "                print(f\"Error with get sg: {os.path.join(file)}\")\n",
    "                bad_get_sg.append(os.path.join(file))\n",
    "        except ValueError:\n",
    "            print(f\"Error with prase: no structure in {file}\")\n",
    "            bad_parse.append(file)\n",
    "        except KeyError:\n",
    "            print(f\"Error with prase: no parameters in {file}\")\n",
    "            bad_parse.append(file)\n"
   ]
  },
  {
   "cell_type": "code",
   "execution_count": 6,
   "metadata": {},
   "outputs": [
    {
     "data": {
      "text/html": [
       "<div>\n",
       "<style scoped>\n",
       "    .dataframe tbody tr th:only-of-type {\n",
       "        vertical-align: middle;\n",
       "    }\n",
       "\n",
       "    .dataframe tbody tr th {\n",
       "        vertical-align: top;\n",
       "    }\n",
       "\n",
       "    .dataframe thead th {\n",
       "        text-align: right;\n",
       "    }\n",
       "</style>\n",
       "<table border=\"1\" class=\"dataframe\">\n",
       "  <thead>\n",
       "    <tr style=\"text-align: right;\">\n",
       "      <th></th>\n",
       "      <th>a</th>\n",
       "      <th>b</th>\n",
       "      <th>c</th>\n",
       "      <th>alpha</th>\n",
       "      <th>beta</th>\n",
       "      <th>gamma</th>\n",
       "      <th>volume</th>\n",
       "      <th>sg_number</th>\n",
       "    </tr>\n",
       "  </thead>\n",
       "  <tbody>\n",
       "    <tr>\n",
       "      <th>12fromMnMOF1toacetonsolvated1977803</th>\n",
       "      <td>12.307000</td>\n",
       "      <td>13.006000</td>\n",
       "      <td>13.006000</td>\n",
       "      <td>90.000000</td>\n",
       "      <td>90.000000</td>\n",
       "      <td>92.100000</td>\n",
       "      <td>5060.570412</td>\n",
       "      <td>11.0</td>\n",
       "    </tr>\n",
       "    <tr>\n",
       "      <th>130Ksamespacegr1970080</th>\n",
       "      <td>15.308610</td>\n",
       "      <td>15.308610</td>\n",
       "      <td>15.308610</td>\n",
       "      <td>90.000000</td>\n",
       "      <td>90.000000</td>\n",
       "      <td>90.000000</td>\n",
       "      <td>3639.306591</td>\n",
       "      <td>114.0</td>\n",
       "    </tr>\n",
       "    <tr>\n",
       "      <th>14MnMOF1MeOH1977797</th>\n",
       "      <td>12.323000</td>\n",
       "      <td>12.931000</td>\n",
       "      <td>12.931000</td>\n",
       "      <td>90.000000</td>\n",
       "      <td>90.000000</td>\n",
       "      <td>93.580000</td>\n",
       "      <td>5112.268719</td>\n",
       "      <td>11.0</td>\n",
       "    </tr>\n",
       "    <tr>\n",
       "      <th>1b15bar</th>\n",
       "      <td>8.253200</td>\n",
       "      <td>18.620400</td>\n",
       "      <td>18.620400</td>\n",
       "      <td>90.000000</td>\n",
       "      <td>90.000000</td>\n",
       "      <td>90.000000</td>\n",
       "      <td>2861.543695</td>\n",
       "      <td>90.0</td>\n",
       "    </tr>\n",
       "    <tr>\n",
       "      <th>1b20bar</th>\n",
       "      <td>8.224300</td>\n",
       "      <td>18.636000</td>\n",
       "      <td>18.636000</td>\n",
       "      <td>90.000000</td>\n",
       "      <td>90.000000</td>\n",
       "      <td>90.000000</td>\n",
       "      <td>2856.303469</td>\n",
       "      <td>90.0</td>\n",
       "    </tr>\n",
       "    <tr>\n",
       "      <th>...</th>\n",
       "      <td>...</td>\n",
       "      <td>...</td>\n",
       "      <td>...</td>\n",
       "      <td>...</td>\n",
       "      <td>...</td>\n",
       "      <td>...</td>\n",
       "      <td>...</td>\n",
       "      <td>...</td>\n",
       "    </tr>\n",
       "    <tr>\n",
       "      <th>topolymorphsofZIF41903482</th>\n",
       "      <td>14.444780</td>\n",
       "      <td>14.566590</td>\n",
       "      <td>14.566590</td>\n",
       "      <td>90.000000</td>\n",
       "      <td>90.000000</td>\n",
       "      <td>90.000000</td>\n",
       "      <td>3251.067472</td>\n",
       "      <td>61.0</td>\n",
       "    </tr>\n",
       "    <tr>\n",
       "      <th>toSION11503702</th>\n",
       "      <td>6.636600</td>\n",
       "      <td>13.388000</td>\n",
       "      <td>13.388000</td>\n",
       "      <td>98.599000</td>\n",
       "      <td>90.000000</td>\n",
       "      <td>90.000000</td>\n",
       "      <td>1367.592522</td>\n",
       "      <td>14.0</td>\n",
       "    </tr>\n",
       "    <tr>\n",
       "      <th>toSTA26ZrCchangedsymmetry1571656</th>\n",
       "      <td>27.968600</td>\n",
       "      <td>28.355728</td>\n",
       "      <td>28.355728</td>\n",
       "      <td>90.748117</td>\n",
       "      <td>90.000000</td>\n",
       "      <td>90.000000</td>\n",
       "      <td>22486.160078</td>\n",
       "      <td>63.0</td>\n",
       "    </tr>\n",
       "    <tr>\n",
       "      <th>toVMOP1590348</th>\n",
       "      <td>21.598587</td>\n",
       "      <td>21.598587</td>\n",
       "      <td>21.598587</td>\n",
       "      <td>109.471221</td>\n",
       "      <td>109.471221</td>\n",
       "      <td>109.471221</td>\n",
       "      <td>7756.291592</td>\n",
       "      <td>217.0</td>\n",
       "    </tr>\n",
       "    <tr>\n",
       "      <th>toZn1withDMF238859</th>\n",
       "      <td>14.354746</td>\n",
       "      <td>14.354746</td>\n",
       "      <td>14.354746</td>\n",
       "      <td>95.803270</td>\n",
       "      <td>116.707983</td>\n",
       "      <td>116.707983</td>\n",
       "      <td>2183.514111</td>\n",
       "      <td>140.0</td>\n",
       "    </tr>\n",
       "  </tbody>\n",
       "</table>\n",
       "<p>157 rows × 8 columns</p>\n",
       "</div>"
      ],
      "text/plain": [
       "                                             a          b          c  \\\n",
       "12fromMnMOF1toacetonsolvated1977803  12.307000  13.006000  13.006000   \n",
       "130Ksamespacegr1970080               15.308610  15.308610  15.308610   \n",
       "14MnMOF1MeOH1977797                  12.323000  12.931000  12.931000   \n",
       "1b15bar                               8.253200  18.620400  18.620400   \n",
       "1b20bar                               8.224300  18.636000  18.636000   \n",
       "...                                        ...        ...        ...   \n",
       "topolymorphsofZIF41903482            14.444780  14.566590  14.566590   \n",
       "toSION11503702                        6.636600  13.388000  13.388000   \n",
       "toSTA26ZrCchangedsymmetry1571656     27.968600  28.355728  28.355728   \n",
       "toVMOP1590348                        21.598587  21.598587  21.598587   \n",
       "toZn1withDMF238859                   14.354746  14.354746  14.354746   \n",
       "\n",
       "                                          alpha        beta       gamma  \\\n",
       "12fromMnMOF1toacetonsolvated1977803   90.000000   90.000000   92.100000   \n",
       "130Ksamespacegr1970080                90.000000   90.000000   90.000000   \n",
       "14MnMOF1MeOH1977797                   90.000000   90.000000   93.580000   \n",
       "1b15bar                               90.000000   90.000000   90.000000   \n",
       "1b20bar                               90.000000   90.000000   90.000000   \n",
       "...                                         ...         ...         ...   \n",
       "topolymorphsofZIF41903482             90.000000   90.000000   90.000000   \n",
       "toSION11503702                        98.599000   90.000000   90.000000   \n",
       "toSTA26ZrCchangedsymmetry1571656      90.748117   90.000000   90.000000   \n",
       "toVMOP1590348                        109.471221  109.471221  109.471221   \n",
       "toZn1withDMF238859                    95.803270  116.707983  116.707983   \n",
       "\n",
       "                                           volume  sg_number  \n",
       "12fromMnMOF1toacetonsolvated1977803   5060.570412       11.0  \n",
       "130Ksamespacegr1970080                3639.306591      114.0  \n",
       "14MnMOF1MeOH1977797                   5112.268719       11.0  \n",
       "1b15bar                               2861.543695       90.0  \n",
       "1b20bar                               2856.303469       90.0  \n",
       "...                                           ...        ...  \n",
       "topolymorphsofZIF41903482             3251.067472       61.0  \n",
       "toSION11503702                        1367.592522       14.0  \n",
       "toSTA26ZrCchangedsymmetry1571656     22486.160078       63.0  \n",
       "toVMOP1590348                         7756.291592      217.0  \n",
       "toZn1withDMF238859                    2183.514111      140.0  \n",
       "\n",
       "[157 rows x 8 columns]"
      ]
     },
     "execution_count": 6,
     "metadata": {},
     "output_type": "execute_result"
    }
   ],
   "source": [
    "cif_data # all good"
   ]
  },
  {
   "cell_type": "markdown",
   "metadata": {},
   "source": [
    "## Zeo++ \n",
    "notes that zeo++ data was extracted with `-ha` flag"
   ]
  },
  {
   "cell_type": "code",
   "execution_count": 7,
   "metadata": {},
   "outputs": [
    {
     "name": "stdout",
     "output_type": "stream",
     "text": [
      "Unexpected exception formatting exception. Falling back to standard exception\n"
     ]
    },
    {
     "name": "stderr",
     "output_type": "stream",
     "text": [
      "Traceback (most recent call last):\n",
      "  File \"C:\\Users\\droid\\AppData\\Local\\Packages\\PythonSoftwareFoundation.Python.3.10_qbz5n2kfra8p0\\LocalCache\\local-packages\\Python310\\site-packages\\IPython\\core\\interactiveshell.py\", line 3508, in run_code\n",
      "    exec(code_obj, self.user_global_ns, self.user_ns)\n",
      "  File \"C:\\Users\\droid\\AppData\\Local\\Temp\\ipykernel_18100\\2052763581.py\", line 2, in <module>\n",
      "    for file in os.listdir(r\"../pipeline_test/zeo/\"):\n",
      "FileNotFoundError: [WinError 3] Системе не удается найти указанный путь: '../pipeline_test/zeo/'\n",
      "\n",
      "During handling of the above exception, another exception occurred:\n",
      "\n",
      "Traceback (most recent call last):\n",
      "  File \"C:\\Users\\droid\\AppData\\Local\\Packages\\PythonSoftwareFoundation.Python.3.10_qbz5n2kfra8p0\\LocalCache\\local-packages\\Python310\\site-packages\\IPython\\core\\interactiveshell.py\", line 2105, in showtraceback\n",
      "    stb = self.InteractiveTB.structured_traceback(\n",
      "  File \"C:\\Users\\droid\\AppData\\Local\\Packages\\PythonSoftwareFoundation.Python.3.10_qbz5n2kfra8p0\\LocalCache\\local-packages\\Python310\\site-packages\\IPython\\core\\ultratb.py\", line 1396, in structured_traceback\n",
      "    return FormattedTB.structured_traceback(\n",
      "  File \"C:\\Users\\droid\\AppData\\Local\\Packages\\PythonSoftwareFoundation.Python.3.10_qbz5n2kfra8p0\\LocalCache\\local-packages\\Python310\\site-packages\\IPython\\core\\ultratb.py\", line 1287, in structured_traceback\n",
      "    return VerboseTB.structured_traceback(\n",
      "  File \"C:\\Users\\droid\\AppData\\Local\\Packages\\PythonSoftwareFoundation.Python.3.10_qbz5n2kfra8p0\\LocalCache\\local-packages\\Python310\\site-packages\\IPython\\core\\ultratb.py\", line 1140, in structured_traceback\n",
      "    formatted_exception = self.format_exception_as_a_whole(etype, evalue, etb, number_of_lines_of_context,\n",
      "  File \"C:\\Users\\droid\\AppData\\Local\\Packages\\PythonSoftwareFoundation.Python.3.10_qbz5n2kfra8p0\\LocalCache\\local-packages\\Python310\\site-packages\\IPython\\core\\ultratb.py\", line 1055, in format_exception_as_a_whole\n",
      "    frames.append(self.format_record(record))\n",
      "  File \"C:\\Users\\droid\\AppData\\Local\\Packages\\PythonSoftwareFoundation.Python.3.10_qbz5n2kfra8p0\\LocalCache\\local-packages\\Python310\\site-packages\\IPython\\core\\ultratb.py\", line 955, in format_record\n",
      "    frame_info.lines, Colors, self.has_colors, lvals\n",
      "  File \"C:\\Users\\droid\\AppData\\Local\\Packages\\PythonSoftwareFoundation.Python.3.10_qbz5n2kfra8p0\\LocalCache\\local-packages\\Python310\\site-packages\\IPython\\core\\ultratb.py\", line 778, in lines\n",
      "    return self._sd.lines\n",
      "  File \"C:\\Users\\droid\\AppData\\Local\\Packages\\PythonSoftwareFoundation.Python.3.10_qbz5n2kfra8p0\\LocalCache\\local-packages\\Python310\\site-packages\\stack_data\\utils.py\", line 144, in cached_property_wrapper\n",
      "    value = obj.__dict__[self.func.__name__] = self.func(obj)\n",
      "  File \"C:\\Users\\droid\\AppData\\Local\\Packages\\PythonSoftwareFoundation.Python.3.10_qbz5n2kfra8p0\\LocalCache\\local-packages\\Python310\\site-packages\\stack_data\\core.py\", line 734, in lines\n",
      "    pieces = self.included_pieces\n",
      "  File \"C:\\Users\\droid\\AppData\\Local\\Packages\\PythonSoftwareFoundation.Python.3.10_qbz5n2kfra8p0\\LocalCache\\local-packages\\Python310\\site-packages\\stack_data\\utils.py\", line 144, in cached_property_wrapper\n",
      "    value = obj.__dict__[self.func.__name__] = self.func(obj)\n",
      "  File \"C:\\Users\\droid\\AppData\\Local\\Packages\\PythonSoftwareFoundation.Python.3.10_qbz5n2kfra8p0\\LocalCache\\local-packages\\Python310\\site-packages\\stack_data\\core.py\", line 677, in included_pieces\n",
      "    scope_pieces = self.scope_pieces\n",
      "  File \"C:\\Users\\droid\\AppData\\Local\\Packages\\PythonSoftwareFoundation.Python.3.10_qbz5n2kfra8p0\\LocalCache\\local-packages\\Python310\\site-packages\\stack_data\\utils.py\", line 144, in cached_property_wrapper\n",
      "    value = obj.__dict__[self.func.__name__] = self.func(obj)\n",
      "  File \"C:\\Users\\droid\\AppData\\Local\\Packages\\PythonSoftwareFoundation.Python.3.10_qbz5n2kfra8p0\\LocalCache\\local-packages\\Python310\\site-packages\\stack_data\\core.py\", line 614, in scope_pieces\n",
      "    scope_start, scope_end = self.source.line_range(self.scope)\n",
      "  File \"C:\\Users\\droid\\AppData\\Local\\Packages\\PythonSoftwareFoundation.Python.3.10_qbz5n2kfra8p0\\LocalCache\\local-packages\\Python310\\site-packages\\stack_data\\core.py\", line 178, in line_range\n",
      "    return line_range(self.asttext(), node)\n",
      "AttributeError: 'Source' object has no attribute 'asttext'\n"
     ]
    }
   ],
   "source": [
    "zeo_data = pd.DataFrame(columns=[\"lcd\", \"pld\"])\n",
    "for file in os.listdir(r\"../pipeline_test/zeo/\"):\n",
    "    if fnmatch.fnmatch(file, '*.res'):\n",
    "        with open(\"../pipeline_test/zeo/\" + file) as f:\n",
    "            line = f.readline()\n",
    "            zeo_data.loc[file[:-4]] = line.split()[1:-1]"
   ]
  },
  {
   "cell_type": "code",
   "execution_count": 8,
   "metadata": {},
   "outputs": [
    {
     "data": {
      "text/html": [
       "<div>\n",
       "<style scoped>\n",
       "    .dataframe tbody tr th:only-of-type {\n",
       "        vertical-align: middle;\n",
       "    }\n",
       "\n",
       "    .dataframe tbody tr th {\n",
       "        vertical-align: top;\n",
       "    }\n",
       "\n",
       "    .dataframe thead th {\n",
       "        text-align: right;\n",
       "    }\n",
       "</style>\n",
       "<table border=\"1\" class=\"dataframe\">\n",
       "  <thead>\n",
       "    <tr style=\"text-align: right;\">\n",
       "      <th></th>\n",
       "      <th>lcd</th>\n",
       "      <th>pld</th>\n",
       "    </tr>\n",
       "  </thead>\n",
       "  <tbody>\n",
       "  </tbody>\n",
       "</table>\n",
       "</div>"
      ],
      "text/plain": [
       "Empty DataFrame\n",
       "Columns: [lcd, pld]\n",
       "Index: []"
      ]
     },
     "execution_count": 8,
     "metadata": {},
     "output_type": "execute_result"
    }
   ],
   "source": [
    "zeo_data"
   ]
  },
  {
   "cell_type": "markdown",
   "metadata": {},
   "source": [
    "## mofid"
   ]
  },
  {
   "cell_type": "code",
   "execution_count": 9,
   "metadata": {},
   "outputs": [],
   "source": [
    "mofid_data = pd.read_csv(\"preprocessing/mofid/mofid_data.csv\", index_col=0)"
   ]
  },
  {
   "cell_type": "code",
   "execution_count": 10,
   "metadata": {},
   "outputs": [],
   "source": [
    "mofid_data.index = [i[5:] for i in mofid_data.index]"
   ]
  },
  {
   "cell_type": "code",
   "execution_count": 11,
   "metadata": {},
   "outputs": [
    {
     "data": {
      "text/plain": [
       "str"
      ]
     },
     "execution_count": 11,
     "metadata": {},
     "output_type": "execute_result"
    }
   ],
   "source": [
    "type(mofid_data.loc[\"2to2byimmercingfirstcompound1816056\"]['node'])"
   ]
  },
  {
   "cell_type": "markdown",
   "metadata": {},
   "source": [
    "## Mordred"
   ]
  },
  {
   "cell_type": "code",
   "execution_count": 12,
   "metadata": {},
   "outputs": [
    {
     "name": "stderr",
     "output_type": "stream",
     "text": [
      "[18:39:15] Explicit valence for atom # 17 C, 5, is greater than permitted\n",
      "[18:39:15] Explicit valence for atom # 14 C, 5, is greater than permitted\n",
      "[18:39:15] Explicit valence for atom # 13 C, 5, is greater than permitted\n",
      "[18:39:15] Explicit valence for atom # 0 N, 4, is greater than permitted\n",
      "100%|██████████| 1/1 [00:02<00:00,  2.08s/it]\n"
     ]
    },
    {
     "name": "stdout",
     "output_type": "stream",
     "text": [
      "C:\\Users\\droid\\AppData\\Local\\Packages\\PythonSoftwareFoundation.Python.3.10_qbz5n2kfra8p0\\LocalCache\\local-packages\\Python310\\site-packages\\mordred\\Autocorrelation.py:97: RuntimeWarning: Mean of empty slice.\n",
      "  return avec - avec.mean()\n",
      "C:\\Users\\droid\\AppData\\Local\\Packages\\PythonSoftwareFoundation.Python.3.10_qbz5n2kfra8p0\\LocalCache\\local-packages\\Python310\\site-packages\\numpy\\core\\_methods.py:190: RuntimeWarning: invalid value encountered in double_scalars\n",
      "  ret = ret.dtype.type(ret / rcount)\n",
      "C:\\Users\\droid\\AppData\\Local\\Packages\\PythonSoftwareFoundation.Python.3.10_qbz5n2kfra8p0\\LocalCache\\local-packages\\Python310\\site-packages\\mordred\\Constitutional.py:80: RuntimeWarning: invalid value encountered in double_scalars\n",
      "  return S / self.mol.GetNumAtoms()\n"
     ]
    },
    {
     "name": "stderr",
     "output_type": "stream",
     "text": [
      "100%|██████████| 1/1 [00:02<00:00,  2.07s/it]\n",
      "100%|██████████| 1/1 [00:02<00:00,  2.03s/it]\n"
     ]
    },
    {
     "name": "stdout",
     "output_type": "stream",
     "text": [
      "C:\\Users\\droid\\AppData\\Local\\Packages\\PythonSoftwareFoundation.Python.3.10_qbz5n2kfra8p0\\LocalCache\\local-packages\\Python310\\site-packages\\mordred\\Autocorrelation.py:97: RuntimeWarning: Mean of empty slice.\n",
      "  return avec - avec.mean()\n",
      "C:\\Users\\droid\\AppData\\Local\\Packages\\PythonSoftwareFoundation.Python.3.10_qbz5n2kfra8p0\\LocalCache\\local-packages\\Python310\\site-packages\\numpy\\core\\_methods.py:190: RuntimeWarning: invalid value encountered in double_scalars\n",
      "  ret = ret.dtype.type(ret / rcount)\n",
      "C:\\Users\\droid\\AppData\\Local\\Packages\\PythonSoftwareFoundation.Python.3.10_qbz5n2kfra8p0\\LocalCache\\local-packages\\Python310\\site-packages\\mordred\\Constitutional.py:80: RuntimeWarning: invalid value encountered in double_scalars\n",
      "  return S / self.mol.GetNumAtoms()\n"
     ]
    },
    {
     "name": "stderr",
     "output_type": "stream",
     "text": [
      "100%|██████████| 1/1 [00:02<00:00,  2.50s/it]\n",
      "100%|██████████| 1/1 [00:02<00:00,  2.26s/it]\n",
      "100%|██████████| 1/1 [00:02<00:00,  2.56s/it]\n",
      "100%|██████████| 1/1 [00:02<00:00,  2.99s/it]\n",
      "  0%|          | 0/2 [00:00<?, ?it/s]\n",
      "100%|██████████| 1/1 [00:02<00:00,  2.33s/it]\n",
      "100%|██████████| 1/1 [00:02<00:00,  2.34s/it]\n",
      "100%|██████████| 1/1 [00:02<00:00,  2.27s/it]\n",
      "100%|██████████| 1/1 [00:02<00:00,  2.69s/it]\n"
     ]
    },
    {
     "name": "stdout",
     "output_type": "stream",
     "text": [
      "C:\\Users\\droid\\AppData\\Local\\Packages\\PythonSoftwareFoundation.Python.3.10_qbz5n2kfra8p0\\LocalCache\\local-packages\\Python310\\site-packages\\numpy\\core\\fromnumeric.py:86: RuntimeWarning: overflow encountered in reduce\n",
      "  return ufunc.reduce(obj, axis, dtype, out, **passkwargs)\n"
     ]
    },
    {
     "name": "stderr",
     "output_type": "stream",
     "text": [
      "100%|██████████| 1/1 [00:02<00:00,  2.06s/it]\n",
      "100%|██████████| 1/1 [00:01<00:00,  1.84s/it]\n",
      "100%|██████████| 1/1 [00:02<00:00,  2.20s/it]\n",
      "100%|██████████| 1/1 [00:02<00:00,  2.40s/it]\n",
      "100%|██████████| 1/1 [00:02<00:00,  2.17s/it]\n",
      "100%|██████████| 2/2 [00:02<00:00,  1.02s/it]\n",
      "100%|██████████| 1/1 [00:01<00:00,  1.95s/it]\n",
      "100%|██████████| 1/1 [00:02<00:00,  2.00s/it]\n",
      "100%|██████████| 1/1 [00:02<00:00,  2.38s/it]\n",
      "100%|██████████| 1/1 [00:02<00:00,  2.84s/it]\n",
      "100%|██████████| 1/1 [00:02<00:00,  2.28s/it]\n",
      "100%|██████████| 2/2 [00:02<00:00,  1.19s/it]\n",
      "100%|██████████| 1/1 [00:02<00:00,  2.55s/it]\n",
      "100%|██████████| 1/1 [00:01<00:00,  1.92s/it]\n",
      "100%|██████████| 1/1 [00:01<00:00,  1.92s/it]\n",
      "100%|██████████| 1/1 [00:02<00:00,  2.52s/it]\n"
     ]
    },
    {
     "name": "stdout",
     "output_type": "stream",
     "text": [
      "C:\\Users\\droid\\AppData\\Local\\Packages\\PythonSoftwareFoundation.Python.3.10_qbz5n2kfra8p0\\LocalCache\\local-packages\\Python310\\site-packages\\mordred\\Autocorrelation.py:97: RuntimeWarning: Mean of empty slice.\n",
      "  return avec - avec.mean()\n",
      "C:\\Users\\droid\\AppData\\Local\\Packages\\PythonSoftwareFoundation.Python.3.10_qbz5n2kfra8p0\\LocalCache\\local-packages\\Python310\\site-packages\\numpy\\core\\_methods.py:190: RuntimeWarning: invalid value encountered in double_scalars\n",
      "  ret = ret.dtype.type(ret / rcount)\n",
      "C:\\Users\\droid\\AppData\\Local\\Packages\\PythonSoftwareFoundation.Python.3.10_qbz5n2kfra8p0\\LocalCache\\local-packages\\Python310\\site-packages\\mordred\\Constitutional.py:80: RuntimeWarning: invalid value encountered in double_scalars\n",
      "  return S / self.mol.GetNumAtoms()\n"
     ]
    },
    {
     "name": "stderr",
     "output_type": "stream",
     "text": [
      "100%|██████████| 1/1 [00:02<00:00,  2.90s/it]\n"
     ]
    },
    {
     "name": "stdout",
     "output_type": "stream",
     "text": [
      "C:\\Users\\droid\\AppData\\Local\\Packages\\PythonSoftwareFoundation.Python.3.10_qbz5n2kfra8p0\\LocalCache\\local-packages\\Python310\\site-packages\\numpy\\core\\fromnumeric.py:86: RuntimeWarning: overflow encountered in reduce\n",
      "  return ufunc.reduce(obj, axis, dtype, out, **passkwargs)\n"
     ]
    },
    {
     "name": "stderr",
     "output_type": "stream",
     "text": [
      "100%|██████████| 2/2 [00:02<00:00,  1.30s/it]\n",
      "100%|██████████| 2/2 [00:02<00:00,  1.10s/it]\n",
      "100%|██████████| 1/1 [00:02<00:00,  2.11s/it]\n",
      "100%|██████████| 2/2 [00:01<00:00,  1.07it/s]\n",
      "100%|██████████| 1/1 [00:02<00:00,  2.77s/it]\n",
      "100%|██████████| 1/1 [00:02<00:00,  2.18s/it]\n",
      "100%|██████████| 1/1 [00:02<00:00,  2.67s/it]\n",
      "100%|██████████| 1/1 [00:02<00:00,  2.80s/it]\n",
      "100%|██████████| 1/1 [00:02<00:00,  2.15s/it]\n",
      "100%|██████████| 1/1 [00:02<00:00,  2.69s/it]\n",
      "100%|██████████| 1/1 [00:02<00:00,  2.07s/it]\n",
      "100%|██████████| 1/1 [00:02<00:00,  2.35s/it]\n",
      "100%|██████████| 2/2 [00:02<00:00,  1.12s/it]\n",
      "100%|██████████| 2/2 [00:02<00:00,  1.18s/it]\n",
      "100%|██████████| 2/2 [00:02<00:00,  1.50s/it]\n",
      "100%|██████████| 3/3 [00:02<00:00,  1.12it/s]\n",
      "100%|██████████| 3/3 [00:02<00:00,  1.03it/s]\n",
      "100%|██████████| 1/1 [00:02<00:00,  2.29s/it]\n",
      "100%|██████████| 2/2 [00:02<00:00,  1.14s/it]\n",
      "100%|██████████| 1/1 [00:02<00:00,  2.45s/it]\n",
      "100%|██████████| 1/1 [00:02<00:00,  2.10s/it]\n",
      "100%|██████████| 1/1 [00:02<00:00,  2.05s/it]\n",
      "100%|██████████| 1/1 [00:02<00:00,  2.12s/it]\n",
      "100%|██████████| 2/2 [00:02<00:00,  1.20s/it]\n",
      "100%|██████████| 1/1 [00:02<00:00,  2.47s/it]\n",
      "100%|██████████| 2/2 [00:02<00:00,  1.38s/it]\n",
      "100%|██████████| 1/1 [00:01<00:00,  1.90s/it]\n",
      "100%|██████████| 3/3 [00:02<00:00,  1.17it/s]\n",
      "100%|██████████| 1/1 [00:02<00:00,  2.15s/it]\n"
     ]
    },
    {
     "name": "stdout",
     "output_type": "stream",
     "text": [
      "C:\\Users\\droid\\AppData\\Local\\Packages\\PythonSoftwareFoundation.Python.3.10_qbz5n2kfra8p0\\LocalCache\\local-packages\\Python310\\site-packages\\mordred\\Autocorrelation.py:97: RuntimeWarning: Mean of empty slice.\n",
      "  return avec - avec.mean()\n",
      "C:\\Users\\droid\\AppData\\Local\\Packages\\PythonSoftwareFoundation.Python.3.10_qbz5n2kfra8p0\\LocalCache\\local-packages\\Python310\\site-packages\\numpy\\core\\_methods.py:190: RuntimeWarning: invalid value encountered in double_scalars\n",
      "  ret = ret.dtype.type(ret / rcount)\n",
      "C:\\Users\\droid\\AppData\\Local\\Packages\\PythonSoftwareFoundation.Python.3.10_qbz5n2kfra8p0\\LocalCache\\local-packages\\Python310\\site-packages\\mordred\\Constitutional.py:80: RuntimeWarning: invalid value encountered in double_scalars\n",
      "  return S / self.mol.GetNumAtoms()\n"
     ]
    },
    {
     "name": "stderr",
     "output_type": "stream",
     "text": [
      "100%|██████████| 1/1 [00:02<00:00,  2.20s/it]\n",
      "100%|██████████| 1/1 [00:02<00:00,  2.01s/it]\n",
      "100%|██████████| 2/2 [00:02<00:00,  1.08s/it]\n",
      "100%|██████████| 1/1 [00:04<00:00,  4.47s/it]\n",
      "100%|██████████| 1/1 [00:02<00:00,  2.14s/it]\n",
      "100%|██████████| 1/1 [00:02<00:00,  2.14s/it]\n",
      "100%|██████████| 1/1 [00:02<00:00,  2.10s/it]\n",
      "100%|██████████| 1/1 [00:02<00:00,  2.14s/it]\n",
      "100%|██████████| 2/2 [00:02<00:00,  1.33s/it]\n",
      "100%|██████████| 1/1 [00:02<00:00,  2.05s/it]\n",
      "100%|██████████| 2/2 [00:02<00:00,  1.09s/it]\n",
      "100%|██████████| 1/1 [00:02<00:00,  2.05s/it]\n"
     ]
    },
    {
     "name": "stdout",
     "output_type": "stream",
     "text": [
      "C:\\Users\\droid\\AppData\\Local\\Packages\\PythonSoftwareFoundation.Python.3.10_qbz5n2kfra8p0\\LocalCache\\local-packages\\Python310\\site-packages\\mordred\\Autocorrelation.py:97: RuntimeWarning: Mean of empty slice.\n",
      "  return avec - avec.mean()\n",
      "C:\\Users\\droid\\AppData\\Local\\Packages\\PythonSoftwareFoundation.Python.3.10_qbz5n2kfra8p0\\LocalCache\\local-packages\\Python310\\site-packages\\numpy\\core\\_methods.py:190: RuntimeWarning: invalid value encountered in double_scalars\n",
      "  ret = ret.dtype.type(ret / rcount)\n",
      "C:\\Users\\droid\\AppData\\Local\\Packages\\PythonSoftwareFoundation.Python.3.10_qbz5n2kfra8p0\\LocalCache\\local-packages\\Python310\\site-packages\\mordred\\Constitutional.py:80: RuntimeWarning: invalid value encountered in double_scalars\n",
      "  return S / self.mol.GetNumAtoms()\n"
     ]
    },
    {
     "name": "stderr",
     "output_type": "stream",
     "text": [
      "100%|██████████| 1/1 [00:02<00:00,  2.06s/it]\n",
      "100%|██████████| 1/1 [00:02<00:00,  2.41s/it]\n",
      "100%|██████████| 1/1 [00:02<00:00,  2.55s/it]\n",
      "100%|██████████| 2/2 [00:02<00:00,  1.17s/it]\n",
      "100%|██████████| 1/1 [00:02<00:00,  2.15s/it]\n",
      "100%|██████████| 2/2 [00:02<00:00,  1.07s/it]\n",
      "100%|██████████| 1/1 [00:02<00:00,  2.03s/it]\n",
      "100%|██████████| 2/2 [00:02<00:00,  1.15s/it]\n",
      "100%|██████████| 2/2 [00:02<00:00,  1.19s/it]\n",
      "100%|██████████| 1/1 [00:02<00:00,  2.18s/it]\n",
      "100%|██████████| 1/1 [00:02<00:00,  2.35s/it]\n",
      "100%|██████████| 2/2 [00:02<00:00,  1.11s/it]\n",
      "100%|██████████| 2/2 [00:02<00:00,  1.12s/it]\n",
      "100%|██████████| 1/1 [00:02<00:00,  2.08s/it]\n",
      "100%|██████████| 2/2 [00:02<00:00,  1.12s/it]\n",
      "100%|██████████| 1/1 [00:03<00:00,  3.35s/it]\n"
     ]
    },
    {
     "name": "stdout",
     "output_type": "stream",
     "text": [
      "C:\\Users\\droid\\AppData\\Local\\Packages\\PythonSoftwareFoundation.Python.3.10_qbz5n2kfra8p0\\LocalCache\\local-packages\\Python310\\site-packages\\numpy\\core\\fromnumeric.py:86: RuntimeWarning: overflow encountered in reduce\n",
      "  return ufunc.reduce(obj, axis, dtype, out, **passkwargs)\n"
     ]
    },
    {
     "name": "stderr",
     "output_type": "stream",
     "text": [
      "100%|██████████| 1/1 [00:02<00:00,  2.12s/it]\n",
      "100%|██████████| 1/1 [00:02<00:00,  2.34s/it]\n",
      "100%|██████████| 1/1 [00:02<00:00,  2.91s/it]\n"
     ]
    },
    {
     "name": "stdout",
     "output_type": "stream",
     "text": [
      "C:\\Users\\droid\\AppData\\Local\\Packages\\PythonSoftwareFoundation.Python.3.10_qbz5n2kfra8p0\\LocalCache\\local-packages\\Python310\\site-packages\\numpy\\core\\fromnumeric.py:86: RuntimeWarning: overflow encountered in reduce\n",
      "  return ufunc.reduce(obj, axis, dtype, out, **passkwargs)\n"
     ]
    },
    {
     "name": "stderr",
     "output_type": "stream",
     "text": [
      "100%|██████████| 2/2 [00:02<00:00,  1.14s/it]\n",
      "100%|██████████| 1/1 [00:02<00:00,  2.55s/it]\n"
     ]
    },
    {
     "name": "stdout",
     "output_type": "stream",
     "text": [
      "C:\\Users\\droid\\AppData\\Local\\Packages\\PythonSoftwareFoundation.Python.3.10_qbz5n2kfra8p0\\LocalCache\\local-packages\\Python310\\site-packages\\mordred\\Autocorrelation.py:97: RuntimeWarning: Mean of empty slice.\n",
      "  return avec - avec.mean()\n",
      "C:\\Users\\droid\\AppData\\Local\\Packages\\PythonSoftwareFoundation.Python.3.10_qbz5n2kfra8p0\\LocalCache\\local-packages\\Python310\\site-packages\\numpy\\core\\_methods.py:190: RuntimeWarning: invalid value encountered in double_scalars\n",
      "  ret = ret.dtype.type(ret / rcount)\n",
      "C:\\Users\\droid\\AppData\\Local\\Packages\\PythonSoftwareFoundation.Python.3.10_qbz5n2kfra8p0\\LocalCache\\local-packages\\Python310\\site-packages\\mordred\\Constitutional.py:80: RuntimeWarning: invalid value encountered in double_scalars\n",
      "  return S / self.mol.GetNumAtoms()\n"
     ]
    },
    {
     "name": "stderr",
     "output_type": "stream",
     "text": [
      "100%|██████████| 2/2 [00:02<00:00,  1.26s/it]\n",
      "100%|██████████| 1/1 [00:02<00:00,  2.36s/it]\n",
      "100%|██████████| 2/2 [00:02<00:00,  1.16s/it]\n",
      "100%|██████████| 2/2 [00:02<00:00,  1.14s/it]\n",
      "100%|██████████| 1/1 [00:02<00:00,  2.22s/it]\n",
      "100%|██████████| 2/2 [00:02<00:00,  1.16s/it]\n",
      "100%|██████████| 1/1 [00:02<00:00,  2.06s/it]\n"
     ]
    },
    {
     "name": "stdout",
     "output_type": "stream",
     "text": [
      "C:\\Users\\droid\\AppData\\Local\\Packages\\PythonSoftwareFoundation.Python.3.10_qbz5n2kfra8p0\\LocalCache\\local-packages\\Python310\\site-packages\\mordred\\Autocorrelation.py:97: RuntimeWarning: Mean of empty slice.\n",
      "  return avec - avec.mean()\n",
      "C:\\Users\\droid\\AppData\\Local\\Packages\\PythonSoftwareFoundation.Python.3.10_qbz5n2kfra8p0\\LocalCache\\local-packages\\Python310\\site-packages\\numpy\\core\\_methods.py:190: RuntimeWarning: invalid value encountered in double_scalars\n",
      "  ret = ret.dtype.type(ret / rcount)\n",
      "C:\\Users\\droid\\AppData\\Local\\Packages\\PythonSoftwareFoundation.Python.3.10_qbz5n2kfra8p0\\LocalCache\\local-packages\\Python310\\site-packages\\mordred\\Constitutional.py:80: RuntimeWarning: invalid value encountered in double_scalars\n",
      "  return S / self.mol.GetNumAtoms()\n"
     ]
    },
    {
     "name": "stderr",
     "output_type": "stream",
     "text": [
      "100%|██████████| 1/1 [00:02<00:00,  2.13s/it]\n"
     ]
    },
    {
     "name": "stdout",
     "output_type": "stream",
     "text": [
      "C:\\Users\\droid\\AppData\\Local\\Packages\\PythonSoftwareFoundation.Python.3.10_qbz5n2kfra8p0\\LocalCache\\local-packages\\Python310\\site-packages\\mordred\\Autocorrelation.py:97: RuntimeWarning: Mean of empty slice.\n",
      "  return avec - avec.mean()\n",
      "C:\\Users\\droid\\AppData\\Local\\Packages\\PythonSoftwareFoundation.Python.3.10_qbz5n2kfra8p0\\LocalCache\\local-packages\\Python310\\site-packages\\numpy\\core\\_methods.py:190: RuntimeWarning: invalid value encountered in double_scalars\n",
      "  ret = ret.dtype.type(ret / rcount)\n",
      "C:\\Users\\droid\\AppData\\Local\\Packages\\PythonSoftwareFoundation.Python.3.10_qbz5n2kfra8p0\\LocalCache\\local-packages\\Python310\\site-packages\\mordred\\Constitutional.py:80: RuntimeWarning: invalid value encountered in double_scalars\n",
      "  return S / self.mol.GetNumAtoms()\n"
     ]
    },
    {
     "name": "stderr",
     "output_type": "stream",
     "text": [
      "100%|██████████| 2/2 [00:03<00:00,  1.59s/it]\n",
      "100%|██████████| 1/1 [00:02<00:00,  2.49s/it]\n",
      " 33%|███▎      | 1/3 [00:03<00:06,  3.06s/it]"
     ]
    },
    {
     "name": "stdout",
     "output_type": "stream",
     "text": [
      "C:\\Users\\droid\\AppData\\Local\\Packages\\PythonSoftwareFoundation.Python.3.10_qbz5n2kfra8p0\\LocalCache\\local-packages\\Python310\\site-packages\\numpy\\core\\fromnumeric.py:86: RuntimeWarning: overflow encountered in reduce\n",
      "  return ufunc.reduce(obj, axis, dtype, out, **passkwargs)\n"
     ]
    },
    {
     "name": "stderr",
     "output_type": "stream",
     "text": [
      "100%|██████████| 3/3 [00:03<00:00,  1.10s/it]\n"
     ]
    },
    {
     "name": "stdout",
     "output_type": "stream",
     "text": [
      "C:\\Users\\droid\\AppData\\Local\\Packages\\PythonSoftwareFoundation.Python.3.10_qbz5n2kfra8p0\\LocalCache\\local-packages\\Python310\\site-packages\\numpy\\core\\fromnumeric.py:86: RuntimeWarning: overflow encountered in reduce\n",
      "  return ufunc.reduce(obj, axis, dtype, out, **passkwargs)\n"
     ]
    },
    {
     "name": "stderr",
     "output_type": "stream",
     "text": [
      "100%|██████████| 2/2 [00:02<00:00,  1.19s/it]\n",
      "100%|██████████| 2/2 [00:02<00:00,  1.17s/it]\n",
      "100%|██████████| 1/1 [00:02<00:00,  2.95s/it]\n",
      "100%|██████████| 1/1 [00:01<00:00,  1.96s/it]\n",
      "100%|██████████| 1/1 [00:02<00:00,  2.06s/it]\n",
      "100%|██████████| 1/1 [00:02<00:00,  2.16s/it]\n",
      "100%|██████████| 1/1 [00:02<00:00,  2.42s/it]\n",
      "100%|██████████| 2/2 [00:02<00:00,  1.24s/it]\n",
      "100%|██████████| 2/2 [00:02<00:00,  1.10s/it]\n",
      "100%|██████████| 1/1 [00:01<00:00,  1.98s/it]\n"
     ]
    },
    {
     "name": "stdout",
     "output_type": "stream",
     "text": [
      "C:\\Users\\droid\\AppData\\Local\\Packages\\PythonSoftwareFoundation.Python.3.10_qbz5n2kfra8p0\\LocalCache\\local-packages\\Python310\\site-packages\\mordred\\Autocorrelation.py:97: RuntimeWarning: Mean of empty slice.\n",
      "  return avec - avec.mean()\n",
      "C:\\Users\\droid\\AppData\\Local\\Packages\\PythonSoftwareFoundation.Python.3.10_qbz5n2kfra8p0\\LocalCache\\local-packages\\Python310\\site-packages\\numpy\\core\\_methods.py:190: RuntimeWarning: invalid value encountered in double_scalars\n",
      "  ret = ret.dtype.type(ret / rcount)\n",
      "C:\\Users\\droid\\AppData\\Local\\Packages\\PythonSoftwareFoundation.Python.3.10_qbz5n2kfra8p0\\LocalCache\\local-packages\\Python310\\site-packages\\mordred\\Constitutional.py:80: RuntimeWarning: invalid value encountered in double_scalars\n",
      "  return S / self.mol.GetNumAtoms()\n"
     ]
    },
    {
     "name": "stderr",
     "output_type": "stream",
     "text": [
      "100%|██████████| 1/1 [00:02<00:00,  2.17s/it]\n"
     ]
    },
    {
     "name": "stdout",
     "output_type": "stream",
     "text": [
      "C:\\Users\\droid\\AppData\\Local\\Packages\\PythonSoftwareFoundation.Python.3.10_qbz5n2kfra8p0\\LocalCache\\local-packages\\Python310\\site-packages\\mordred\\Autocorrelation.py:97: RuntimeWarning: Mean of empty slice.\n",
      "  return avec - avec.mean()\n",
      "C:\\Users\\droid\\AppData\\Local\\Packages\\PythonSoftwareFoundation.Python.3.10_qbz5n2kfra8p0\\LocalCache\\local-packages\\Python310\\site-packages\\numpy\\core\\_methods.py:190: RuntimeWarning: invalid value encountered in double_scalars\n",
      "  ret = ret.dtype.type(ret / rcount)\n",
      "C:\\Users\\droid\\AppData\\Local\\Packages\\PythonSoftwareFoundation.Python.3.10_qbz5n2kfra8p0\\LocalCache\\local-packages\\Python310\\site-packages\\mordred\\Constitutional.py:80: RuntimeWarning: invalid value encountered in double_scalars\n",
      "  return S / self.mol.GetNumAtoms()\n"
     ]
    },
    {
     "name": "stderr",
     "output_type": "stream",
     "text": [
      "100%|██████████| 2/2 [00:02<00:00,  1.12s/it]\n",
      "100%|██████████| 1/1 [00:03<00:00,  3.41s/it]\n"
     ]
    },
    {
     "name": "stdout",
     "output_type": "stream",
     "text": [
      "C:\\Users\\droid\\AppData\\Local\\Packages\\PythonSoftwareFoundation.Python.3.10_qbz5n2kfra8p0\\LocalCache\\local-packages\\Python310\\site-packages\\numpy\\core\\fromnumeric.py:86: RuntimeWarning: overflow encountered in reduce\n",
      "  return ufunc.reduce(obj, axis, dtype, out, **passkwargs)\n"
     ]
    },
    {
     "name": "stderr",
     "output_type": "stream",
     "text": [
      "  0%|          | 0/1 [00:00<?, ?it/s]"
     ]
    }
   ],
   "source": [
    "from mordred import Calculator, descriptors\n",
    "from rdkit import Chem\n",
    "\n",
    "linkers = [smi.strip('\"')[1:-1].replace(\"'\", \"\").split(\", \") for smi in mofid_data['linker'].values]\n",
    "mols = [[Chem.MolFromSmiles(smi) for smi in smi_list] for smi_list in linkers]\n",
    "calc = Calculator(descriptors, ignore_3D=False)\n",
    "def f(mof):\n",
    "    try: return calc.pandas(mof)\n",
    "    except TypeError:\n",
    "        return None\n",
    "    \n",
    "dfs = [f(mof) for mof in mols]\n",
    "data_mordred = pd.DataFrame(columns=dfs[0].columns)\n",
    "\n",
    "for i, filename in enumerate(mofid_data.index):\n",
    "    try:\n",
    "        if linkers[i] != [\"\"]:\n",
    "            data_mordred.loc[filename] = dfs[i].mean()\n",
    "    except AttributeError:\n",
    "        print(f\"{filename:_^20}\")\n",
    "#data_mordred.to_csv(\"../data/all_f_main_dataset_mordred_V2.csv\")"
   ]
  },
  {
   "cell_type": "code",
   "execution_count": null,
   "metadata": {},
   "outputs": [
    {
     "data": {
      "text/html": [
       "<div>\n",
       "<style scoped>\n",
       "    .dataframe tbody tr th:only-of-type {\n",
       "        vertical-align: middle;\n",
       "    }\n",
       "\n",
       "    .dataframe tbody tr th {\n",
       "        vertical-align: top;\n",
       "    }\n",
       "\n",
       "    .dataframe thead th {\n",
       "        text-align: right;\n",
       "    }\n",
       "</style>\n",
       "<table border=\"1\" class=\"dataframe\">\n",
       "  <thead>\n",
       "    <tr style=\"text-align: right;\">\n",
       "      <th></th>\n",
       "      <th>ABC</th>\n",
       "      <th>ABCGG</th>\n",
       "      <th>nAcid</th>\n",
       "      <th>nBase</th>\n",
       "      <th>SpAbs_A</th>\n",
       "      <th>SpMax_A</th>\n",
       "      <th>SpDiam_A</th>\n",
       "      <th>SpAD_A</th>\n",
       "      <th>SpMAD_A</th>\n",
       "      <th>LogEE_A</th>\n",
       "      <th>...</th>\n",
       "      <th>SRW10</th>\n",
       "      <th>TSRW10</th>\n",
       "      <th>MW</th>\n",
       "      <th>AMW</th>\n",
       "      <th>WPath</th>\n",
       "      <th>WPol</th>\n",
       "      <th>Zagreb1</th>\n",
       "      <th>Zagreb2</th>\n",
       "      <th>mZagreb1</th>\n",
       "      <th>mZagreb2</th>\n",
       "    </tr>\n",
       "  </thead>\n",
       "  <tbody>\n",
       "    <tr>\n",
       "      <th>2080334</th>\n",
       "      <td>35.987817</td>\n",
       "      <td>21.201554</td>\n",
       "      <td>2.0</td>\n",
       "      <td>0.0</td>\n",
       "      <td>59.662424</td>\n",
       "      <td>2.385873</td>\n",
       "      <td>4.771746</td>\n",
       "      <td>59.662424</td>\n",
       "      <td>1.297009</td>\n",
       "      <td>4.748596</td>\n",
       "      <td>...</td>\n",
       "      <td>10.634436</td>\n",
       "      <td>83.654352</td>\n",
       "      <td>618.176161</td>\n",
       "      <td>8.585780</td>\n",
       "      <td>8007.0</td>\n",
       "      <td>76.0</td>\n",
       "      <td>240.0</td>\n",
       "      <td>278.0</td>\n",
       "      <td>15.277778</td>\n",
       "      <td>10.00</td>\n",
       "    </tr>\n",
       "    <tr>\n",
       "      <th>2-final</th>\n",
       "      <td>10.606602</td>\n",
       "      <td>8.731144</td>\n",
       "      <td>0.0</td>\n",
       "      <td>0.0</td>\n",
       "      <td>18.877841</td>\n",
       "      <td>2.210509</td>\n",
       "      <td>4.421017</td>\n",
       "      <td>18.877841</td>\n",
       "      <td>1.348417</td>\n",
       "      <td>3.551969</td>\n",
       "      <td>...</td>\n",
       "      <td>9.049115</td>\n",
       "      <td>44.690407</td>\n",
       "      <td>182.084398</td>\n",
       "      <td>7.586850</td>\n",
       "      <td>343.0</td>\n",
       "      <td>15.0</td>\n",
       "      <td>66.0</td>\n",
       "      <td>72.0</td>\n",
       "      <td>3.222222</td>\n",
       "      <td>3.25</td>\n",
       "    </tr>\n",
       "    <tr>\n",
       "      <th>CSV158 initial</th>\n",
       "      <td>10.606602</td>\n",
       "      <td>9.598735</td>\n",
       "      <td>0.0</td>\n",
       "      <td>0.0</td>\n",
       "      <td>18.383629</td>\n",
       "      <td>2.198691</td>\n",
       "      <td>4.255477</td>\n",
       "      <td>18.383629</td>\n",
       "      <td>1.313116</td>\n",
       "      <td>3.556652</td>\n",
       "      <td>...</td>\n",
       "      <td>8.859505</td>\n",
       "      <td>59.440193</td>\n",
       "      <td>190.121846</td>\n",
       "      <td>6.790066</td>\n",
       "      <td>373.0</td>\n",
       "      <td>11.0</td>\n",
       "      <td>66.0</td>\n",
       "      <td>72.0</td>\n",
       "      <td>3.222222</td>\n",
       "      <td>3.25</td>\n",
       "    </tr>\n",
       "    <tr>\n",
       "      <th>1-final</th>\n",
       "      <td>10.606602</td>\n",
       "      <td>8.731144</td>\n",
       "      <td>0.0</td>\n",
       "      <td>0.0</td>\n",
       "      <td>18.877841</td>\n",
       "      <td>2.210509</td>\n",
       "      <td>4.421017</td>\n",
       "      <td>18.877841</td>\n",
       "      <td>1.348417</td>\n",
       "      <td>3.551969</td>\n",
       "      <td>...</td>\n",
       "      <td>9.049115</td>\n",
       "      <td>44.690407</td>\n",
       "      <td>182.084398</td>\n",
       "      <td>7.586850</td>\n",
       "      <td>343.0</td>\n",
       "      <td>15.0</td>\n",
       "      <td>66.0</td>\n",
       "      <td>72.0</td>\n",
       "      <td>3.222222</td>\n",
       "      <td>3.25</td>\n",
       "    </tr>\n",
       "    <tr>\n",
       "      <th>CSV157 initial</th>\n",
       "      <td>10.606602</td>\n",
       "      <td>9.598735</td>\n",
       "      <td>0.0</td>\n",
       "      <td>0.0</td>\n",
       "      <td>18.383629</td>\n",
       "      <td>2.198691</td>\n",
       "      <td>4.255477</td>\n",
       "      <td>18.383629</td>\n",
       "      <td>1.313116</td>\n",
       "      <td>3.556652</td>\n",
       "      <td>...</td>\n",
       "      <td>8.859505</td>\n",
       "      <td>59.440193</td>\n",
       "      <td>190.121846</td>\n",
       "      <td>6.790066</td>\n",
       "      <td>373.0</td>\n",
       "      <td>11.0</td>\n",
       "      <td>66.0</td>\n",
       "      <td>72.0</td>\n",
       "      <td>3.222222</td>\n",
       "      <td>3.25</td>\n",
       "    </tr>\n",
       "    <tr>\n",
       "      <th>2080270</th>\n",
       "      <td>35.987817</td>\n",
       "      <td>21.201554</td>\n",
       "      <td>2.0</td>\n",
       "      <td>0.0</td>\n",
       "      <td>59.662424</td>\n",
       "      <td>2.385873</td>\n",
       "      <td>4.771746</td>\n",
       "      <td>59.662424</td>\n",
       "      <td>1.297009</td>\n",
       "      <td>4.748596</td>\n",
       "      <td>...</td>\n",
       "      <td>10.634436</td>\n",
       "      <td>83.654352</td>\n",
       "      <td>618.176161</td>\n",
       "      <td>8.585780</td>\n",
       "      <td>8007.0</td>\n",
       "      <td>76.0</td>\n",
       "      <td>240.0</td>\n",
       "      <td>278.0</td>\n",
       "      <td>15.277778</td>\n",
       "      <td>10.00</td>\n",
       "    </tr>\n",
       "  </tbody>\n",
       "</table>\n",
       "<p>6 rows × 1826 columns</p>\n",
       "</div>"
      ],
      "text/plain": [
       "                      ABC      ABCGG  nAcid  nBase    SpAbs_A   SpMax_A  \\\n",
       "2080334         35.987817  21.201554    2.0    0.0  59.662424  2.385873   \n",
       "2-final         10.606602   8.731144    0.0    0.0  18.877841  2.210509   \n",
       "CSV158 initial  10.606602   9.598735    0.0    0.0  18.383629  2.198691   \n",
       "1-final         10.606602   8.731144    0.0    0.0  18.877841  2.210509   \n",
       "CSV157 initial  10.606602   9.598735    0.0    0.0  18.383629  2.198691   \n",
       "2080270         35.987817  21.201554    2.0    0.0  59.662424  2.385873   \n",
       "\n",
       "                SpDiam_A     SpAD_A   SpMAD_A   LogEE_A  ...      SRW10  \\\n",
       "2080334         4.771746  59.662424  1.297009  4.748596  ...  10.634436   \n",
       "2-final         4.421017  18.877841  1.348417  3.551969  ...   9.049115   \n",
       "CSV158 initial  4.255477  18.383629  1.313116  3.556652  ...   8.859505   \n",
       "1-final         4.421017  18.877841  1.348417  3.551969  ...   9.049115   \n",
       "CSV157 initial  4.255477  18.383629  1.313116  3.556652  ...   8.859505   \n",
       "2080270         4.771746  59.662424  1.297009  4.748596  ...  10.634436   \n",
       "\n",
       "                   TSRW10          MW       AMW   WPath  WPol  Zagreb1  \\\n",
       "2080334         83.654352  618.176161  8.585780  8007.0  76.0    240.0   \n",
       "2-final         44.690407  182.084398  7.586850   343.0  15.0     66.0   \n",
       "CSV158 initial  59.440193  190.121846  6.790066   373.0  11.0     66.0   \n",
       "1-final         44.690407  182.084398  7.586850   343.0  15.0     66.0   \n",
       "CSV157 initial  59.440193  190.121846  6.790066   373.0  11.0     66.0   \n",
       "2080270         83.654352  618.176161  8.585780  8007.0  76.0    240.0   \n",
       "\n",
       "                Zagreb2   mZagreb1  mZagreb2  \n",
       "2080334           278.0  15.277778     10.00  \n",
       "2-final            72.0   3.222222      3.25  \n",
       "CSV158 initial     72.0   3.222222      3.25  \n",
       "1-final            72.0   3.222222      3.25  \n",
       "CSV157 initial     72.0   3.222222      3.25  \n",
       "2080270           278.0  15.277778     10.00  \n",
       "\n",
       "[6 rows x 1826 columns]"
      ]
     },
     "execution_count": 83,
     "metadata": {},
     "output_type": "execute_result"
    }
   ],
   "source": [
    "data_mordred"
   ]
  },
  {
   "cell_type": "markdown",
   "metadata": {},
   "source": [
    "## Node"
   ]
  },
  {
   "cell_type": "code",
   "execution_count": null,
   "metadata": {},
   "outputs": [],
   "source": [
    "def metal_from_node(node: str):\n",
    "    import re\n",
    "    \"\"\"\n",
    "    input: smilesNodes: str\n",
    "    return: \n",
    "    'metals' in node: list\n",
    "    'unique' types of metals: np.array, dtype='<U2'\n",
    "    'count' of unique: np.array, dtype=int\n",
    "    \"\"\"\n",
    "    # \"O[Zr]123(O)[OH]4[Zr]56([O]3[Zr]37([OH]2[Zr]28([O]1[Zr]14([O]6[Zr]([OH]53)([OH]21)([O]78)(O)O)([OH2])([OH2])O)[OH2])([OH2])([OH2])O)[OH2]\"\n",
    "    node = node.replace(\"OH\", \"\").replace(\"O\", \"\")\n",
    "    node = node.replace(\"[\", \"\").replace(\"]\", \"\").replace(\")\", \"\").replace(\"(\", \"\").replace(\",\", \"\")\n",
    "    node = re.sub(r\"\\d\", \"\", node) # replace numbers\n",
    "    #print(node)\n",
    "    # \"ZrZrZrZrZrZr\"\n",
    "    start_cut = 0\n",
    "    metals = []\n",
    "    for i, char in enumerate(node[1:]):\n",
    "        if not char.islower():\n",
    "            metals.append(node[start_cut:i+1])\n",
    "            start_cut = i+1\n",
    "    metals.append(node[start_cut:])\n",
    "    unique, counts = np.unique(np.array(metals), return_counts=True)\n",
    "    return metals, unique, counts"
   ]
  },
  {
   "cell_type": "code",
   "execution_count": null,
   "metadata": {},
   "outputs": [],
   "source": [
    "elemental_descriptors = pd.read_csv(\"../data/elemental_descriptors.csv\")"
   ]
  },
  {
   "cell_type": "code",
   "execution_count": 85,
   "metadata": {},
   "outputs": [],
   "source": [
    "node_descriptors = pd.DataFrame(columns=(\"n_metals\", 'n_types_metals', 'Atomic_Number', 'Atomic_Weight', 'Atomic Radius',\n",
    "       'Mulliken EN', 'polarizability(A^3)', 'electron affinity(kJ/mol)'))\n",
    "\n",
    "d = ['Atomic_Number', 'Atomic_Weight', 'Atomic Radius',\n",
    "       'Mulliken EN', 'polarizability(A^3)', 'electron affinity(kJ/mol)']\n",
    "\n",
    "for filename, node in zip(mofid_data.index, mofid_data[\"node\"]):\n",
    "    try:\n",
    "       metals, unique, count = metal_from_node(node.replace(\"'\", \"\").replace(\" \", \"\").replace(\"%\", \"\"))\n",
    "       #print(metals)\n",
    "       n_metals = count.sum()\n",
    "       n_metals_types = count.__len__()\n",
    "       df = pd.DataFrame(columns=d, index=[range(count.sum())])\n",
    "       for metal in metals:\n",
    "          #print(metal)\n",
    "          df.loc[len(df)] = elemental_descriptors.loc[elemental_descriptors[\"Symbol\"] == metal].loc[:,d].iloc[0]\n",
    "       node_descriptors.loc[filename] = n_metals, n_metals_types, *df.mean().array\n",
    "    except IndexError:\n",
    "       print(f\"Error with {node}\")"
   ]
  },
  {
   "cell_type": "code",
   "execution_count": 86,
   "metadata": {},
   "outputs": [
    {
     "data": {
      "text/html": [
       "<div>\n",
       "<style scoped>\n",
       "    .dataframe tbody tr th:only-of-type {\n",
       "        vertical-align: middle;\n",
       "    }\n",
       "\n",
       "    .dataframe tbody tr th {\n",
       "        vertical-align: top;\n",
       "    }\n",
       "\n",
       "    .dataframe thead th {\n",
       "        text-align: right;\n",
       "    }\n",
       "</style>\n",
       "<table border=\"1\" class=\"dataframe\">\n",
       "  <thead>\n",
       "    <tr style=\"text-align: right;\">\n",
       "      <th></th>\n",
       "      <th>n_metals</th>\n",
       "      <th>n_types_metals</th>\n",
       "      <th>Atomic_Number</th>\n",
       "      <th>Atomic_Weight</th>\n",
       "      <th>Atomic Radius</th>\n",
       "      <th>Mulliken EN</th>\n",
       "      <th>polarizability(A^3)</th>\n",
       "      <th>electron affinity(kJ/mol)</th>\n",
       "    </tr>\n",
       "  </thead>\n",
       "  <tbody>\n",
       "    <tr>\n",
       "      <th>2080334</th>\n",
       "      <td>2.0</td>\n",
       "      <td>1.0</td>\n",
       "      <td>27.0</td>\n",
       "      <td>58.933200</td>\n",
       "      <td>1.52</td>\n",
       "      <td>4.300000</td>\n",
       "      <td>7.5</td>\n",
       "      <td>64.000000</td>\n",
       "    </tr>\n",
       "    <tr>\n",
       "      <th>2-final</th>\n",
       "      <td>1.0</td>\n",
       "      <td>1.0</td>\n",
       "      <td>28.0</td>\n",
       "      <td>58.693400</td>\n",
       "      <td>1.49</td>\n",
       "      <td>4.400000</td>\n",
       "      <td>6.8</td>\n",
       "      <td>112.000000</td>\n",
       "    </tr>\n",
       "    <tr>\n",
       "      <th>CSV158 initial</th>\n",
       "      <td>1.0</td>\n",
       "      <td>1.0</td>\n",
       "      <td>29.0</td>\n",
       "      <td>63.546000</td>\n",
       "      <td>1.45</td>\n",
       "      <td>4.480000</td>\n",
       "      <td>6.7</td>\n",
       "      <td>119.000000</td>\n",
       "    </tr>\n",
       "    <tr>\n",
       "      <th>1-final</th>\n",
       "      <td>1.0</td>\n",
       "      <td>1.0</td>\n",
       "      <td>27.0</td>\n",
       "      <td>58.933200</td>\n",
       "      <td>1.52</td>\n",
       "      <td>4.300000</td>\n",
       "      <td>7.5</td>\n",
       "      <td>64.000000</td>\n",
       "    </tr>\n",
       "    <tr>\n",
       "      <th>CSV157 initial</th>\n",
       "      <td>3.0</td>\n",
       "      <td>2.0</td>\n",
       "      <td>21.0</td>\n",
       "      <td>44.817133</td>\n",
       "      <td>1.01</td>\n",
       "      <td>7.026667</td>\n",
       "      <td>3.7</td>\n",
       "      <td>272.333333</td>\n",
       "    </tr>\n",
       "    <tr>\n",
       "      <th>2080270</th>\n",
       "      <td>2.0</td>\n",
       "      <td>1.0</td>\n",
       "      <td>27.0</td>\n",
       "      <td>58.933200</td>\n",
       "      <td>1.52</td>\n",
       "      <td>4.300000</td>\n",
       "      <td>7.5</td>\n",
       "      <td>64.000000</td>\n",
       "    </tr>\n",
       "  </tbody>\n",
       "</table>\n",
       "</div>"
      ],
      "text/plain": [
       "                n_metals  n_types_metals  Atomic_Number  Atomic_Weight  \\\n",
       "2080334              2.0             1.0           27.0      58.933200   \n",
       "2-final              1.0             1.0           28.0      58.693400   \n",
       "CSV158 initial       1.0             1.0           29.0      63.546000   \n",
       "1-final              1.0             1.0           27.0      58.933200   \n",
       "CSV157 initial       3.0             2.0           21.0      44.817133   \n",
       "2080270              2.0             1.0           27.0      58.933200   \n",
       "\n",
       "                Atomic Radius  Mulliken EN  polarizability(A^3)  \\\n",
       "2080334                  1.52     4.300000                  7.5   \n",
       "2-final                  1.49     4.400000                  6.8   \n",
       "CSV158 initial           1.45     4.480000                  6.7   \n",
       "1-final                  1.52     4.300000                  7.5   \n",
       "CSV157 initial           1.01     7.026667                  3.7   \n",
       "2080270                  1.52     4.300000                  7.5   \n",
       "\n",
       "                electron affinity(kJ/mol)  \n",
       "2080334                         64.000000  \n",
       "2-final                        112.000000  \n",
       "CSV158 initial                 119.000000  \n",
       "1-final                         64.000000  \n",
       "CSV157 initial                 272.333333  \n",
       "2080270                         64.000000  "
      ]
     },
     "execution_count": 86,
     "metadata": {},
     "output_type": "execute_result"
    }
   ],
   "source": [
    "node_descriptors"
   ]
  },
  {
   "cell_type": "markdown",
   "metadata": {},
   "source": [
    "# concatenate"
   ]
  },
  {
   "cell_type": "code",
   "execution_count": 94,
   "metadata": {},
   "outputs": [],
   "source": [
    "data = pd.concat([zeo_data, cif_data, data_mordred, node_descriptors], axis=1)"
   ]
  },
  {
   "cell_type": "code",
   "execution_count": 95,
   "metadata": {},
   "outputs": [
    {
     "data": {
      "text/html": [
       "<div>\n",
       "<style scoped>\n",
       "    .dataframe tbody tr th:only-of-type {\n",
       "        vertical-align: middle;\n",
       "    }\n",
       "\n",
       "    .dataframe tbody tr th {\n",
       "        vertical-align: top;\n",
       "    }\n",
       "\n",
       "    .dataframe thead th {\n",
       "        text-align: right;\n",
       "    }\n",
       "</style>\n",
       "<table border=\"1\" class=\"dataframe\">\n",
       "  <thead>\n",
       "    <tr style=\"text-align: right;\">\n",
       "      <th></th>\n",
       "      <th>lcd</th>\n",
       "      <th>pld</th>\n",
       "      <th>a</th>\n",
       "      <th>b</th>\n",
       "      <th>c</th>\n",
       "      <th>alpha</th>\n",
       "      <th>beta</th>\n",
       "      <th>gamma</th>\n",
       "      <th>volume</th>\n",
       "      <th>sg_number</th>\n",
       "      <th>...</th>\n",
       "      <th>mZagreb1</th>\n",
       "      <th>mZagreb2</th>\n",
       "      <th>n_metals</th>\n",
       "      <th>n_types_metals</th>\n",
       "      <th>Atomic_Number</th>\n",
       "      <th>Atomic_Weight</th>\n",
       "      <th>Atomic Radius</th>\n",
       "      <th>Mulliken EN</th>\n",
       "      <th>polarizability(A^3)</th>\n",
       "      <th>electron affinity(kJ/mol)</th>\n",
       "    </tr>\n",
       "  </thead>\n",
       "  <tbody>\n",
       "    <tr>\n",
       "      <th>1-final</th>\n",
       "      <td>2.88964</td>\n",
       "      <td>1.23051</td>\n",
       "      <td>9.30808</td>\n",
       "      <td>13.6588</td>\n",
       "      <td>13.6588</td>\n",
       "      <td>95.8388</td>\n",
       "      <td>90.0</td>\n",
       "      <td>90.000</td>\n",
       "      <td>3649.562351</td>\n",
       "      <td>4.0</td>\n",
       "      <td>...</td>\n",
       "      <td>3.222222</td>\n",
       "      <td>3.25</td>\n",
       "      <td>1.0</td>\n",
       "      <td>1.0</td>\n",
       "      <td>27.0</td>\n",
       "      <td>58.933200</td>\n",
       "      <td>1.52</td>\n",
       "      <td>4.300000</td>\n",
       "      <td>7.5</td>\n",
       "      <td>64.000000</td>\n",
       "    </tr>\n",
       "    <tr>\n",
       "      <th>2-final</th>\n",
       "      <td>2.84798</td>\n",
       "      <td>1.19852</td>\n",
       "      <td>9.26690</td>\n",
       "      <td>13.5294</td>\n",
       "      <td>13.5294</td>\n",
       "      <td>95.6800</td>\n",
       "      <td>90.0</td>\n",
       "      <td>90.000</td>\n",
       "      <td>3589.395825</td>\n",
       "      <td>4.0</td>\n",
       "      <td>...</td>\n",
       "      <td>3.222222</td>\n",
       "      <td>3.25</td>\n",
       "      <td>1.0</td>\n",
       "      <td>1.0</td>\n",
       "      <td>28.0</td>\n",
       "      <td>58.693400</td>\n",
       "      <td>1.49</td>\n",
       "      <td>4.400000</td>\n",
       "      <td>6.8</td>\n",
       "      <td>112.000000</td>\n",
       "    </tr>\n",
       "    <tr>\n",
       "      <th>2080270</th>\n",
       "      <td>9.71973</td>\n",
       "      <td>8.88093</td>\n",
       "      <td>24.75070</td>\n",
       "      <td>24.7507</td>\n",
       "      <td>24.7507</td>\n",
       "      <td>90.0000</td>\n",
       "      <td>90.0</td>\n",
       "      <td>90.000</td>\n",
       "      <td>24068.819523</td>\n",
       "      <td>92.0</td>\n",
       "      <td>...</td>\n",
       "      <td>15.277778</td>\n",
       "      <td>10.00</td>\n",
       "      <td>2.0</td>\n",
       "      <td>1.0</td>\n",
       "      <td>27.0</td>\n",
       "      <td>58.933200</td>\n",
       "      <td>1.52</td>\n",
       "      <td>4.300000</td>\n",
       "      <td>7.5</td>\n",
       "      <td>64.000000</td>\n",
       "    </tr>\n",
       "    <tr>\n",
       "      <th>2080334</th>\n",
       "      <td>28.46977</td>\n",
       "      <td>25.67396</td>\n",
       "      <td>17.51110</td>\n",
       "      <td>17.5111</td>\n",
       "      <td>17.5111</td>\n",
       "      <td>90.0000</td>\n",
       "      <td>90.0</td>\n",
       "      <td>90.000</td>\n",
       "      <td>12273.732180</td>\n",
       "      <td>91.0</td>\n",
       "      <td>...</td>\n",
       "      <td>15.277778</td>\n",
       "      <td>10.00</td>\n",
       "      <td>2.0</td>\n",
       "      <td>1.0</td>\n",
       "      <td>27.0</td>\n",
       "      <td>58.933200</td>\n",
       "      <td>1.52</td>\n",
       "      <td>4.300000</td>\n",
       "      <td>7.5</td>\n",
       "      <td>64.000000</td>\n",
       "    </tr>\n",
       "    <tr>\n",
       "      <th>CSV157 initial</th>\n",
       "      <td>3.22228</td>\n",
       "      <td>1.32818</td>\n",
       "      <td>9.50620</td>\n",
       "      <td>9.7578</td>\n",
       "      <td>9.7578</td>\n",
       "      <td>90.0000</td>\n",
       "      <td>90.0</td>\n",
       "      <td>90.000</td>\n",
       "      <td>1384.390626</td>\n",
       "      <td>33.0</td>\n",
       "      <td>...</td>\n",
       "      <td>3.222222</td>\n",
       "      <td>3.25</td>\n",
       "      <td>3.0</td>\n",
       "      <td>2.0</td>\n",
       "      <td>21.0</td>\n",
       "      <td>44.817133</td>\n",
       "      <td>1.01</td>\n",
       "      <td>7.026667</td>\n",
       "      <td>3.7</td>\n",
       "      <td>272.333333</td>\n",
       "    </tr>\n",
       "    <tr>\n",
       "      <th>CSV158 initial</th>\n",
       "      <td>1.65324</td>\n",
       "      <td>0.93324</td>\n",
       "      <td>7.60610</td>\n",
       "      <td>8.9119</td>\n",
       "      <td>8.9119</td>\n",
       "      <td>90.0000</td>\n",
       "      <td>90.0</td>\n",
       "      <td>114.965</td>\n",
       "      <td>1081.833153</td>\n",
       "      <td>14.0</td>\n",
       "      <td>...</td>\n",
       "      <td>3.222222</td>\n",
       "      <td>3.25</td>\n",
       "      <td>1.0</td>\n",
       "      <td>1.0</td>\n",
       "      <td>29.0</td>\n",
       "      <td>63.546000</td>\n",
       "      <td>1.45</td>\n",
       "      <td>4.480000</td>\n",
       "      <td>6.7</td>\n",
       "      <td>119.000000</td>\n",
       "    </tr>\n",
       "  </tbody>\n",
       "</table>\n",
       "<p>6 rows × 1844 columns</p>\n",
       "</div>"
      ],
      "text/plain": [
       "                     lcd       pld         a        b        c    alpha  beta  \\\n",
       "1-final          2.88964   1.23051   9.30808  13.6588  13.6588  95.8388  90.0   \n",
       "2-final          2.84798   1.19852   9.26690  13.5294  13.5294  95.6800  90.0   \n",
       "2080270          9.71973   8.88093  24.75070  24.7507  24.7507  90.0000  90.0   \n",
       "2080334         28.46977  25.67396  17.51110  17.5111  17.5111  90.0000  90.0   \n",
       "CSV157 initial   3.22228   1.32818   9.50620   9.7578   9.7578  90.0000  90.0   \n",
       "CSV158 initial   1.65324   0.93324   7.60610   8.9119   8.9119  90.0000  90.0   \n",
       "\n",
       "                  gamma        volume  sg_number  ...   mZagreb1  mZagreb2  \\\n",
       "1-final          90.000   3649.562351        4.0  ...   3.222222      3.25   \n",
       "2-final          90.000   3589.395825        4.0  ...   3.222222      3.25   \n",
       "2080270          90.000  24068.819523       92.0  ...  15.277778     10.00   \n",
       "2080334          90.000  12273.732180       91.0  ...  15.277778     10.00   \n",
       "CSV157 initial   90.000   1384.390626       33.0  ...   3.222222      3.25   \n",
       "CSV158 initial  114.965   1081.833153       14.0  ...   3.222222      3.25   \n",
       "\n",
       "                n_metals  n_types_metals  Atomic_Number  Atomic_Weight  \\\n",
       "1-final              1.0             1.0           27.0      58.933200   \n",
       "2-final              1.0             1.0           28.0      58.693400   \n",
       "2080270              2.0             1.0           27.0      58.933200   \n",
       "2080334              2.0             1.0           27.0      58.933200   \n",
       "CSV157 initial       3.0             2.0           21.0      44.817133   \n",
       "CSV158 initial       1.0             1.0           29.0      63.546000   \n",
       "\n",
       "                Atomic Radius  Mulliken EN  polarizability(A^3)  \\\n",
       "1-final                  1.52     4.300000                  7.5   \n",
       "2-final                  1.49     4.400000                  6.8   \n",
       "2080270                  1.52     4.300000                  7.5   \n",
       "2080334                  1.52     4.300000                  7.5   \n",
       "CSV157 initial           1.01     7.026667                  3.7   \n",
       "CSV158 initial           1.45     4.480000                  6.7   \n",
       "\n",
       "                electron affinity(kJ/mol)  \n",
       "1-final                         64.000000  \n",
       "2-final                        112.000000  \n",
       "2080270                         64.000000  \n",
       "2080334                         64.000000  \n",
       "CSV157 initial                 272.333333  \n",
       "CSV158 initial                 119.000000  \n",
       "\n",
       "[6 rows x 1844 columns]"
      ]
     },
     "execution_count": 95,
     "metadata": {},
     "output_type": "execute_result"
    }
   ],
   "source": [
    "data"
   ]
  },
  {
   "cell_type": "markdown",
   "metadata": {},
   "source": [
    "# Preprocessing"
   ]
  },
  {
   "cell_type": "code",
   "execution_count": 91,
   "metadata": {},
   "outputs": [],
   "source": [
    "import joblib"
   ]
  },
  {
   "cell_type": "code",
   "execution_count": 93,
   "metadata": {},
   "outputs": [],
   "source": [
    "from preprocessing.preproc_model import PreprocessingModel\n",
    "model = joblib.load(\"../qmof_datasets/scaler.pkl\")"
   ]
  },
  {
   "cell_type": "code",
   "execution_count": 97,
   "metadata": {},
   "outputs": [],
   "source": [
    "x = model.transform(data.rename({ \"sg_number\": \"spacegroupNumber\"}, axis=1))"
   ]
  },
  {
   "cell_type": "code",
   "execution_count": 100,
   "metadata": {},
   "outputs": [],
   "source": [
    "x.to_csv(\"../main_datasets/test_cifs.csv\")"
   ]
  }
 ],
 "metadata": {
  "kernelspec": {
   "display_name": "Python 3",
   "language": "python",
   "name": "python3"
  },
  "language_info": {
   "codemirror_mode": {
    "name": "ipython",
    "version": 3
   },
   "file_extension": ".py",
   "mimetype": "text/x-python",
   "name": "python",
   "nbconvert_exporter": "python",
   "pygments_lexer": "ipython3",
   "version": "3.10.11"
  }
 },
 "nbformat": 4,
 "nbformat_minor": 2
}
