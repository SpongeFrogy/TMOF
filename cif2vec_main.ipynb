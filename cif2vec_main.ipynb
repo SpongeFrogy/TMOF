{
 "cells": [
  {
   "cell_type": "code",
   "execution_count": 1,
   "metadata": {},
   "outputs": [],
   "source": [
    "import numpy as np\n",
    "import pandas as pd\n",
    "import os"
   ]
  },
  {
   "cell_type": "code",
   "execution_count": 2,
   "metadata": {},
   "outputs": [],
   "source": [
    "import warnings\n",
    "warnings.simplefilter(\"ignore\")"
   ]
  },
  {
   "cell_type": "markdown",
   "metadata": {},
   "source": [
    "# cif2vec"
   ]
  },
  {
   "cell_type": "markdown",
   "metadata": {},
   "source": [
    "## cell params"
   ]
  },
  {
   "cell_type": "code",
   "execution_count": 3,
   "metadata": {},
   "outputs": [],
   "source": [
    "from pymatgen.io.cif import CifParser\n",
    "import fnmatch"
   ]
  },
  {
   "cell_type": "code",
   "execution_count": 4,
   "metadata": {},
   "outputs": [],
   "source": [
    "main_folder = r\"cifs/\"\n",
    "\n",
    "cif_data = pd.DataFrame(columns=[\"a\", \"b\", \"c\", \"alpha\", \"beta\", \"gamma\", \"volume\", \"sg_number\"])"
   ]
  },
  {
   "cell_type": "code",
   "execution_count": 5,
   "metadata": {},
   "outputs": [],
   "source": [
    "bad_parse  = []\n",
    "bad_get_sg = []"
   ]
  },
  {
   "cell_type": "code",
   "execution_count": 6,
   "metadata": {},
   "outputs": [
    {
     "name": "stdout",
     "output_type": "stream",
     "text": [
      "Error with prase: no parameters in fromCAU130GPa.cif\n",
      "Error with prase: no parameters in fromNOTT3000GPa.cif\n",
      "Error with prase: no parameters in toNOTT3001GPashear.cif\n"
     ]
    }
   ],
   "source": [
    "for file in os.listdir(main_folder):\n",
    "    if fnmatch.fnmatch(file, '*.cif'):\n",
    "        try:\n",
    "            # print(os.path.join(file))\n",
    "            struct = CifParser(os.path.join(main_folder, file)).get_structures()[0]\n",
    "            try:\n",
    "                d_lattice = struct.as_dict()['lattice']\n",
    "                property = [d_lattice[\"a\"], d_lattice[\"b\"], d_lattice[\"b\"],\n",
    "                            d_lattice[\"alpha\"], d_lattice[\"beta\"], d_lattice[\"gamma\"], d_lattice[\"volume\"],\n",
    "                            struct.get_space_group_info()[1]]\n",
    "                cif_data.loc[file[:-4]] = property\n",
    "            except ValueError:\n",
    "                print(f\"Error with get sg: {os.path.join(file)}\")\n",
    "                bad_get_sg.append(os.path.join(file))\n",
    "        except ValueError:\n",
    "            print(f\"Error with prase: no structure in {file}\")\n",
    "            bad_parse.append(file)\n",
    "        except KeyError:\n",
    "            print(f\"Error with prase: no parameters in {file}\")\n",
    "            bad_parse.append(file)\n"
   ]
  },
  {
   "cell_type": "code",
   "execution_count": 7,
   "metadata": {},
   "outputs": [
    {
     "data": {
      "text/html": [
       "<div>\n",
       "<style scoped>\n",
       "    .dataframe tbody tr th:only-of-type {\n",
       "        vertical-align: middle;\n",
       "    }\n",
       "\n",
       "    .dataframe tbody tr th {\n",
       "        vertical-align: top;\n",
       "    }\n",
       "\n",
       "    .dataframe thead th {\n",
       "        text-align: right;\n",
       "    }\n",
       "</style>\n",
       "<table border=\"1\" class=\"dataframe\">\n",
       "  <thead>\n",
       "    <tr style=\"text-align: right;\">\n",
       "      <th></th>\n",
       "      <th>a</th>\n",
       "      <th>b</th>\n",
       "      <th>c</th>\n",
       "      <th>alpha</th>\n",
       "      <th>beta</th>\n",
       "      <th>gamma</th>\n",
       "      <th>volume</th>\n",
       "      <th>sg_number</th>\n",
       "    </tr>\n",
       "  </thead>\n",
       "  <tbody>\n",
       "    <tr>\n",
       "      <th>12fromMnMOF1toacetonsolvated1977803</th>\n",
       "      <td>12.307000</td>\n",
       "      <td>13.006000</td>\n",
       "      <td>13.006000</td>\n",
       "      <td>90.000000</td>\n",
       "      <td>90.000000</td>\n",
       "      <td>92.100000</td>\n",
       "      <td>5060.570412</td>\n",
       "      <td>11.0</td>\n",
       "    </tr>\n",
       "    <tr>\n",
       "      <th>1cpdesMOFbacktotheinitial1944823</th>\n",
       "      <td>9.718219</td>\n",
       "      <td>9.718219</td>\n",
       "      <td>9.718219</td>\n",
       "      <td>105.830113</td>\n",
       "      <td>105.830113</td>\n",
       "      <td>113.157513</td>\n",
       "      <td>815.303443</td>\n",
       "      <td>69.0</td>\n",
       "    </tr>\n",
       "    <tr>\n",
       "      <th>1from61055570</th>\n",
       "      <td>8.272300</td>\n",
       "      <td>8.634300</td>\n",
       "      <td>8.634300</td>\n",
       "      <td>90.000000</td>\n",
       "      <td>90.000000</td>\n",
       "      <td>92.360000</td>\n",
       "      <td>1451.919669</td>\n",
       "      <td>14.0</td>\n",
       "    </tr>\n",
       "    <tr>\n",
       "      <th>1initialMnMOF1DMF989581</th>\n",
       "      <td>12.289000</td>\n",
       "      <td>25.974000</td>\n",
       "      <td>25.974000</td>\n",
       "      <td>90.000000</td>\n",
       "      <td>90.000000</td>\n",
       "      <td>93.570000</td>\n",
       "      <td>10290.612205</td>\n",
       "      <td>14.0</td>\n",
       "    </tr>\n",
       "    <tr>\n",
       "      <th>1to71031676</th>\n",
       "      <td>8.359200</td>\n",
       "      <td>8.549800</td>\n",
       "      <td>8.549800</td>\n",
       "      <td>111.219000</td>\n",
       "      <td>106.893000</td>\n",
       "      <td>92.670000</td>\n",
       "      <td>725.669576</td>\n",
       "      <td>2.0</td>\n",
       "    </tr>\n",
       "    <tr>\n",
       "      <th>...</th>\n",
       "      <td>...</td>\n",
       "      <td>...</td>\n",
       "      <td>...</td>\n",
       "      <td>...</td>\n",
       "      <td>...</td>\n",
       "      <td>...</td>\n",
       "      <td>...</td>\n",
       "      <td>...</td>\n",
       "    </tr>\n",
       "    <tr>\n",
       "      <th>toMOF5C7desolvatedphase2040923</th>\n",
       "      <td>12.786337</td>\n",
       "      <td>12.786337</td>\n",
       "      <td>12.786337</td>\n",
       "      <td>84.507765</td>\n",
       "      <td>84.507765</td>\n",
       "      <td>84.507765</td>\n",
       "      <td>2063.376733</td>\n",
       "      <td>148.0</td>\n",
       "    </tr>\n",
       "    <tr>\n",
       "      <th>topart4</th>\n",
       "      <td>17.554724</td>\n",
       "      <td>17.554724</td>\n",
       "      <td>17.554724</td>\n",
       "      <td>90.000000</td>\n",
       "      <td>90.000000</td>\n",
       "      <td>93.289645</td>\n",
       "      <td>12339.495390</td>\n",
       "      <td>20.0</td>\n",
       "    </tr>\n",
       "    <tr>\n",
       "      <th>toSTA26ZrCchangedsymmetry1571656</th>\n",
       "      <td>27.968600</td>\n",
       "      <td>28.355728</td>\n",
       "      <td>28.355728</td>\n",
       "      <td>90.748117</td>\n",
       "      <td>90.000000</td>\n",
       "      <td>90.000000</td>\n",
       "      <td>22486.160078</td>\n",
       "      <td>63.0</td>\n",
       "    </tr>\n",
       "    <tr>\n",
       "      <th>toVMOP1590348</th>\n",
       "      <td>21.598587</td>\n",
       "      <td>21.598587</td>\n",
       "      <td>21.598587</td>\n",
       "      <td>109.471221</td>\n",
       "      <td>109.471221</td>\n",
       "      <td>109.471221</td>\n",
       "      <td>7756.291592</td>\n",
       "      <td>217.0</td>\n",
       "    </tr>\n",
       "    <tr>\n",
       "      <th>toZn1withDMF238859</th>\n",
       "      <td>14.354746</td>\n",
       "      <td>14.354746</td>\n",
       "      <td>14.354746</td>\n",
       "      <td>95.803270</td>\n",
       "      <td>116.707983</td>\n",
       "      <td>116.707983</td>\n",
       "      <td>2183.514111</td>\n",
       "      <td>140.0</td>\n",
       "    </tr>\n",
       "  </tbody>\n",
       "</table>\n",
       "<p>100 rows × 8 columns</p>\n",
       "</div>"
      ],
      "text/plain": [
       "                                             a          b          c  \\\n",
       "12fromMnMOF1toacetonsolvated1977803  12.307000  13.006000  13.006000   \n",
       "1cpdesMOFbacktotheinitial1944823      9.718219   9.718219   9.718219   \n",
       "1from61055570                         8.272300   8.634300   8.634300   \n",
       "1initialMnMOF1DMF989581              12.289000  25.974000  25.974000   \n",
       "1to71031676                           8.359200   8.549800   8.549800   \n",
       "...                                        ...        ...        ...   \n",
       "toMOF5C7desolvatedphase2040923       12.786337  12.786337  12.786337   \n",
       "topart4                              17.554724  17.554724  17.554724   \n",
       "toSTA26ZrCchangedsymmetry1571656     27.968600  28.355728  28.355728   \n",
       "toVMOP1590348                        21.598587  21.598587  21.598587   \n",
       "toZn1withDMF238859                   14.354746  14.354746  14.354746   \n",
       "\n",
       "                                          alpha        beta       gamma  \\\n",
       "12fromMnMOF1toacetonsolvated1977803   90.000000   90.000000   92.100000   \n",
       "1cpdesMOFbacktotheinitial1944823     105.830113  105.830113  113.157513   \n",
       "1from61055570                         90.000000   90.000000   92.360000   \n",
       "1initialMnMOF1DMF989581               90.000000   90.000000   93.570000   \n",
       "1to71031676                          111.219000  106.893000   92.670000   \n",
       "...                                         ...         ...         ...   \n",
       "toMOF5C7desolvatedphase2040923        84.507765   84.507765   84.507765   \n",
       "topart4                               90.000000   90.000000   93.289645   \n",
       "toSTA26ZrCchangedsymmetry1571656      90.748117   90.000000   90.000000   \n",
       "toVMOP1590348                        109.471221  109.471221  109.471221   \n",
       "toZn1withDMF238859                    95.803270  116.707983  116.707983   \n",
       "\n",
       "                                           volume  sg_number  \n",
       "12fromMnMOF1toacetonsolvated1977803   5060.570412       11.0  \n",
       "1cpdesMOFbacktotheinitial1944823       815.303443       69.0  \n",
       "1from61055570                         1451.919669       14.0  \n",
       "1initialMnMOF1DMF989581              10290.612205       14.0  \n",
       "1to71031676                            725.669576        2.0  \n",
       "...                                           ...        ...  \n",
       "toMOF5C7desolvatedphase2040923        2063.376733      148.0  \n",
       "topart4                              12339.495390       20.0  \n",
       "toSTA26ZrCchangedsymmetry1571656     22486.160078       63.0  \n",
       "toVMOP1590348                         7756.291592      217.0  \n",
       "toZn1withDMF238859                    2183.514111      140.0  \n",
       "\n",
       "[100 rows x 8 columns]"
      ]
     },
     "execution_count": 7,
     "metadata": {},
     "output_type": "execute_result"
    }
   ],
   "source": [
    "cif_data # all good"
   ]
  },
  {
   "cell_type": "markdown",
   "metadata": {},
   "source": [
    "## Zeo++ \n",
    "notes that zeo++ data was extracted with `-ha` flag"
   ]
  },
  {
   "cell_type": "code",
   "execution_count": 8,
   "metadata": {},
   "outputs": [],
   "source": [
    "zeo_data = pd.read_csv(\"preprocessing/zeopp/zeo_data_.csv\", index_col=0)"
   ]
  },
  {
   "cell_type": "code",
   "execution_count": 9,
   "metadata": {},
   "outputs": [
    {
     "data": {
      "text/html": [
       "<div>\n",
       "<style scoped>\n",
       "    .dataframe tbody tr th:only-of-type {\n",
       "        vertical-align: middle;\n",
       "    }\n",
       "\n",
       "    .dataframe tbody tr th {\n",
       "        vertical-align: top;\n",
       "    }\n",
       "\n",
       "    .dataframe thead th {\n",
       "        text-align: right;\n",
       "    }\n",
       "</style>\n",
       "<table border=\"1\" class=\"dataframe\">\n",
       "  <thead>\n",
       "    <tr style=\"text-align: right;\">\n",
       "      <th></th>\n",
       "      <th>pld</th>\n",
       "      <th>lcd</th>\n",
       "    </tr>\n",
       "  </thead>\n",
       "  <tbody>\n",
       "    <tr>\n",
       "      <th>toDUT49Ni100K2014970</th>\n",
       "      <td>12.24942</td>\n",
       "      <td>20.69898</td>\n",
       "    </tr>\n",
       "    <tr>\n",
       "      <th>from975784</th>\n",
       "      <td>5.51053</td>\n",
       "      <td>10.35538</td>\n",
       "    </tr>\n",
       "    <tr>\n",
       "      <th>fromCuIMOF12084812</th>\n",
       "      <td>1.08583</td>\n",
       "      <td>2.60690</td>\n",
       "    </tr>\n",
       "    <tr>\n",
       "      <th>initial11455983</th>\n",
       "      <td>1.12479</td>\n",
       "      <td>1.97310</td>\n",
       "    </tr>\n",
       "    <tr>\n",
       "      <th>tocompoundwithhexane1403844</th>\n",
       "      <td>1.22634</td>\n",
       "      <td>3.82901</td>\n",
       "    </tr>\n",
       "    <tr>\n",
       "      <th>...</th>\n",
       "      <td>...</td>\n",
       "      <td>...</td>\n",
       "    </tr>\n",
       "    <tr>\n",
       "      <th>fromPhaseI1031344</th>\n",
       "      <td>1.11924</td>\n",
       "      <td>3.00480</td>\n",
       "    </tr>\n",
       "    <tr>\n",
       "      <th>from31483716</th>\n",
       "      <td>2.83690</td>\n",
       "      <td>3.43213</td>\n",
       "    </tr>\n",
       "    <tr>\n",
       "      <th>toanie202202073sup0001nku128thf</th>\n",
       "      <td>4.59433</td>\n",
       "      <td>5.90286</td>\n",
       "    </tr>\n",
       "    <tr>\n",
       "      <th>finalMOFs1961202</th>\n",
       "      <td>3.20661</td>\n",
       "      <td>4.92448</td>\n",
       "    </tr>\n",
       "    <tr>\n",
       "      <th>fromUPC6001942055</th>\n",
       "      <td>5.12105</td>\n",
       "      <td>7.45566</td>\n",
       "    </tr>\n",
       "  </tbody>\n",
       "</table>\n",
       "<p>100 rows × 2 columns</p>\n",
       "</div>"
      ],
      "text/plain": [
       "                                      pld       lcd\n",
       "toDUT49Ni100K2014970             12.24942  20.69898\n",
       "from975784                        5.51053  10.35538\n",
       "fromCuIMOF12084812                1.08583   2.60690\n",
       "initial11455983                   1.12479   1.97310\n",
       "tocompoundwithhexane1403844       1.22634   3.82901\n",
       "...                                   ...       ...\n",
       "fromPhaseI1031344                 1.11924   3.00480\n",
       "from31483716                      2.83690   3.43213\n",
       "toanie202202073sup0001nku128thf   4.59433   5.90286\n",
       "finalMOFs1961202                  3.20661   4.92448\n",
       "fromUPC6001942055                 5.12105   7.45566\n",
       "\n",
       "[100 rows x 2 columns]"
      ]
     },
     "execution_count": 9,
     "metadata": {},
     "output_type": "execute_result"
    }
   ],
   "source": [
    "zeo_data"
   ]
  },
  {
   "cell_type": "markdown",
   "metadata": {},
   "source": [
    "## mofid"
   ]
  },
  {
   "cell_type": "code",
   "execution_count": 10,
   "metadata": {},
   "outputs": [],
   "source": [
    "mofid_data = pd.read_csv(\"preprocessing/mofid/mofid_data_.csv\", index_col=0)"
   ]
  },
  {
   "cell_type": "markdown",
   "metadata": {},
   "source": [
    "## Mordred"
   ]
  },
  {
   "cell_type": "code",
   "execution_count": 11,
   "metadata": {},
   "outputs": [
    {
     "name": "stderr",
     "output_type": "stream",
     "text": [
      "[14:50:34] Explicit valence for atom # 17 C, 5, is greater than permitted\n",
      "[14:50:34] Explicit valence for atom # 14 C, 5, is greater than permitted\n",
      "[14:50:34] Explicit valence for atom # 13 C, 5, is greater than permitted\n",
      "[14:50:34] Explicit valence for atom # 0 N, 4, is greater than permitted\n",
      "100%|██████████| 1/1 [00:01<00:00,  1.74s/it]\n"
     ]
    },
    {
     "name": "stdout",
     "output_type": "stream",
     "text": [
      "C:\\Users\\droid\\AppData\\Local\\Packages\\PythonSoftwareFoundation.Python.3.10_qbz5n2kfra8p0\\LocalCache\\local-packages\\Python310\\site-packages\\mordred\\Autocorrelation.py:97: RuntimeWarning: Mean of empty slice.\n",
      "  return avec - avec.mean()\n",
      "C:\\Users\\droid\\AppData\\Local\\Packages\\PythonSoftwareFoundation.Python.3.10_qbz5n2kfra8p0\\LocalCache\\local-packages\\Python310\\site-packages\\numpy\\core\\_methods.py:190: RuntimeWarning: invalid value encountered in double_scalars\n",
      "  ret = ret.dtype.type(ret / rcount)\n",
      "C:\\Users\\droid\\AppData\\Local\\Packages\\PythonSoftwareFoundation.Python.3.10_qbz5n2kfra8p0\\LocalCache\\local-packages\\Python310\\site-packages\\mordred\\Constitutional.py:80: RuntimeWarning: invalid value encountered in double_scalars\n",
      "  return S / self.mol.GetNumAtoms()\n"
     ]
    },
    {
     "name": "stderr",
     "output_type": "stream",
     "text": [
      "100%|██████████| 1/1 [00:01<00:00,  1.71s/it]\n"
     ]
    },
    {
     "name": "stdout",
     "output_type": "stream",
     "text": [
      "C:\\Users\\droid\\AppData\\Local\\Packages\\PythonSoftwareFoundation.Python.3.10_qbz5n2kfra8p0\\LocalCache\\local-packages\\Python310\\site-packages\\mordred\\Autocorrelation.py:97: RuntimeWarning: Mean of empty slice.\n",
      "  return avec - avec.mean()\n",
      "C:\\Users\\droid\\AppData\\Local\\Packages\\PythonSoftwareFoundation.Python.3.10_qbz5n2kfra8p0\\LocalCache\\local-packages\\Python310\\site-packages\\numpy\\core\\_methods.py:190: RuntimeWarning: invalid value encountered in double_scalars\n",
      "  ret = ret.dtype.type(ret / rcount)\n",
      "C:\\Users\\droid\\AppData\\Local\\Packages\\PythonSoftwareFoundation.Python.3.10_qbz5n2kfra8p0\\LocalCache\\local-packages\\Python310\\site-packages\\mordred\\Constitutional.py:80: RuntimeWarning: invalid value encountered in double_scalars\n",
      "  return S / self.mol.GetNumAtoms()\n"
     ]
    },
    {
     "name": "stderr",
     "output_type": "stream",
     "text": [
      "100%|██████████| 1/1 [00:02<00:00,  2.11s/it]\n",
      "100%|██████████| 1/1 [00:01<00:00,  1.86s/it]\n",
      "100%|██████████| 1/1 [00:02<00:00,  2.69s/it]\n",
      "  0%|          | 0/2 [00:00<?, ?it/s]\n",
      "100%|██████████| 1/1 [00:03<00:00,  3.86s/it]\n",
      "100%|██████████| 1/1 [00:02<00:00,  2.40s/it]\n",
      "100%|██████████| 1/1 [00:02<00:00,  2.20s/it]\n",
      "100%|██████████| 1/1 [00:02<00:00,  2.62s/it]\n"
     ]
    },
    {
     "name": "stdout",
     "output_type": "stream",
     "text": [
      "C:\\Users\\droid\\AppData\\Local\\Packages\\PythonSoftwareFoundation.Python.3.10_qbz5n2kfra8p0\\LocalCache\\local-packages\\Python310\\site-packages\\numpy\\core\\fromnumeric.py:86: RuntimeWarning: overflow encountered in reduce\n",
      "  return ufunc.reduce(obj, axis, dtype, out, **passkwargs)\n"
     ]
    },
    {
     "name": "stderr",
     "output_type": "stream",
     "text": [
      "100%|██████████| 1/1 [00:01<00:00,  2.00s/it]\n",
      "100%|██████████| 1/1 [00:02<00:00,  2.71s/it]\n",
      "100%|██████████| 1/1 [00:01<00:00,  1.87s/it]\n",
      "100%|██████████| 1/1 [00:02<00:00,  2.07s/it]\n",
      "100%|██████████| 1/1 [00:01<00:00,  1.83s/it]\n",
      "100%|██████████| 2/2 [00:01<00:00,  1.01it/s]\n",
      "100%|██████████| 1/1 [00:02<00:00,  2.62s/it]\n"
     ]
    },
    {
     "name": "stdout",
     "output_type": "stream",
     "text": [
      "C:\\Users\\droid\\AppData\\Local\\Packages\\PythonSoftwareFoundation.Python.3.10_qbz5n2kfra8p0\\LocalCache\\local-packages\\Python310\\site-packages\\numpy\\core\\fromnumeric.py:86: RuntimeWarning: overflow encountered in reduce\n",
      "  return ufunc.reduce(obj, axis, dtype, out, **passkwargs)\n"
     ]
    },
    {
     "name": "stderr",
     "output_type": "stream",
     "text": [
      "100%|██████████| 2/2 [00:02<00:00,  1.08s/it]\n",
      "100%|██████████| 1/1 [00:01<00:00,  1.73s/it]\n",
      "100%|██████████| 1/1 [00:01<00:00,  1.75s/it]\n",
      "100%|██████████| 1/1 [00:01<00:00,  1.83s/it]\n",
      "100%|██████████| 1/1 [00:01<00:00,  1.76s/it]\n",
      "100%|██████████| 2/2 [00:01<00:00,  1.01it/s]\n",
      "100%|██████████| 2/2 [00:02<00:00,  1.07s/it]\n",
      "100%|██████████| 3/3 [00:02<00:00,  1.32it/s]\n",
      "100%|██████████| 1/1 [00:01<00:00,  1.75s/it]\n",
      "100%|██████████| 2/2 [00:01<00:00,  1.02it/s]\n",
      "100%|██████████| 2/2 [00:01<00:00,  1.01it/s]\n",
      "100%|██████████| 2/2 [00:01<00:00,  1.03it/s]\n",
      "100%|██████████| 1/1 [00:01<00:00,  1.70s/it]\n",
      "100%|██████████| 3/3 [00:02<00:00,  1.46it/s]\n",
      "100%|██████████| 1/1 [00:01<00:00,  1.87s/it]\n",
      "100%|██████████| 1/1 [00:01<00:00,  1.65s/it]\n",
      "100%|██████████| 2/2 [00:01<00:00,  1.09it/s]\n",
      "100%|██████████| 1/1 [00:01<00:00,  1.78s/it]\n",
      "100%|██████████| 1/1 [00:01<00:00,  1.65s/it]\n",
      "100%|██████████| 1/1 [00:01<00:00,  1.67s/it]\n",
      "100%|██████████| 1/1 [00:01<00:00,  1.69s/it]\n",
      "100%|██████████| 2/2 [00:01<00:00,  1.00it/s]\n",
      "100%|██████████| 1/1 [00:01<00:00,  1.75s/it]\n"
     ]
    },
    {
     "name": "stdout",
     "output_type": "stream",
     "text": [
      "C:\\Users\\droid\\AppData\\Local\\Packages\\PythonSoftwareFoundation.Python.3.10_qbz5n2kfra8p0\\LocalCache\\local-packages\\Python310\\site-packages\\mordred\\Autocorrelation.py:97: RuntimeWarning: Mean of empty slice.\n",
      "  return avec - avec.mean()\n",
      "C:\\Users\\droid\\AppData\\Local\\Packages\\PythonSoftwareFoundation.Python.3.10_qbz5n2kfra8p0\\LocalCache\\local-packages\\Python310\\site-packages\\numpy\\core\\_methods.py:190: RuntimeWarning: invalid value encountered in double_scalars\n",
      "  ret = ret.dtype.type(ret / rcount)\n",
      "C:\\Users\\droid\\AppData\\Local\\Packages\\PythonSoftwareFoundation.Python.3.10_qbz5n2kfra8p0\\LocalCache\\local-packages\\Python310\\site-packages\\mordred\\Constitutional.py:80: RuntimeWarning: invalid value encountered in double_scalars\n",
      "  return S / self.mol.GetNumAtoms()\n"
     ]
    },
    {
     "name": "stderr",
     "output_type": "stream",
     "text": [
      "100%|██████████| 1/1 [00:01<00:00,  1.67s/it]\n",
      "100%|██████████| 2/2 [00:01<00:00,  1.01it/s]\n",
      "100%|██████████| 2/2 [00:02<00:00,  1.05s/it]\n",
      "100%|██████████| 2/2 [00:01<00:00,  1.06it/s]\n",
      "100%|██████████| 1/1 [00:01<00:00,  1.68s/it]\n",
      "100%|██████████| 1/1 [00:01<00:00,  1.70s/it]\n",
      "100%|██████████| 1/1 [00:02<00:00,  2.38s/it]\n"
     ]
    },
    {
     "name": "stdout",
     "output_type": "stream",
     "text": [
      "C:\\Users\\droid\\AppData\\Local\\Packages\\PythonSoftwareFoundation.Python.3.10_qbz5n2kfra8p0\\LocalCache\\local-packages\\Python310\\site-packages\\numpy\\core\\fromnumeric.py:86: RuntimeWarning: overflow encountered in reduce\n",
      "  return ufunc.reduce(obj, axis, dtype, out, **passkwargs)\n"
     ]
    },
    {
     "name": "stderr",
     "output_type": "stream",
     "text": [
      "100%|██████████| 1/1 [00:01<00:00,  1.71s/it]\n",
      "100%|██████████| 1/1 [00:01<00:00,  1.90s/it]\n",
      "100%|██████████| 1/1 [00:02<00:00,  2.44s/it]\n"
     ]
    },
    {
     "name": "stdout",
     "output_type": "stream",
     "text": [
      "C:\\Users\\droid\\AppData\\Local\\Packages\\PythonSoftwareFoundation.Python.3.10_qbz5n2kfra8p0\\LocalCache\\local-packages\\Python310\\site-packages\\numpy\\core\\fromnumeric.py:86: RuntimeWarning: overflow encountered in reduce\n",
      "  return ufunc.reduce(obj, axis, dtype, out, **passkwargs)\n"
     ]
    },
    {
     "name": "stderr",
     "output_type": "stream",
     "text": [
      "100%|██████████| 2/2 [00:01<00:00,  1.04it/s]\n",
      "100%|██████████| 1/1 [00:01<00:00,  1.62s/it]\n"
     ]
    },
    {
     "name": "stdout",
     "output_type": "stream",
     "text": [
      "C:\\Users\\droid\\AppData\\Local\\Packages\\PythonSoftwareFoundation.Python.3.10_qbz5n2kfra8p0\\LocalCache\\local-packages\\Python310\\site-packages\\mordred\\Autocorrelation.py:97: RuntimeWarning: Mean of empty slice.\n",
      "  return avec - avec.mean()\n",
      "C:\\Users\\droid\\AppData\\Local\\Packages\\PythonSoftwareFoundation.Python.3.10_qbz5n2kfra8p0\\LocalCache\\local-packages\\Python310\\site-packages\\numpy\\core\\_methods.py:190: RuntimeWarning: invalid value encountered in double_scalars\n",
      "  ret = ret.dtype.type(ret / rcount)\n",
      "C:\\Users\\droid\\AppData\\Local\\Packages\\PythonSoftwareFoundation.Python.3.10_qbz5n2kfra8p0\\LocalCache\\local-packages\\Python310\\site-packages\\mordred\\Constitutional.py:80: RuntimeWarning: invalid value encountered in double_scalars\n",
      "  return S / self.mol.GetNumAtoms()\n"
     ]
    },
    {
     "name": "stderr",
     "output_type": "stream",
     "text": [
      "100%|██████████| 2/2 [00:02<00:00,  1.06s/it]\n",
      "100%|██████████| 2/2 [00:01<00:00,  1.01it/s]\n",
      "100%|██████████| 2/2 [00:01<00:00,  1.03it/s]\n",
      "100%|██████████| 1/1 [00:01<00:00,  1.89s/it]\n",
      "100%|██████████| 2/2 [00:01<00:00,  1.03it/s]\n",
      "100%|██████████| 1/1 [00:01<00:00,  1.63s/it]\n"
     ]
    },
    {
     "name": "stdout",
     "output_type": "stream",
     "text": [
      "C:\\Users\\droid\\AppData\\Local\\Packages\\PythonSoftwareFoundation.Python.3.10_qbz5n2kfra8p0\\LocalCache\\local-packages\\Python310\\site-packages\\mordred\\Autocorrelation.py:97: RuntimeWarning: Mean of empty slice.\n",
      "  return avec - avec.mean()\n",
      "C:\\Users\\droid\\AppData\\Local\\Packages\\PythonSoftwareFoundation.Python.3.10_qbz5n2kfra8p0\\LocalCache\\local-packages\\Python310\\site-packages\\numpy\\core\\_methods.py:190: RuntimeWarning: invalid value encountered in double_scalars\n",
      "  ret = ret.dtype.type(ret / rcount)\n",
      "C:\\Users\\droid\\AppData\\Local\\Packages\\PythonSoftwareFoundation.Python.3.10_qbz5n2kfra8p0\\LocalCache\\local-packages\\Python310\\site-packages\\mordred\\Constitutional.py:80: RuntimeWarning: invalid value encountered in double_scalars\n",
      "  return S / self.mol.GetNumAtoms()\n"
     ]
    },
    {
     "name": "stderr",
     "output_type": "stream",
     "text": [
      "100%|██████████| 2/2 [00:02<00:00,  1.03s/it]\n",
      "100%|██████████| 1/1 [00:01<00:00,  1.88s/it]\n",
      " 33%|███▎      | 1/3 [00:02<00:04,  2.41s/it]"
     ]
    },
    {
     "name": "stdout",
     "output_type": "stream",
     "text": [
      "C:\\Users\\droid\\AppData\\Local\\Packages\\PythonSoftwareFoundation.Python.3.10_qbz5n2kfra8p0\\LocalCache\\local-packages\\Python310\\site-packages\\numpy\\core\\fromnumeric.py:86: RuntimeWarning: overflow encountered in reduce\n",
      "  return ufunc.reduce(obj, axis, dtype, out, **passkwargs)\n"
     ]
    },
    {
     "name": "stderr",
     "output_type": "stream",
     "text": [
      "100%|██████████| 3/3 [00:02<00:00,  1.15it/s]\n"
     ]
    },
    {
     "name": "stdout",
     "output_type": "stream",
     "text": [
      "C:\\Users\\droid\\AppData\\Local\\Packages\\PythonSoftwareFoundation.Python.3.10_qbz5n2kfra8p0\\LocalCache\\local-packages\\Python310\\site-packages\\numpy\\core\\fromnumeric.py:86: RuntimeWarning: overflow encountered in reduce\n",
      "  return ufunc.reduce(obj, axis, dtype, out, **passkwargs)\n"
     ]
    },
    {
     "name": "stderr",
     "output_type": "stream",
     "text": [
      "100%|██████████| 2/2 [00:01<00:00,  1.08it/s]\n",
      "100%|██████████| 2/2 [00:01<00:00,  1.01it/s]\n",
      "100%|██████████| 1/1 [00:01<00:00,  1.70s/it]\n",
      "100%|██████████| 1/1 [00:01<00:00,  1.75s/it]\n",
      "100%|██████████| 2/2 [00:01<00:00,  1.08it/s]\n",
      "100%|██████████| 2/2 [00:01<00:00,  1.10it/s]\n",
      "100%|██████████| 1/1 [00:01<00:00,  1.61s/it]\n"
     ]
    },
    {
     "name": "stdout",
     "output_type": "stream",
     "text": [
      "C:\\Users\\droid\\AppData\\Local\\Packages\\PythonSoftwareFoundation.Python.3.10_qbz5n2kfra8p0\\LocalCache\\local-packages\\Python310\\site-packages\\mordred\\Autocorrelation.py:97: RuntimeWarning: Mean of empty slice.\n",
      "  return avec - avec.mean()\n",
      "C:\\Users\\droid\\AppData\\Local\\Packages\\PythonSoftwareFoundation.Python.3.10_qbz5n2kfra8p0\\LocalCache\\local-packages\\Python310\\site-packages\\numpy\\core\\_methods.py:190: RuntimeWarning: invalid value encountered in double_scalars\n",
      "  ret = ret.dtype.type(ret / rcount)\n",
      "C:\\Users\\droid\\AppData\\Local\\Packages\\PythonSoftwareFoundation.Python.3.10_qbz5n2kfra8p0\\LocalCache\\local-packages\\Python310\\site-packages\\mordred\\Constitutional.py:80: RuntimeWarning: invalid value encountered in double_scalars\n",
      "  return S / self.mol.GetNumAtoms()\n"
     ]
    },
    {
     "name": "stderr",
     "output_type": "stream",
     "text": [
      "100%|██████████| 1/1 [00:01<00:00,  1.60s/it]\n"
     ]
    },
    {
     "name": "stdout",
     "output_type": "stream",
     "text": [
      "C:\\Users\\droid\\AppData\\Local\\Packages\\PythonSoftwareFoundation.Python.3.10_qbz5n2kfra8p0\\LocalCache\\local-packages\\Python310\\site-packages\\mordred\\Autocorrelation.py:97: RuntimeWarning: Mean of empty slice.\n",
      "  return avec - avec.mean()\n",
      "C:\\Users\\droid\\AppData\\Local\\Packages\\PythonSoftwareFoundation.Python.3.10_qbz5n2kfra8p0\\LocalCache\\local-packages\\Python310\\site-packages\\numpy\\core\\_methods.py:190: RuntimeWarning: invalid value encountered in double_scalars\n",
      "  ret = ret.dtype.type(ret / rcount)\n",
      "C:\\Users\\droid\\AppData\\Local\\Packages\\PythonSoftwareFoundation.Python.3.10_qbz5n2kfra8p0\\LocalCache\\local-packages\\Python310\\site-packages\\mordred\\Constitutional.py:80: RuntimeWarning: invalid value encountered in double_scalars\n",
      "  return S / self.mol.GetNumAtoms()\n"
     ]
    },
    {
     "name": "stderr",
     "output_type": "stream",
     "text": [
      "100%|██████████| 1/1 [00:03<00:00,  3.67s/it]\n"
     ]
    },
    {
     "name": "stdout",
     "output_type": "stream",
     "text": [
      "C:\\Users\\droid\\AppData\\Local\\Packages\\PythonSoftwareFoundation.Python.3.10_qbz5n2kfra8p0\\LocalCache\\local-packages\\Python310\\site-packages\\numpy\\core\\fromnumeric.py:86: RuntimeWarning: overflow encountered in reduce\n",
      "  return ufunc.reduce(obj, axis, dtype, out, **passkwargs)\n"
     ]
    },
    {
     "name": "stderr",
     "output_type": "stream",
     "text": [
      "100%|██████████| 1/1 [00:02<00:00,  2.30s/it]\n",
      "100%|██████████| 1/1 [00:02<00:00,  2.05s/it]\n",
      "100%|██████████| 2/2 [00:03<00:00,  1.77s/it]\n",
      "100%|██████████| 2/2 [00:02<00:00,  1.01s/it]\n",
      "100%|██████████| 1/1 [00:01<00:00,  1.82s/it]\n",
      "100%|██████████| 2/2 [00:02<00:00,  1.00s/it]\n",
      "100%|██████████| 1/1 [00:01<00:00,  1.95s/it]\n"
     ]
    },
    {
     "name": "stdout",
     "output_type": "stream",
     "text": [
      "C:\\Users\\droid\\AppData\\Local\\Packages\\PythonSoftwareFoundation.Python.3.10_qbz5n2kfra8p0\\LocalCache\\local-packages\\Python310\\site-packages\\mordred\\Autocorrelation.py:97: RuntimeWarning: Mean of empty slice.\n",
      "  return avec - avec.mean()\n",
      "C:\\Users\\droid\\AppData\\Local\\Packages\\PythonSoftwareFoundation.Python.3.10_qbz5n2kfra8p0\\LocalCache\\local-packages\\Python310\\site-packages\\numpy\\core\\_methods.py:190: RuntimeWarning: invalid value encountered in double_scalars\n",
      "  ret = ret.dtype.type(ret / rcount)\n",
      "C:\\Users\\droid\\AppData\\Local\\Packages\\PythonSoftwareFoundation.Python.3.10_qbz5n2kfra8p0\\LocalCache\\local-packages\\Python310\\site-packages\\mordred\\Constitutional.py:80: RuntimeWarning: invalid value encountered in double_scalars\n",
      "  return S / self.mol.GetNumAtoms()\n"
     ]
    },
    {
     "name": "stderr",
     "output_type": "stream",
     "text": [
      "100%|██████████| 1/1 [00:02<00:00,  2.23s/it]\n",
      "100%|██████████| 2/2 [00:02<00:00,  1.07s/it]\n",
      "100%|██████████| 3/3 [00:02<00:00,  1.03it/s]\n",
      "100%|██████████| 1/1 [00:02<00:00,  2.07s/it]\n",
      "100%|██████████| 1/1 [00:02<00:00,  2.03s/it]\n",
      "100%|██████████| 1/1 [00:01<00:00,  1.97s/it]\n",
      "100%|██████████| 1/1 [00:01<00:00,  1.90s/it]\n",
      "100%|██████████| 1/1 [00:01<00:00,  1.87s/it]\n",
      "100%|██████████| 2/2 [00:01<00:00,  1.03it/s]\n",
      "100%|██████████| 2/2 [00:02<00:00,  1.03s/it]\n",
      "100%|██████████| 1/1 [00:01<00:00,  1.93s/it]\n",
      "100%|██████████| 1/1 [00:01<00:00,  1.72s/it]\n"
     ]
    },
    {
     "name": "stdout",
     "output_type": "stream",
     "text": [
      "C:\\Users\\droid\\AppData\\Local\\Packages\\PythonSoftwareFoundation.Python.3.10_qbz5n2kfra8p0\\LocalCache\\local-packages\\Python310\\site-packages\\mordred\\Autocorrelation.py:97: RuntimeWarning: Mean of empty slice.\n",
      "  return avec - avec.mean()\n",
      "C:\\Users\\droid\\AppData\\Local\\Packages\\PythonSoftwareFoundation.Python.3.10_qbz5n2kfra8p0\\LocalCache\\local-packages\\Python310\\site-packages\\numpy\\core\\_methods.py:190: RuntimeWarning: invalid value encountered in double_scalars\n",
      "  ret = ret.dtype.type(ret / rcount)\n",
      "C:\\Users\\droid\\AppData\\Local\\Packages\\PythonSoftwareFoundation.Python.3.10_qbz5n2kfra8p0\\LocalCache\\local-packages\\Python310\\site-packages\\mordred\\Constitutional.py:80: RuntimeWarning: invalid value encountered in double_scalars\n",
      "  return S / self.mol.GetNumAtoms()\n"
     ]
    },
    {
     "name": "stderr",
     "output_type": "stream",
     "text": [
      "100%|██████████| 1/1 [00:02<00:00,  2.58s/it]\n"
     ]
    },
    {
     "name": "stdout",
     "output_type": "stream",
     "text": [
      "C:\\Users\\droid\\AppData\\Local\\Packages\\PythonSoftwareFoundation.Python.3.10_qbz5n2kfra8p0\\LocalCache\\local-packages\\Python310\\site-packages\\numpy\\core\\fromnumeric.py:86: RuntimeWarning: overflow encountered in reduce\n",
      "  return ufunc.reduce(obj, axis, dtype, out, **passkwargs)\n"
     ]
    },
    {
     "name": "stderr",
     "output_type": "stream",
     "text": [
      "100%|██████████| 1/1 [00:01<00:00,  1.88s/it]\n",
      "100%|██████████| 1/1 [00:01<00:00,  1.82s/it]\n",
      "100%|██████████| 1/1 [00:02<00:00,  2.38s/it]\n"
     ]
    },
    {
     "name": "stdout",
     "output_type": "stream",
     "text": [
      "C:\\Users\\droid\\AppData\\Local\\Packages\\PythonSoftwareFoundation.Python.3.10_qbz5n2kfra8p0\\LocalCache\\local-packages\\Python310\\site-packages\\numpy\\core\\fromnumeric.py:86: RuntimeWarning: overflow encountered in reduce\n",
      "  return ufunc.reduce(obj, axis, dtype, out, **passkwargs)\n"
     ]
    },
    {
     "name": "stderr",
     "output_type": "stream",
     "text": [
      "100%|██████████| 1/1 [00:01<00:00,  1.84s/it]\n",
      "100%|██████████| 1/1 [00:01<00:00,  2.00s/it]\n",
      "100%|██████████| 1/1 [00:01<00:00,  1.80s/it]\n",
      "100%|██████████| 1/1 [00:01<00:00,  1.78s/it]\n",
      "  0%|          | 0/1 [00:00<?, ?it/s]\n",
      "100%|██████████| 1/1 [00:01<00:00,  1.77s/it]\n",
      "  0%|          | 0/3 [00:00<?, ?it/s]\n",
      "100%|██████████| 4/4 [00:02<00:00,  1.63it/s]\n",
      "100%|██████████| 1/1 [00:02<00:00,  2.13s/it]\n"
     ]
    },
    {
     "name": "stdout",
     "output_type": "stream",
     "text": [
      "_initialMOF1014506__\n",
      "tochangedstructure1014507\n",
      "____from2007086_____\n"
     ]
    }
   ],
   "source": [
    "from mordred import Calculator, descriptors\n",
    "from rdkit import Chem\n",
    "\n",
    "linkers = [smi.strip('\"')[1:-1].replace(\"'\", \"\").split(\", \") for smi in mofid_data['linker'].values]\n",
    "mols = [[Chem.MolFromSmiles(smi) for smi in smi_list] for smi_list in linkers]\n",
    "calc = Calculator(descriptors, ignore_3D=False)\n",
    "def f(mof):\n",
    "    try: return calc.pandas(mof)\n",
    "    except TypeError:\n",
    "        return None\n",
    "    \n",
    "dfs = [f(mof) for mof in mols]\n",
    "data_mordred = pd.DataFrame(columns=dfs[0].columns)\n",
    "\n",
    "for i, filename in enumerate(mofid_data.index):\n",
    "    try:\n",
    "        if linkers[i] != [\"\"]:\n",
    "            data_mordred.loc[filename] = dfs[i].mean()\n",
    "    except AttributeError:\n",
    "        print(f\"{filename:_^20}\")\n",
    "#data_mordred.to_csv(\"../data/all_f_main_dataset_mordred_V2.csv\")"
   ]
  },
  {
   "cell_type": "markdown",
   "metadata": {},
   "source": [
    "## Node"
   ]
  },
  {
   "cell_type": "code",
   "execution_count": 12,
   "metadata": {},
   "outputs": [],
   "source": [
    "def metal_from_node(node: str):\n",
    "    import re\n",
    "    \"\"\"\n",
    "    input: smilesNodes: str\n",
    "    return: \n",
    "    'metals' in node: list\n",
    "    'unique' types of metals: np.array, dtype='<U2'\n",
    "    'count' of unique: np.array, dtype=int\n",
    "    \"\"\"\n",
    "    # \"O[Zr]123(O)[OH]4[Zr]56([O]3[Zr]37([OH]2[Zr]28([O]1[Zr]14([O]6[Zr]([OH]53)([OH]21)([O]78)(O)O)([OH2])([OH2])O)[OH2])([OH2])([OH2])O)[OH2]\"\n",
    "    node = node.replace(\"OH\", \"\").replace(\"O\", \"\")\n",
    "    node = node.replace(\"[\", \"\").replace(\"]\", \"\").replace(\")\", \"\").replace(\"(\", \"\").replace(\",\", \"\")\n",
    "    node = re.sub(r\"\\d\", \"\", node) # replace numbers\n",
    "    #print(node)\n",
    "    # \"ZrZrZrZrZrZr\"\n",
    "    start_cut = 0\n",
    "    metals = []\n",
    "    for i, char in enumerate(node[1:]):\n",
    "        if not char.islower():\n",
    "            metals.append(node[start_cut:i+1])\n",
    "            start_cut = i+1\n",
    "    metals.append(node[start_cut:])\n",
    "    unique, counts = np.unique(np.array(metals), return_counts=True)\n",
    "    return metals, unique, counts"
   ]
  },
  {
   "cell_type": "code",
   "execution_count": 13,
   "metadata": {},
   "outputs": [],
   "source": [
    "elemental_descriptors = pd.read_csv(\"preprocessing/qmof/data/elemental_descriptors.csv\")"
   ]
  },
  {
   "cell_type": "code",
   "execution_count": 14,
   "metadata": {},
   "outputs": [
    {
     "name": "stdout",
     "output_type": "stream",
     "text": [
      "Error with ['*']\n",
      "Error with []\n"
     ]
    },
    {
     "name": "stdout",
     "output_type": "stream",
     "text": [
      "Error with ['*']\n",
      "Error with []\n",
      "Error with ['*']\n",
      "Error with []\n",
      "Error with ['*']\n",
      "Error with []\n",
      "Error with []\n"
     ]
    }
   ],
   "source": [
    "node_descriptors = pd.DataFrame(columns=(\"n_metals\", 'n_types_metals', 'Atomic_Number', 'Atomic_Weight', 'Atomic Radius',\n",
    "       'Mulliken EN', 'polarizability(A^3)', 'electron affinity(kJ/mol)'))\n",
    "\n",
    "d = ['Atomic_Number', 'Atomic_Weight', 'Atomic Radius',\n",
    "       'Mulliken EN', 'polarizability(A^3)', 'electron affinity(kJ/mol)']\n",
    "\n",
    "for filename, node in zip(mofid_data.index, mofid_data[\"node\"]):\n",
    "    try:\n",
    "       metals, unique, count = metal_from_node(node.replace(\"'\", \"\").replace(\" \", \"\").replace(\"%\", \"\"))\n",
    "       #print(metals)\n",
    "       n_metals = count.sum()\n",
    "       n_metals_types = count.__len__()\n",
    "       df = pd.DataFrame(columns=d, index=[range(count.sum())])\n",
    "       for metal in metals:\n",
    "          #print(metal)\n",
    "          df.loc[len(df)] = elemental_descriptors.loc[elemental_descriptors[\"Symbol\"] == metal].loc[:,d].iloc[0]\n",
    "       node_descriptors.loc[filename] = n_metals, n_metals_types, *df.mean().array\n",
    "    except IndexError:\n",
    "       print(f\"Error with {node}\")"
   ]
  },
  {
   "cell_type": "code",
   "execution_count": 15,
   "metadata": {},
   "outputs": [
    {
     "data": {
      "text/html": [
       "<div>\n",
       "<style scoped>\n",
       "    .dataframe tbody tr th:only-of-type {\n",
       "        vertical-align: middle;\n",
       "    }\n",
       "\n",
       "    .dataframe tbody tr th {\n",
       "        vertical-align: top;\n",
       "    }\n",
       "\n",
       "    .dataframe thead th {\n",
       "        text-align: right;\n",
       "    }\n",
       "</style>\n",
       "<table border=\"1\" class=\"dataframe\">\n",
       "  <thead>\n",
       "    <tr style=\"text-align: right;\">\n",
       "      <th></th>\n",
       "      <th>n_metals</th>\n",
       "      <th>n_types_metals</th>\n",
       "      <th>Atomic_Number</th>\n",
       "      <th>Atomic_Weight</th>\n",
       "      <th>Atomic Radius</th>\n",
       "      <th>Mulliken EN</th>\n",
       "      <th>polarizability(A^3)</th>\n",
       "      <th>electron affinity(kJ/mol)</th>\n",
       "    </tr>\n",
       "  </thead>\n",
       "  <tbody>\n",
       "    <tr>\n",
       "      <th>fromCuICuIIMOF22084857</th>\n",
       "      <td>1.0</td>\n",
       "      <td>1.0</td>\n",
       "      <td>29.000000</td>\n",
       "      <td>63.546000</td>\n",
       "      <td>1.450000</td>\n",
       "      <td>4.480000</td>\n",
       "      <td>6.700000</td>\n",
       "      <td>119.0</td>\n",
       "    </tr>\n",
       "    <tr>\n",
       "      <th>toja054913asi004</th>\n",
       "      <td>1.0</td>\n",
       "      <td>1.0</td>\n",
       "      <td>47.000000</td>\n",
       "      <td>107.868200</td>\n",
       "      <td>1.650000</td>\n",
       "      <td>4.440000</td>\n",
       "      <td>7.900000</td>\n",
       "      <td>126.0</td>\n",
       "    </tr>\n",
       "    <tr>\n",
       "      <th>fromMOF2fa1052168</th>\n",
       "      <td>2.0</td>\n",
       "      <td>1.0</td>\n",
       "      <td>27.000000</td>\n",
       "      <td>58.933200</td>\n",
       "      <td>1.520000</td>\n",
       "      <td>4.300000</td>\n",
       "      <td>7.500000</td>\n",
       "      <td>64.0</td>\n",
       "    </tr>\n",
       "    <tr>\n",
       "      <th>initialMOF1014506</th>\n",
       "      <td>2.0</td>\n",
       "      <td>2.0</td>\n",
       "      <td>37.000000</td>\n",
       "      <td>87.477384</td>\n",
       "      <td>2.105000</td>\n",
       "      <td>2.975000</td>\n",
       "      <td>25.650000</td>\n",
       "      <td>68.0</td>\n",
       "    </tr>\n",
       "    <tr>\n",
       "      <th>initialsMOFs1961201</th>\n",
       "      <td>2.0</td>\n",
       "      <td>1.0</td>\n",
       "      <td>29.000000</td>\n",
       "      <td>63.546000</td>\n",
       "      <td>1.450000</td>\n",
       "      <td>4.480000</td>\n",
       "      <td>6.700000</td>\n",
       "      <td>119.0</td>\n",
       "    </tr>\n",
       "    <tr>\n",
       "      <th>...</th>\n",
       "      <td>...</td>\n",
       "      <td>...</td>\n",
       "      <td>...</td>\n",
       "      <td>...</td>\n",
       "      <td>...</td>\n",
       "      <td>...</td>\n",
       "      <td>...</td>\n",
       "      <td>...</td>\n",
       "    </tr>\n",
       "    <tr>\n",
       "      <th>tochangedstructure1014507</th>\n",
       "      <td>3.0</td>\n",
       "      <td>2.0</td>\n",
       "      <td>45.666667</td>\n",
       "      <td>108.973256</td>\n",
       "      <td>2.173333</td>\n",
       "      <td>3.016667</td>\n",
       "      <td>26.333333</td>\n",
       "      <td>73.0</td>\n",
       "    </tr>\n",
       "    <tr>\n",
       "      <th>1from61055570</th>\n",
       "      <td>1.0</td>\n",
       "      <td>1.0</td>\n",
       "      <td>29.000000</td>\n",
       "      <td>63.546000</td>\n",
       "      <td>1.450000</td>\n",
       "      <td>4.480000</td>\n",
       "      <td>6.700000</td>\n",
       "      <td>119.0</td>\n",
       "    </tr>\n",
       "    <tr>\n",
       "      <th>from2007086</th>\n",
       "      <td>6.0</td>\n",
       "      <td>2.0</td>\n",
       "      <td>22.500000</td>\n",
       "      <td>47.073050</td>\n",
       "      <td>1.140000</td>\n",
       "      <td>6.350000</td>\n",
       "      <td>4.500000</td>\n",
       "      <td>230.5</td>\n",
       "    </tr>\n",
       "    <tr>\n",
       "      <th>toVMOP1590348</th>\n",
       "      <td>1.0</td>\n",
       "      <td>1.0</td>\n",
       "      <td>23.000000</td>\n",
       "      <td>50.941500</td>\n",
       "      <td>1.710000</td>\n",
       "      <td>3.600000</td>\n",
       "      <td>12.400000</td>\n",
       "      <td>51.0</td>\n",
       "    </tr>\n",
       "    <tr>\n",
       "      <th>fromCuIMOF12084812</th>\n",
       "      <td>1.0</td>\n",
       "      <td>1.0</td>\n",
       "      <td>29.000000</td>\n",
       "      <td>63.546000</td>\n",
       "      <td>1.450000</td>\n",
       "      <td>4.480000</td>\n",
       "      <td>6.700000</td>\n",
       "      <td>119.0</td>\n",
       "    </tr>\n",
       "  </tbody>\n",
       "</table>\n",
       "<p>93 rows × 8 columns</p>\n",
       "</div>"
      ],
      "text/plain": [
       "                           n_metals  n_types_metals  Atomic_Number  \\\n",
       "fromCuICuIIMOF22084857          1.0             1.0      29.000000   \n",
       "toja054913asi004                1.0             1.0      47.000000   \n",
       "fromMOF2fa1052168               2.0             1.0      27.000000   \n",
       "initialMOF1014506               2.0             2.0      37.000000   \n",
       "initialsMOFs1961201             2.0             1.0      29.000000   \n",
       "...                             ...             ...            ...   \n",
       "tochangedstructure1014507       3.0             2.0      45.666667   \n",
       "1from61055570                   1.0             1.0      29.000000   \n",
       "from2007086                     6.0             2.0      22.500000   \n",
       "toVMOP1590348                   1.0             1.0      23.000000   \n",
       "fromCuIMOF12084812              1.0             1.0      29.000000   \n",
       "\n",
       "                           Atomic_Weight  Atomic Radius  Mulliken EN  \\\n",
       "fromCuICuIIMOF22084857         63.546000       1.450000     4.480000   \n",
       "toja054913asi004              107.868200       1.650000     4.440000   \n",
       "fromMOF2fa1052168              58.933200       1.520000     4.300000   \n",
       "initialMOF1014506              87.477384       2.105000     2.975000   \n",
       "initialsMOFs1961201            63.546000       1.450000     4.480000   \n",
       "...                                  ...            ...          ...   \n",
       "tochangedstructure1014507     108.973256       2.173333     3.016667   \n",
       "1from61055570                  63.546000       1.450000     4.480000   \n",
       "from2007086                    47.073050       1.140000     6.350000   \n",
       "toVMOP1590348                  50.941500       1.710000     3.600000   \n",
       "fromCuIMOF12084812             63.546000       1.450000     4.480000   \n",
       "\n",
       "                           polarizability(A^3)  electron affinity(kJ/mol)  \n",
       "fromCuICuIIMOF22084857                6.700000                      119.0  \n",
       "toja054913asi004                      7.900000                      126.0  \n",
       "fromMOF2fa1052168                     7.500000                       64.0  \n",
       "initialMOF1014506                    25.650000                       68.0  \n",
       "initialsMOFs1961201                   6.700000                      119.0  \n",
       "...                                        ...                        ...  \n",
       "tochangedstructure1014507            26.333333                       73.0  \n",
       "1from61055570                         6.700000                      119.0  \n",
       "from2007086                           4.500000                      230.5  \n",
       "toVMOP1590348                        12.400000                       51.0  \n",
       "fromCuIMOF12084812                    6.700000                      119.0  \n",
       "\n",
       "[93 rows x 8 columns]"
      ]
     },
     "execution_count": 15,
     "metadata": {},
     "output_type": "execute_result"
    }
   ],
   "source": [
    "node_descriptors"
   ]
  },
  {
   "cell_type": "code",
   "execution_count": 16,
   "metadata": {},
   "outputs": [],
   "source": [
    "import json\n",
    "\n",
    "mapping_ = json.load(open(\"names_mapping.json\"))\n",
    "t = pd.read_csv(\"database/main.csv\", sep=\";\")\n",
    "# t.index = [mapping_[i+\".cif\"][:-4] for i in t.index]"
   ]
  },
  {
   "cell_type": "code",
   "execution_count": 17,
   "metadata": {},
   "outputs": [
    {
     "data": {
      "text/plain": [
       "array(['solvent', 'gas', 'T', 'humidity', 'Pressure', 'pressure',\n",
       "       'solvent, gas'], dtype=object)"
      ]
     },
     "execution_count": 17,
     "metadata": {},
     "output_type": "execute_result"
    }
   ],
   "source": [
    "t['Stimuli'].unique()"
   ]
  },
  {
   "cell_type": "code",
   "execution_count": 18,
   "metadata": {},
   "outputs": [],
   "source": [
    "target = pd.DataFrame(columns=['target'])\n",
    "for i in t.index:\n",
    "    ans = 0 if t.loc[i][\"Stimuli\"].find(\"T\") != -1 or t.loc[i][\"Stimuli\"].find(\"pressure\") != -1 or t.loc[i][\"Stimuli\"].find(\"Pressure\") != -1 else 1     \n",
    "    target.loc[mapping_[t.loc[i][\"CIF name\"]][:-4]] = [ans]"
   ]
  },
  {
   "cell_type": "markdown",
   "metadata": {},
   "source": [
    "# concatenate"
   ]
  },
  {
   "cell_type": "code",
   "execution_count": 19,
   "metadata": {},
   "outputs": [],
   "source": [
    "index = list({*list(zeo_data.index)} & {*list(cif_data.index)} & {*list(data_mordred.index)} & {*list(node_descriptors.index)} & {*list(target.index)})"
   ]
  },
  {
   "cell_type": "code",
   "execution_count": 20,
   "metadata": {},
   "outputs": [],
   "source": [
    "marked_dataset = pd.concat([zeo_data.loc[index], cif_data.loc[index], data_mordred.loc[index], node_descriptors.loc[index], target.loc[index]], axis=1)"
   ]
  },
  {
   "cell_type": "code",
   "execution_count": 21,
   "metadata": {},
   "outputs": [],
   "source": [
    "import joblib"
   ]
  },
  {
   "cell_type": "code",
   "execution_count": 22,
   "metadata": {},
   "outputs": [],
   "source": [
    "from preproc_model import PreprocessingModel\n",
    "preproc = joblib.load(\"preprocessing/preproc_m.pkl\")"
   ]
  },
  {
   "cell_type": "code",
   "execution_count": 23,
   "metadata": {},
   "outputs": [],
   "source": [
    "x, y = marked_dataset.drop(['target'], axis=1), marked_dataset[\"target\"]"
   ]
  },
  {
   "cell_type": "code",
   "execution_count": 24,
   "metadata": {},
   "outputs": [
    {
     "data": {
      "text/plain": [
       "array([0, 1], dtype=int64)"
      ]
     },
     "execution_count": 24,
     "metadata": {},
     "output_type": "execute_result"
    }
   ],
   "source": [
    "np.unique(y)"
   ]
  },
  {
   "cell_type": "code",
   "execution_count": 25,
   "metadata": {},
   "outputs": [
    {
     "data": {
      "text/plain": [
       "((array([0, 1], dtype=int64), array([37, 46], dtype=int64)), 83)"
      ]
     },
     "execution_count": 25,
     "metadata": {},
     "output_type": "execute_result"
    }
   ],
   "source": [
    "np.unique(y, return_counts=True), sum(np.unique(y, return_counts=True)[1])"
   ]
  },
  {
   "cell_type": "code",
   "execution_count": 26,
   "metadata": {},
   "outputs": [],
   "source": [
    "x = preproc.transform(x.rename({ \"sg_number\": \"spacegroupNumber\"}, axis=1))"
   ]
  },
  {
   "cell_type": "code",
   "execution_count": 27,
   "metadata": {},
   "outputs": [],
   "source": [
    "x.to_csv(\"preprocessing/datasets/main_dataset.csv\")\n",
    "y.to_csv(\"preprocessing/datasets/main_target.csv\")"
   ]
  },
  {
   "cell_type": "code",
   "execution_count": 28,
   "metadata": {},
   "outputs": [],
   "source": [
    "added = pd.read_csv(\"database/t_solvent.csv\", sep=\";\")"
   ]
  },
  {
   "cell_type": "code",
   "execution_count": null,
   "metadata": {},
   "outputs": [],
   "source": []
  }
 ],
 "metadata": {
  "kernelspec": {
   "display_name": "Python 3",
   "language": "python",
   "name": "python3"
  },
  "language_info": {
   "codemirror_mode": {
    "name": "ipython",
    "version": 3
   },
   "file_extension": ".py",
   "mimetype": "text/x-python",
   "name": "python",
   "nbconvert_exporter": "python",
   "pygments_lexer": "ipython3",
   "version": "3.10.11"
  }
 },
 "nbformat": 4,
 "nbformat_minor": 2
}
