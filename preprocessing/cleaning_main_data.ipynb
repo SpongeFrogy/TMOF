{
 "cells": [
  {
   "cell_type": "code",
   "execution_count": 1,
   "metadata": {},
   "outputs": [],
   "source": [
    "import pandas as pd\n",
    "import numpy as np\n",
    "import joblib"
   ]
  },
  {
   "cell_type": "code",
   "execution_count": 2,
   "metadata": {},
   "outputs": [],
   "source": [
    "mofid = pd.read_csv(\"../data/main_dataset_mofid_data_V2.csv\", index_col=0)\n",
    "mofid = mofid[[\"smiles_linkers\", \"smiles_nodes\", \"cifname\"]].set_index(\"cifname\")\n",
    "mordred = pd.read_csv(\"../data/all_f_main_dataset_mordred_V2.csv\", index_col=0)\n",
    "zeo = pd.read_csv(\"../data/main_dataset_zeo_V2.csv\", index_col=0)\n",
    "cif = pd.read_csv(\"../data/main_dataset_cif_property_V2.csv\", index_col=0)\n",
    "\n"
   ]
  },
  {
   "cell_type": "code",
   "execution_count": 3,
   "metadata": {},
   "outputs": [
    {
     "data": {
      "text/html": [
       "<div>\n",
       "<style scoped>\n",
       "    .dataframe tbody tr th:only-of-type {\n",
       "        vertical-align: middle;\n",
       "    }\n",
       "\n",
       "    .dataframe tbody tr th {\n",
       "        vertical-align: top;\n",
       "    }\n",
       "\n",
       "    .dataframe thead th {\n",
       "        text-align: right;\n",
       "    }\n",
       "</style>\n",
       "<table border=\"1\" class=\"dataframe\">\n",
       "  <thead>\n",
       "    <tr style=\"text-align: right;\">\n",
       "      <th></th>\n",
       "      <th>a</th>\n",
       "      <th>b</th>\n",
       "      <th>c</th>\n",
       "      <th>alpha</th>\n",
       "      <th>beta</th>\n",
       "      <th>gamma</th>\n",
       "      <th>volume</th>\n",
       "      <th>sg_number</th>\n",
       "    </tr>\n",
       "  </thead>\n",
       "  <tbody>\n",
       "    <tr>\n",
       "      <th>initial MOF-5-C7 2040922.cif</th>\n",
       "      <td>12.852600</td>\n",
       "      <td>12.852600</td>\n",
       "      <td>12.852600</td>\n",
       "      <td>90.000000</td>\n",
       "      <td>90.000000</td>\n",
       "      <td>90.000000</td>\n",
       "      <td>2123.112341</td>\n",
       "      <td>221.0</td>\n",
       "    </tr>\n",
       "    <tr>\n",
       "      <th>to MOF-5(C7)_desolvated phase 2040923.cif</th>\n",
       "      <td>12.786337</td>\n",
       "      <td>12.786337</td>\n",
       "      <td>12.786337</td>\n",
       "      <td>84.507765</td>\n",
       "      <td>84.507765</td>\n",
       "      <td>84.507765</td>\n",
       "      <td>2063.376733</td>\n",
       "      <td>148.0</td>\n",
       "    </tr>\n",
       "    <tr>\n",
       "      <th>from Cu(I)-MOF-1 2084812.cif</th>\n",
       "      <td>13.393384</td>\n",
       "      <td>13.393384</td>\n",
       "      <td>13.393384</td>\n",
       "      <td>106.730376</td>\n",
       "      <td>106.730376</td>\n",
       "      <td>115.104051</td>\n",
       "      <td>1835.938608</td>\n",
       "      <td>88.0</td>\n",
       "    </tr>\n",
       "    <tr>\n",
       "      <th>from Cu(I)Cu(II)-MOF-2 2084857.cif</th>\n",
       "      <td>13.124566</td>\n",
       "      <td>13.124566</td>\n",
       "      <td>13.124566</td>\n",
       "      <td>107.741062</td>\n",
       "      <td>107.741062</td>\n",
       "      <td>112.989882</td>\n",
       "      <td>1735.380592</td>\n",
       "      <td>88.0</td>\n",
       "    </tr>\n",
       "    <tr>\n",
       "      <th>to Cu(II)-MOF-3 1524653.cif</th>\n",
       "      <td>10.044000</td>\n",
       "      <td>13.671000</td>\n",
       "      <td>13.671000</td>\n",
       "      <td>90.000000</td>\n",
       "      <td>90.000000</td>\n",
       "      <td>90.000000</td>\n",
       "      <td>2081.642704</td>\n",
       "      <td>60.0</td>\n",
       "    </tr>\n",
       "    <tr>\n",
       "      <th>...</th>\n",
       "      <td>...</td>\n",
       "      <td>...</td>\n",
       "      <td>...</td>\n",
       "      <td>...</td>\n",
       "      <td>...</td>\n",
       "      <td>...</td>\n",
       "      <td>...</td>\n",
       "      <td>...</td>\n",
       "    </tr>\n",
       "    <tr>\n",
       "      <th>1b_40 bar(R).cif</th>\n",
       "      <td>8.249900</td>\n",
       "      <td>18.659300</td>\n",
       "      <td>18.659300</td>\n",
       "      <td>90.000000</td>\n",
       "      <td>90.000000</td>\n",
       "      <td>90.000000</td>\n",
       "      <td>2872.363364</td>\n",
       "      <td>90.0</td>\n",
       "    </tr>\n",
       "    <tr>\n",
       "      <th>from 1a.cif</th>\n",
       "      <td>8.047300</td>\n",
       "      <td>18.855000</td>\n",
       "      <td>18.855000</td>\n",
       "      <td>90.000000</td>\n",
       "      <td>90.000000</td>\n",
       "      <td>90.000000</td>\n",
       "      <td>2860.903871</td>\n",
       "      <td>90.0</td>\n",
       "    </tr>\n",
       "    <tr>\n",
       "      <th>to 1b.cif</th>\n",
       "      <td>7.797900</td>\n",
       "      <td>16.850000</td>\n",
       "      <td>16.850000</td>\n",
       "      <td>90.000000</td>\n",
       "      <td>90.000000</td>\n",
       "      <td>90.000000</td>\n",
       "      <td>2214.656236</td>\n",
       "      <td>18.0</td>\n",
       "    </tr>\n",
       "    <tr>\n",
       "      <th>as-synthesized SNU-80a (initial) 842625.cif</th>\n",
       "      <td>12.223300</td>\n",
       "      <td>24.807600</td>\n",
       "      <td>24.807600</td>\n",
       "      <td>90.000000</td>\n",
       "      <td>90.000000</td>\n",
       "      <td>90.000000</td>\n",
       "      <td>7522.426833</td>\n",
       "      <td>134.0</td>\n",
       "    </tr>\n",
       "    <tr>\n",
       "      <th>from CCDC_2065038_JUK-20.cif</th>\n",
       "      <td>20.453600</td>\n",
       "      <td>15.724700</td>\n",
       "      <td>17.095300</td>\n",
       "      <td>86.129000</td>\n",
       "      <td>85.252000</td>\n",
       "      <td>70.324000</td>\n",
       "      <td>5154.900000</td>\n",
       "      <td>2.0</td>\n",
       "    </tr>\n",
       "  </tbody>\n",
       "</table>\n",
       "<p>165 rows × 8 columns</p>\n",
       "</div>"
      ],
      "text/plain": [
       "                                                     a          b          c  \\\n",
       "initial MOF-5-C7 2040922.cif                 12.852600  12.852600  12.852600   \n",
       "to MOF-5(C7)_desolvated phase 2040923.cif    12.786337  12.786337  12.786337   \n",
       "from Cu(I)-MOF-1 2084812.cif                 13.393384  13.393384  13.393384   \n",
       "from Cu(I)Cu(II)-MOF-2 2084857.cif           13.124566  13.124566  13.124566   \n",
       "to Cu(II)-MOF-3 1524653.cif                  10.044000  13.671000  13.671000   \n",
       "...                                                ...        ...        ...   \n",
       "1b_40 bar(R).cif                              8.249900  18.659300  18.659300   \n",
       "from 1a.cif                                   8.047300  18.855000  18.855000   \n",
       "to 1b.cif                                     7.797900  16.850000  16.850000   \n",
       "as-synthesized SNU-80a (initial) 842625.cif  12.223300  24.807600  24.807600   \n",
       "from CCDC_2065038_JUK-20.cif                 20.453600  15.724700  17.095300   \n",
       "\n",
       "                                                  alpha        beta  \\\n",
       "initial MOF-5-C7 2040922.cif                  90.000000   90.000000   \n",
       "to MOF-5(C7)_desolvated phase 2040923.cif     84.507765   84.507765   \n",
       "from Cu(I)-MOF-1 2084812.cif                 106.730376  106.730376   \n",
       "from Cu(I)Cu(II)-MOF-2 2084857.cif           107.741062  107.741062   \n",
       "to Cu(II)-MOF-3 1524653.cif                   90.000000   90.000000   \n",
       "...                                                 ...         ...   \n",
       "1b_40 bar(R).cif                              90.000000   90.000000   \n",
       "from 1a.cif                                   90.000000   90.000000   \n",
       "to 1b.cif                                     90.000000   90.000000   \n",
       "as-synthesized SNU-80a (initial) 842625.cif   90.000000   90.000000   \n",
       "from CCDC_2065038_JUK-20.cif                  86.129000   85.252000   \n",
       "\n",
       "                                                  gamma       volume  \\\n",
       "initial MOF-5-C7 2040922.cif                  90.000000  2123.112341   \n",
       "to MOF-5(C7)_desolvated phase 2040923.cif     84.507765  2063.376733   \n",
       "from Cu(I)-MOF-1 2084812.cif                 115.104051  1835.938608   \n",
       "from Cu(I)Cu(II)-MOF-2 2084857.cif           112.989882  1735.380592   \n",
       "to Cu(II)-MOF-3 1524653.cif                   90.000000  2081.642704   \n",
       "...                                                 ...          ...   \n",
       "1b_40 bar(R).cif                              90.000000  2872.363364   \n",
       "from 1a.cif                                   90.000000  2860.903871   \n",
       "to 1b.cif                                     90.000000  2214.656236   \n",
       "as-synthesized SNU-80a (initial) 842625.cif   90.000000  7522.426833   \n",
       "from CCDC_2065038_JUK-20.cif                  70.324000  5154.900000   \n",
       "\n",
       "                                             sg_number  \n",
       "initial MOF-5-C7 2040922.cif                     221.0  \n",
       "to MOF-5(C7)_desolvated phase 2040923.cif        148.0  \n",
       "from Cu(I)-MOF-1 2084812.cif                      88.0  \n",
       "from Cu(I)Cu(II)-MOF-2 2084857.cif                88.0  \n",
       "to Cu(II)-MOF-3 1524653.cif                       60.0  \n",
       "...                                                ...  \n",
       "1b_40 bar(R).cif                                  90.0  \n",
       "from 1a.cif                                       90.0  \n",
       "to 1b.cif                                         18.0  \n",
       "as-synthesized SNU-80a (initial) 842625.cif      134.0  \n",
       "from CCDC_2065038_JUK-20.cif                       2.0  \n",
       "\n",
       "[165 rows x 8 columns]"
      ]
     },
     "execution_count": 3,
     "metadata": {},
     "output_type": "execute_result"
    }
   ],
   "source": [
    "cif"
   ]
  },
  {
   "cell_type": "code",
   "execution_count": 4,
   "metadata": {},
   "outputs": [
    {
     "data": {
      "text/plain": [
       "((151, 1826), (162, 3), (165, 8))"
      ]
     },
     "execution_count": 4,
     "metadata": {},
     "output_type": "execute_result"
    }
   ],
   "source": [
    "mordred.shape, zeo.shape, cif.shape"
   ]
  },
  {
   "cell_type": "code",
   "execution_count": 5,
   "metadata": {},
   "outputs": [],
   "source": [
    "def make_mordred():\n",
    "    from mordred import Calculator, descriptors\n",
    "    from rdkit import Chem\n",
    "    mofid = pd.read_csv(\"../data/main_dataset_mofid_data_V2.csv\", index_col=0)\n",
    "    mofid = mofid[[\"smiles_linkers\", \"smiles_nodes\", \"cifname\"]].set_index(\"cifname\")\n",
    "    linkers = [mofid.smiles_linkers[i].replace(\"'\", \"\")[1:-1].split(\", \") for i in range(mofid.__len__())]\n",
    "    mols = [[Chem.MolFromSmiles(smi) for smi in smi_list] for smi_list in linkers]\n",
    "    calc = Calculator(descriptors, ignore_3D=False)\n",
    "    def f(mof):\n",
    "        try: return calc.pandas(mof)\n",
    "        except TypeError:\n",
    "            return None\n",
    "    dfs = [f(mof) for mof in mols]\n",
    "    data_mordred = pd.DataFrame(columns=dfs[0].columns)\n",
    "\n",
    "    for i, filename in enumerate(mofid.index):\n",
    "        try:\n",
    "            if linkers[i] != [\"\"]:\n",
    "                data_mordred.loc[filename] = dfs[i].mean()\n",
    "        except AttributeError:\n",
    "            print(f\"{filename:_^20}\")\n",
    "    data_mordred = data_mordred.set_index(data_mordred.index.map(lambda name: name.replace(\" \", \"\")))\n",
    "    #data_mordred.to_csv(\"../data/all_f_main_dataset_mordred_V2.csv\")\n",
    "    return data_mordred\n",
    "\n"
   ]
  },
  {
   "cell_type": "code",
   "execution_count": 6,
   "metadata": {},
   "outputs": [],
   "source": [
    "def metal_from_node(node: str):\n",
    "    import re\n",
    "    \"\"\"\n",
    "    input: smilesNodes: str\n",
    "    return: \n",
    "    'metals' in node: list\n",
    "    'unique' types of metals: np.array, dtype='<U2'\n",
    "    'count' of unique: np.array, dtype=int\n",
    "    \"\"\"\n",
    "    # \"O[Zr]123(O)[OH]4[Zr]56([O]3[Zr]37([OH]2[Zr]28([O]1[Zr]14([O]6[Zr]([OH]53)([OH]21)([O]78)(O)O)([OH2])([OH2])O)[OH2])([OH2])([OH2])O)[OH2]\"\n",
    "    node = node.replace(\"OH\", \"\").replace(\"O\", \"\")\n",
    "    node = node.replace(\"[\", \"\").replace(\"]\", \"\").replace(\")\", \"\").replace(\"(\", \"\").replace(\",\", \"\")\n",
    "    node = re.sub(r\"\\d\", \"\", node) # replace numbers\n",
    "    #print(node)\n",
    "    # \"ZrZrZrZrZrZr\"\n",
    "    start_cut = 0\n",
    "    metals = []\n",
    "    for i, char in enumerate(node[1:]):\n",
    "        if not char.islower():\n",
    "            metals.append(node[start_cut:i+1])\n",
    "            start_cut = i+1\n",
    "    metals.append(node[start_cut:])\n",
    "    unique, counts = np.unique(np.array(metals), return_counts=True)\n",
    "    return metals, unique, counts"
   ]
  },
  {
   "cell_type": "code",
   "execution_count": 7,
   "metadata": {},
   "outputs": [],
   "source": [
    "elemental_descriptors = pd.read_csv(\"../data/elemental_descriptors.csv\")"
   ]
  },
  {
   "cell_type": "code",
   "execution_count": 8,
   "metadata": {},
   "outputs": [
    {
     "name": "stdout",
     "output_type": "stream",
     "text": [
      "Error with []\n",
      "Error with []\n",
      "Error with []\n",
      "Error with []\n",
      "Error with ['*']\n",
      "Error with ['*']\n",
      "Error with []\n",
      "Error with []\n",
      "Error with ['*']\n",
      "Error with ['*']\n",
      "Error with ['*']\n",
      "Error with ['*']\n",
      "Error with ['*']\n",
      "Error with ['*']\n",
      "Error with ['*']\n"
     ]
    }
   ],
   "source": [
    "node_descriptors = pd.DataFrame(columns=(\"n_metals\", 'n_types_metals', 'Atomic_Number', 'Atomic_Weight', 'Atomic Radius',\n",
    "       'Mulliken EN', 'polarizability(A^3)', 'electron affinity(kJ/mol)'))\n",
    "\n",
    "d = ['Atomic_Number', 'Atomic_Weight', 'Atomic Radius',\n",
    "       'Mulliken EN', 'polarizability(A^3)', 'electron affinity(kJ/mol)']\n",
    "\n",
    "for filename, node in zip(mofid.index.map(lambda name: name.replace(\" \", \"\").replace(\".cif\", \"\")), mofid[\"smiles_nodes\"]):\n",
    "    try:\n",
    "       metals, unique, count = metal_from_node(node.replace(\"'\", \"\").replace(\" \", \"\").replace(\"%\", \"\"))\n",
    "       #print(metals)\n",
    "       n_metals = count.sum()\n",
    "       n_metals_types = count.__len__()\n",
    "       df = pd.DataFrame(columns=d, index=[range(count.sum())])\n",
    "       for metal in metals:\n",
    "          #print(metal)\n",
    "          df.loc[len(df)] = elemental_descriptors.loc[elemental_descriptors[\"Symbol\"] == metal].loc[:,d].iloc[0]\n",
    "       node_descriptors.loc[filename] = n_metals, n_metals_types, *df.mean().array\n",
    "    except IndexError:\n",
    "       print(f\"Error with {node}\")"
   ]
  },
  {
   "cell_type": "code",
   "execution_count": 9,
   "metadata": {},
   "outputs": [],
   "source": [
    "node_descriptors = node_descriptors.loc[node_descriptors[\"n_types_metals\"] == 1.]\n"
   ]
  },
  {
   "cell_type": "code",
   "execution_count": 10,
   "metadata": {},
   "outputs": [],
   "source": [
    "zeo.index = zeo.index.map(lambda s: s.replace(\".res\", \"\"))"
   ]
  },
  {
   "cell_type": "code",
   "execution_count": 11,
   "metadata": {},
   "outputs": [],
   "source": [
    "data_pld_lcd = zeo[[\"num1\", \"num2\"]].rename({\"num1\": \"lcd\", \"num2\": \"pld\"}, axis=1)"
   ]
  },
  {
   "cell_type": "code",
   "execution_count": 12,
   "metadata": {},
   "outputs": [],
   "source": [
    "cif = cif.rename({ \"sg_number\": \"spacegroupNumber\"}, axis=1)"
   ]
  },
  {
   "cell_type": "code",
   "execution_count": 13,
   "metadata": {},
   "outputs": [],
   "source": [
    "cif.index = cif.index.map(lambda name: name.replace(\" \", \"\").replace(\".cif\", \"\"))"
   ]
  },
  {
   "cell_type": "code",
   "execution_count": 14,
   "metadata": {},
   "outputs": [],
   "source": [
    "cif = cif.set_index(cif.index.map(lambda name: name.replace(\"(\", \"\").replace(\")\", \"\")))"
   ]
  },
  {
   "cell_type": "code",
   "execution_count": 15,
   "metadata": {},
   "outputs": [],
   "source": [
    "node_descriptors = node_descriptors.set_index(node_descriptors.index.map(lambda name: name.replace(\"(\", \"\").replace(\")\", \"\")))"
   ]
  },
  {
   "cell_type": "code",
   "execution_count": 16,
   "metadata": {},
   "outputs": [],
   "source": [
    "data_pld_lcd = data_pld_lcd.set_index(data_pld_lcd.index.map(lambda name: name.replace(\"(\", \"\").replace(\")\", \"\")))"
   ]
  },
  {
   "cell_type": "code",
   "execution_count": 17,
   "metadata": {},
   "outputs": [],
   "source": [
    "mordred = mordred.set_index(mordred.index.map(lambda name: name.replace(\"(\", \"\").replace(\")\", \"\")))"
   ]
  },
  {
   "cell_type": "code",
   "execution_count": 18,
   "metadata": {},
   "outputs": [
    {
     "data": {
      "text/plain": [
       "((162, 2), (165, 8), (151, 1826), (145, 8))"
      ]
     },
     "execution_count": 18,
     "metadata": {},
     "output_type": "execute_result"
    }
   ],
   "source": [
    "data_pld_lcd.shape, cif.shape, mordred.shape, node_descriptors.shape"
   ]
  },
  {
   "cell_type": "code",
   "execution_count": 19,
   "metadata": {},
   "outputs": [],
   "source": [
    "data_main = pd.concat([data_pld_lcd, cif, mordred, node_descriptors], axis=1)"
   ]
  },
  {
   "cell_type": "code",
   "execution_count": 20,
   "metadata": {},
   "outputs": [],
   "source": [
    "data_main = data_main.loc[list({*list(data_pld_lcd.index)} & {*list(\n",
    "    cif.index)} & {*list(mordred.index)} & {*list(node_descriptors.index)})]\n"
   ]
  },
  {
   "cell_type": "code",
   "execution_count": 21,
   "metadata": {},
   "outputs": [
    {
     "data": {
      "text/plain": [
       "(138, 1844)"
      ]
     },
     "execution_count": 21,
     "metadata": {},
     "output_type": "execute_result"
    }
   ],
   "source": [
    "data_main.shape"
   ]
  },
  {
   "cell_type": "code",
   "execution_count": 22,
   "metadata": {},
   "outputs": [],
   "source": [
    "# data_main.to_csv(\"../data/main_no_marked.csv\")"
   ]
  },
  {
   "cell_type": "code",
   "execution_count": 23,
   "metadata": {},
   "outputs": [],
   "source": [
    "db_from_to = pd.read_csv(\"../data/DB_main_with_SG_for_EDA.csv\", sep=';')"
   ]
  },
  {
   "cell_type": "code",
   "execution_count": 24,
   "metadata": {},
   "outputs": [],
   "source": [
    "db_from_to.CIF_init = db_from_to.CIF_init.map(lambda name: name.replace(\"(\", \"\").replace(\")\", \"\").replace(\" \", \"\").replace(\".cif\", \"\"))\n",
    "db_from_to.CIF_final = db_from_to.CIF_final.map(lambda name: name.replace(\"(\", \"\").replace(\")\", \"\").replace(\" \", \"\").replace(\".cif\", \"\"))\n"
   ]
  },
  {
   "cell_type": "code",
   "execution_count": 25,
   "metadata": {},
   "outputs": [],
   "source": [
    "marked = pd.DataFrame(columns=[\"target\"])\n",
    "\n",
    "for ind in db_from_to.index:\n",
    "    if db_from_to.loc[ind, \"Stimuli\"].find(\"solvent\") != -1 or db_from_to.loc[ind, \"Stimuli\"].find(\"gas\") != -1 or db_from_to.loc[ind, \"Stimuli\"].find(\"humidity\") != -1:\n",
    "        marked.loc[db_from_to.loc[ind, \"CIF_init\"]] = [1]\n",
    "        if db_from_to.loc[ind, \"Reversible\"] == \"yes\":\n",
    "            marked.loc[db_from_to.loc[ind, \"CIF_final\"]] = [1]\n",
    "        else:\n",
    "            marked.loc[db_from_to.loc[ind, \"CIF_final\"]] = [0]\n",
    "    else:\n",
    "        marked.loc[db_from_to.loc[ind, \"CIF_init\"]] = [0]\n",
    "        marked.loc[db_from_to.loc[ind, \"CIF_final\"]] = [0]"
   ]
  },
  {
   "cell_type": "code",
   "execution_count": 26,
   "metadata": {},
   "outputs": [],
   "source": [
    "from pteproc_model import PreprocessingModel\n",
    "model = joblib.load(\"../qmof_datasets/scaler.pkl\")"
   ]
  },
  {
   "cell_type": "code",
   "execution_count": 27,
   "metadata": {},
   "outputs": [
    {
     "data": {
      "text/plain": [
       "(138, 1844)"
      ]
     },
     "execution_count": 27,
     "metadata": {},
     "output_type": "execute_result"
    }
   ],
   "source": [
    "data_main.shape"
   ]
  },
  {
   "cell_type": "code",
   "execution_count": 28,
   "metadata": {},
   "outputs": [],
   "source": [
    "main_dataset = data_main[model.cols]"
   ]
  },
  {
   "cell_type": "code",
   "execution_count": 29,
   "metadata": {},
   "outputs": [],
   "source": [
    "marked_dataset = pd.concat([data_main, marked], axis=1)"
   ]
  },
  {
   "cell_type": "code",
   "execution_count": 30,
   "metadata": {},
   "outputs": [],
   "source": [
    "marked_dataset = marked_dataset.loc[list({*list(main_dataset.index)} & {*list(marked.index)})]"
   ]
  },
  {
   "cell_type": "code",
   "execution_count": 31,
   "metadata": {},
   "outputs": [
    {
     "data": {
      "text/plain": [
       "(102, 1845)"
      ]
     },
     "execution_count": 31,
     "metadata": {},
     "output_type": "execute_result"
    }
   ],
   "source": [
    "marked_dataset.shape"
   ]
  },
  {
   "cell_type": "code",
   "execution_count": 32,
   "metadata": {},
   "outputs": [
    {
     "name": "stdout",
     "output_type": "stream",
     "text": [
      "|  target  |  counts  |\n",
      "-----------------------\n",
      "|   yes    |    62    |\n",
      "|    no    |    40    |\n",
      "total count:102\n"
     ]
    }
   ],
   "source": [
    "target, counts = np.unique(marked_dataset.target, return_counts=True)\n",
    "\n",
    "\n",
    "print(f\"|{'target':^10}|{'counts':^10}|\")\n",
    "print(f\"{'-':-^23}\")\n",
    "print(f\"|{'yes':^10}|{counts[0]:^10}|\")\n",
    "print(f\"|{'no':^10}|{counts[1]:^10}|\")\n",
    "print(f\"total count:{marked_dataset.__len__()}\")"
   ]
  },
  {
   "cell_type": "code",
   "execution_count": 33,
   "metadata": {},
   "outputs": [
    {
     "data": {
      "text/plain": [
       "(102, 1845)"
      ]
     },
     "execution_count": 33,
     "metadata": {},
     "output_type": "execute_result"
    }
   ],
   "source": [
    "marked_dataset.shape"
   ]
  },
  {
   "cell_type": "code",
   "execution_count": 34,
   "metadata": {},
   "outputs": [],
   "source": [
    "x, y = model.transform(marked_dataset.drop(['target'], axis=1)), marked_dataset['target']"
   ]
  },
  {
   "cell_type": "code",
   "execution_count": 35,
   "metadata": {},
   "outputs": [
    {
     "data": {
      "text/plain": [
       "((102, 1018), (102, 1018))"
      ]
     },
     "execution_count": 35,
     "metadata": {},
     "output_type": "execute_result"
    }
   ],
   "source": [
    "x.shape, x.dropna().shape"
   ]
  },
  {
   "cell_type": "code",
   "execution_count": 39,
   "metadata": {},
   "outputs": [
    {
     "name": "stdout",
     "output_type": "stream",
     "text": [
      "toCAU13_-1GPa\n",
      "fromassynthesizedDUT-30Zn804770\n",
      "fromDMFsolvatedFebdp100K1058447\n",
      "toVMOP-+1590348\n",
      "fromic035111o_si_001\n",
      "toCuII-MOF-31524653\n",
      "fromja101541s_si_004\n",
      "toDUT-49Zn100K2014973\n",
      "toSTA-26Zr-Cchangedsymmetry1571656\n",
      "fromMOF2fa1052168\n",
      "to1lpMOF1944821\n",
      "fromSION-21503701\n",
      "to1b\n",
      "toDUT-49Mn100K2014971\n",
      "fromDUT-49Zn296K890363\n",
      "fromHIMS-741884101\n",
      "initialSTA-26Zr1571655\n",
      "from1041925\n",
      "2from91045135\n",
      "fromUTSA-741884102\n",
      "toDUT-49Co100K2014974\n",
      "toMOF-74Zn1512654\n",
      "fromCo-MOF1912199\n",
      "toja500530y_si_003\n",
      "toDUT-49Ni100K2014970\n",
      "from1in5636900\n",
      "toSION-11503702\n",
      "toFdd21021920\n",
      "toanie202202073-sup-0001-nku-128_toluene\n",
      "toic035111o_si_003\n",
      "fromUPC-6001942055\n",
      "fromja500530y_si_003\n",
      "BasedonMntoR-3c\n",
      "toCCDC_2065039_JUK-20-chx\n",
      "from3in61515548\n",
      "from1withDMF1403842\n",
      "to922086\n",
      "tocompoundwithmethanol1403845\n",
      "from975784\n",
      "fromDUT-49Mn296K1957604\n",
      "basedonCofromPnna709782\n",
      "to41483725\n",
      "1from61055570\n",
      "from11974527\n",
      "toCo-MOF1912233\n",
      "fromic035111o_si_002\n",
      "2to101045134\n",
      "to6cm6b05277_si_005-Copy\n",
      "fromC2_c1021935\n",
      "1initial924307\n",
      "from1934734\n",
      "from2D854460\n",
      "INITIALanie202202073-sup-0001-nku-128_298k\n",
      "to1041924\n",
      "initial11455983\n",
      "to5cm6b05277_si_004\n",
      "topart_4\n",
      "from935302\n",
      "to1UPC-600-373K2060465\n",
      "fromDUT-49Fe296K1957603\n",
      "toCCDC_2065041_JUK-20-noh\n",
      "Toa-IRMOF-9DMF1572714\n",
      "fromja054913a_si_001\n",
      "toDUT-30Znafterphasetransition804771\n",
      "fromCuI-MOF-12084812\n",
      "initialZn-1238860\n",
      "fromas-flexMOF975746\n",
      "2tocompound2924308\n",
      "fromVMOP-+1878068\n",
      "tocompoundwithhexane1403844\n",
      "initialMOFDMF@DUT-8Ni1989709\n",
      "toja101541s_si_003\n",
      "to3fa1052173\n",
      "toanie202202073-sup-0001-nku-128_thf\n",
      "2to2byimmercingfirstcompound1816056\n",
      "toDUT-8NipolymorphB1989708\n",
      "fromCuICuII-MOF-22084857\n",
      "tod-flexMOFdried975745\n",
      "toDUT-49Fe100K2014975\n",
      "to3D854461\n",
      "to1934735\n",
      "toic035111o_si_002\n",
      "to210KsameSG1970082\n",
      "toDMFsolvatedFebdp298K1058448\n",
      "from1a\n",
      "1to71031676\n",
      "fromFebdp25C1058446\n",
      "toja054913a_si_004\n",
      "toDUT-49Cd100K2014972\n",
      "BasedonCotoR-3c\n",
      "frompart_2\n",
      "toZn-1withDMF238859\n",
      "fromDUT-49Co296K890364\n",
      "to6cm6b05277_si_005\n",
      "from31483716\n",
      "fromDUT-49Ni296K1957605\n",
      "to1555242\n",
      "from4in61536823\n",
      "2from2924308-Copy\n",
      "fromDUT-49Cd296K1957602\n",
      "basedonMnfromPnna709780\n",
      "toCCDC_2065040_JUK-20-nor\n"
     ]
    }
   ],
   "source": [
    "for i in x.index:\n",
    "    print(i)"
   ]
  },
  {
   "cell_type": "code",
   "execution_count": 42,
   "metadata": {},
   "outputs": [
    {
     "data": {
      "text/html": [
       "<div>\n",
       "<style scoped>\n",
       "    .dataframe tbody tr th:only-of-type {\n",
       "        vertical-align: middle;\n",
       "    }\n",
       "\n",
       "    .dataframe tbody tr th {\n",
       "        vertical-align: top;\n",
       "    }\n",
       "\n",
       "    .dataframe thead th {\n",
       "        text-align: right;\n",
       "    }\n",
       "</style>\n",
       "<table border=\"1\" class=\"dataframe\">\n",
       "  <thead>\n",
       "    <tr style=\"text-align: right;\">\n",
       "      <th></th>\n",
       "      <th>pld</th>\n",
       "      <th>lcd</th>\n",
       "      <th>a</th>\n",
       "      <th>b</th>\n",
       "      <th>c</th>\n",
       "      <th>alpha</th>\n",
       "      <th>beta</th>\n",
       "      <th>gamma</th>\n",
       "      <th>volume</th>\n",
       "      <th>spacegroupNumber</th>\n",
       "      <th>...</th>\n",
       "      <th>Zagreb2</th>\n",
       "      <th>mZagreb1</th>\n",
       "      <th>mZagreb2</th>\n",
       "      <th>n_metals</th>\n",
       "      <th>Atomic_Number</th>\n",
       "      <th>Atomic_Weight</th>\n",
       "      <th>Atomic Radius</th>\n",
       "      <th>Mulliken EN</th>\n",
       "      <th>polarizability(A^3)</th>\n",
       "      <th>electron affinity(kJ/mol)</th>\n",
       "    </tr>\n",
       "  </thead>\n",
       "  <tbody>\n",
       "    <tr>\n",
       "      <th>toCAU13_-1GPa</th>\n",
       "      <td>0.162791</td>\n",
       "      <td>0.137948</td>\n",
       "      <td>0.101440</td>\n",
       "      <td>0.169292</td>\n",
       "      <td>0.077769</td>\n",
       "      <td>0.441237</td>\n",
       "      <td>0.274418</td>\n",
       "      <td>0.199779</td>\n",
       "      <td>0.010622</td>\n",
       "      <td>0.048458</td>\n",
       "      <td>...</td>\n",
       "      <td>0.081009</td>\n",
       "      <td>0.113257</td>\n",
       "      <td>0.077694</td>\n",
       "      <td>0.000000</td>\n",
       "      <td>0.112360</td>\n",
       "      <td>0.086723</td>\n",
       "      <td>0.000000</td>\n",
       "      <td>0.422680</td>\n",
       "      <td>0.063869</td>\n",
       "      <td>0.158865</td>\n",
       "    </tr>\n",
       "    <tr>\n",
       "      <th>fromassynthesizedDUT-30Zn804770</th>\n",
       "      <td>0.181673</td>\n",
       "      <td>0.170747</td>\n",
       "      <td>0.189917</td>\n",
       "      <td>0.285933</td>\n",
       "      <td>0.157241</td>\n",
       "      <td>0.510829</td>\n",
       "      <td>0.258064</td>\n",
       "      <td>0.186620</td>\n",
       "      <td>0.033658</td>\n",
       "      <td>0.299559</td>\n",
       "      <td>...</td>\n",
       "      <td>0.282869</td>\n",
       "      <td>0.218264</td>\n",
       "      <td>0.268170</td>\n",
       "      <td>0.090909</td>\n",
       "      <td>0.303371</td>\n",
       "      <td>0.252930</td>\n",
       "      <td>0.133333</td>\n",
       "      <td>0.841924</td>\n",
       "      <td>0.029197</td>\n",
       "      <td>0.014184</td>\n",
       "    </tr>\n",
       "    <tr>\n",
       "      <th>fromDMFsolvatedFebdp100K1058447</th>\n",
       "      <td>0.036981</td>\n",
       "      <td>0.041617</td>\n",
       "      <td>0.305017</td>\n",
       "      <td>0.282025</td>\n",
       "      <td>0.154579</td>\n",
       "      <td>0.578143</td>\n",
       "      <td>0.694983</td>\n",
       "      <td>0.441638</td>\n",
       "      <td>0.095942</td>\n",
       "      <td>0.057269</td>\n",
       "      <td>...</td>\n",
       "      <td>0.128818</td>\n",
       "      <td>0.059254</td>\n",
       "      <td>0.115288</td>\n",
       "      <td>0.000000</td>\n",
       "      <td>0.258427</td>\n",
       "      <td>0.211634</td>\n",
       "      <td>0.211111</td>\n",
       "      <td>0.707904</td>\n",
       "      <td>0.065693</td>\n",
       "      <td>0.120567</td>\n",
       "    </tr>\n",
       "    <tr>\n",
       "      <th>toVMOP-+1590348</th>\n",
       "      <td>0.152576</td>\n",
       "      <td>0.280814</td>\n",
       "      <td>0.552444</td>\n",
       "      <td>0.524591</td>\n",
       "      <td>0.319849</td>\n",
       "      <td>0.787016</td>\n",
       "      <td>0.810204</td>\n",
       "      <td>0.687872</td>\n",
       "      <td>0.154692</td>\n",
       "      <td>0.951542</td>\n",
       "      <td>...</td>\n",
       "      <td>0.040837</td>\n",
       "      <td>0.150734</td>\n",
       "      <td>0.027882</td>\n",
       "      <td>0.000000</td>\n",
       "      <td>0.224719</td>\n",
       "      <td>0.190406</td>\n",
       "      <td>0.294444</td>\n",
       "      <td>0.549828</td>\n",
       "      <td>0.138686</td>\n",
       "      <td>0.171631</td>\n",
       "    </tr>\n",
       "    <tr>\n",
       "      <th>fromic035111o_si_001</th>\n",
       "      <td>-0.007198</td>\n",
       "      <td>0.015769</td>\n",
       "      <td>0.361295</td>\n",
       "      <td>0.364577</td>\n",
       "      <td>0.210825</td>\n",
       "      <td>0.578143</td>\n",
       "      <td>0.526960</td>\n",
       "      <td>0.441638</td>\n",
       "      <td>0.112044</td>\n",
       "      <td>0.264317</td>\n",
       "      <td>...</td>\n",
       "      <td>0.104914</td>\n",
       "      <td>0.076505</td>\n",
       "      <td>0.110276</td>\n",
       "      <td>0.000000</td>\n",
       "      <td>0.269663</td>\n",
       "      <td>0.224989</td>\n",
       "      <td>0.188889</td>\n",
       "      <td>0.790378</td>\n",
       "      <td>0.049270</td>\n",
       "      <td>0.190071</td>\n",
       "    </tr>\n",
       "    <tr>\n",
       "      <th>...</th>\n",
       "      <td>...</td>\n",
       "      <td>...</td>\n",
       "      <td>...</td>\n",
       "      <td>...</td>\n",
       "      <td>...</td>\n",
       "      <td>...</td>\n",
       "      <td>...</td>\n",
       "      <td>...</td>\n",
       "      <td>...</td>\n",
       "      <td>...</td>\n",
       "      <td>...</td>\n",
       "      <td>...</td>\n",
       "      <td>...</td>\n",
       "      <td>...</td>\n",
       "      <td>...</td>\n",
       "      <td>...</td>\n",
       "      <td>...</td>\n",
       "      <td>...</td>\n",
       "      <td>...</td>\n",
       "      <td>...</td>\n",
       "      <td>...</td>\n",
       "    </tr>\n",
       "    <tr>\n",
       "      <th>from4in61536823</th>\n",
       "      <td>0.177338</td>\n",
       "      <td>0.202033</td>\n",
       "      <td>0.399773</td>\n",
       "      <td>0.366884</td>\n",
       "      <td>0.212397</td>\n",
       "      <td>0.578329</td>\n",
       "      <td>0.527212</td>\n",
       "      <td>0.062898</td>\n",
       "      <td>0.123227</td>\n",
       "      <td>0.017621</td>\n",
       "      <td>...</td>\n",
       "      <td>0.100266</td>\n",
       "      <td>0.109882</td>\n",
       "      <td>0.103383</td>\n",
       "      <td>0.000000</td>\n",
       "      <td>0.280899</td>\n",
       "      <td>0.223951</td>\n",
       "      <td>0.172222</td>\n",
       "      <td>0.824742</td>\n",
       "      <td>0.036496</td>\n",
       "      <td>0.258156</td>\n",
       "    </tr>\n",
       "    <tr>\n",
       "      <th>2from2924308-Copy</th>\n",
       "      <td>0.106497</td>\n",
       "      <td>0.110516</td>\n",
       "      <td>0.122000</td>\n",
       "      <td>0.296370</td>\n",
       "      <td>0.164353</td>\n",
       "      <td>0.725332</td>\n",
       "      <td>0.560694</td>\n",
       "      <td>0.483130</td>\n",
       "      <td>0.026897</td>\n",
       "      <td>0.004405</td>\n",
       "      <td>...</td>\n",
       "      <td>0.146082</td>\n",
       "      <td>0.099006</td>\n",
       "      <td>0.122807</td>\n",
       "      <td>0.000000</td>\n",
       "      <td>0.303371</td>\n",
       "      <td>0.252930</td>\n",
       "      <td>0.133333</td>\n",
       "      <td>0.841924</td>\n",
       "      <td>0.029197</td>\n",
       "      <td>0.014184</td>\n",
       "    </tr>\n",
       "    <tr>\n",
       "      <th>fromDUT-49Cd296K1957602</th>\n",
       "      <td>0.439085</td>\n",
       "      <td>0.587208</td>\n",
       "      <td>0.914024</td>\n",
       "      <td>0.898095</td>\n",
       "      <td>0.574334</td>\n",
       "      <td>0.256326</td>\n",
       "      <td>0.090555</td>\n",
       "      <td>0.062258</td>\n",
       "      <td>0.540158</td>\n",
       "      <td>0.986784</td>\n",
       "      <td>...</td>\n",
       "      <td>0.164675</td>\n",
       "      <td>0.145509</td>\n",
       "      <td>0.137845</td>\n",
       "      <td>0.090909</td>\n",
       "      <td>0.505618</td>\n",
       "      <td>0.456406</td>\n",
       "      <td>0.238889</td>\n",
       "      <td>0.800687</td>\n",
       "      <td>0.043796</td>\n",
       "      <td>0.000000</td>\n",
       "    </tr>\n",
       "    <tr>\n",
       "      <th>basedonMnfromPnna709780</th>\n",
       "      <td>0.039804</td>\n",
       "      <td>0.023974</td>\n",
       "      <td>0.156166</td>\n",
       "      <td>0.132090</td>\n",
       "      <td>0.052422</td>\n",
       "      <td>0.578143</td>\n",
       "      <td>0.526960</td>\n",
       "      <td>0.441638</td>\n",
       "      <td>0.015372</td>\n",
       "      <td>0.224670</td>\n",
       "      <td>...</td>\n",
       "      <td>0.003984</td>\n",
       "      <td>0.027002</td>\n",
       "      <td>0.000000</td>\n",
       "      <td>0.000000</td>\n",
       "      <td>0.247191</td>\n",
       "      <td>0.207700</td>\n",
       "      <td>0.238889</td>\n",
       "      <td>0.591065</td>\n",
       "      <td>0.083942</td>\n",
       "      <td>0.028369</td>\n",
       "    </tr>\n",
       "    <tr>\n",
       "      <th>toCCDC_2065040_JUK-20-nor</th>\n",
       "      <td>0.226650</td>\n",
       "      <td>0.228011</td>\n",
       "      <td>0.377709</td>\n",
       "      <td>0.377076</td>\n",
       "      <td>0.219341</td>\n",
       "      <td>0.631468</td>\n",
       "      <td>0.526960</td>\n",
       "      <td>0.441638</td>\n",
       "      <td>0.107066</td>\n",
       "      <td>0.052863</td>\n",
       "      <td>...</td>\n",
       "      <td>0.075033</td>\n",
       "      <td>0.061504</td>\n",
       "      <td>0.068922</td>\n",
       "      <td>0.000000</td>\n",
       "      <td>0.505618</td>\n",
       "      <td>0.456406</td>\n",
       "      <td>0.238889</td>\n",
       "      <td>0.800687</td>\n",
       "      <td>0.043796</td>\n",
       "      <td>0.000000</td>\n",
       "    </tr>\n",
       "  </tbody>\n",
       "</table>\n",
       "<p>101 rows × 1018 columns</p>\n",
       "</div>"
      ],
      "text/plain": [
       "                                      pld       lcd         a         b  \\\n",
       "toCAU13_-1GPa                    0.162791  0.137948  0.101440  0.169292   \n",
       "fromassynthesizedDUT-30Zn804770  0.181673  0.170747  0.189917  0.285933   \n",
       "fromDMFsolvatedFebdp100K1058447  0.036981  0.041617  0.305017  0.282025   \n",
       "toVMOP-+1590348                  0.152576  0.280814  0.552444  0.524591   \n",
       "fromic035111o_si_001            -0.007198  0.015769  0.361295  0.364577   \n",
       "...                                   ...       ...       ...       ...   \n",
       "from4in61536823                  0.177338  0.202033  0.399773  0.366884   \n",
       "2from2924308-Copy                0.106497  0.110516  0.122000  0.296370   \n",
       "fromDUT-49Cd296K1957602          0.439085  0.587208  0.914024  0.898095   \n",
       "basedonMnfromPnna709780          0.039804  0.023974  0.156166  0.132090   \n",
       "toCCDC_2065040_JUK-20-nor        0.226650  0.228011  0.377709  0.377076   \n",
       "\n",
       "                                        c     alpha      beta     gamma  \\\n",
       "toCAU13_-1GPa                    0.077769  0.441237  0.274418  0.199779   \n",
       "fromassynthesizedDUT-30Zn804770  0.157241  0.510829  0.258064  0.186620   \n",
       "fromDMFsolvatedFebdp100K1058447  0.154579  0.578143  0.694983  0.441638   \n",
       "toVMOP-+1590348                  0.319849  0.787016  0.810204  0.687872   \n",
       "fromic035111o_si_001             0.210825  0.578143  0.526960  0.441638   \n",
       "...                                   ...       ...       ...       ...   \n",
       "from4in61536823                  0.212397  0.578329  0.527212  0.062898   \n",
       "2from2924308-Copy                0.164353  0.725332  0.560694  0.483130   \n",
       "fromDUT-49Cd296K1957602          0.574334  0.256326  0.090555  0.062258   \n",
       "basedonMnfromPnna709780          0.052422  0.578143  0.526960  0.441638   \n",
       "toCCDC_2065040_JUK-20-nor        0.219341  0.631468  0.526960  0.441638   \n",
       "\n",
       "                                   volume  spacegroupNumber  ...   Zagreb2  \\\n",
       "toCAU13_-1GPa                    0.010622          0.048458  ...  0.081009   \n",
       "fromassynthesizedDUT-30Zn804770  0.033658          0.299559  ...  0.282869   \n",
       "fromDMFsolvatedFebdp100K1058447  0.095942          0.057269  ...  0.128818   \n",
       "toVMOP-+1590348                  0.154692          0.951542  ...  0.040837   \n",
       "fromic035111o_si_001             0.112044          0.264317  ...  0.104914   \n",
       "...                                   ...               ...  ...       ...   \n",
       "from4in61536823                  0.123227          0.017621  ...  0.100266   \n",
       "2from2924308-Copy                0.026897          0.004405  ...  0.146082   \n",
       "fromDUT-49Cd296K1957602          0.540158          0.986784  ...  0.164675   \n",
       "basedonMnfromPnna709780          0.015372          0.224670  ...  0.003984   \n",
       "toCCDC_2065040_JUK-20-nor        0.107066          0.052863  ...  0.075033   \n",
       "\n",
       "                                 mZagreb1  mZagreb2  n_metals  Atomic_Number  \\\n",
       "toCAU13_-1GPa                    0.113257  0.077694  0.000000       0.112360   \n",
       "fromassynthesizedDUT-30Zn804770  0.218264  0.268170  0.090909       0.303371   \n",
       "fromDMFsolvatedFebdp100K1058447  0.059254  0.115288  0.000000       0.258427   \n",
       "toVMOP-+1590348                  0.150734  0.027882  0.000000       0.224719   \n",
       "fromic035111o_si_001             0.076505  0.110276  0.000000       0.269663   \n",
       "...                                   ...       ...       ...            ...   \n",
       "from4in61536823                  0.109882  0.103383  0.000000       0.280899   \n",
       "2from2924308-Copy                0.099006  0.122807  0.000000       0.303371   \n",
       "fromDUT-49Cd296K1957602          0.145509  0.137845  0.090909       0.505618   \n",
       "basedonMnfromPnna709780          0.027002  0.000000  0.000000       0.247191   \n",
       "toCCDC_2065040_JUK-20-nor        0.061504  0.068922  0.000000       0.505618   \n",
       "\n",
       "                                 Atomic_Weight  Atomic Radius  Mulliken EN  \\\n",
       "toCAU13_-1GPa                         0.086723       0.000000     0.422680   \n",
       "fromassynthesizedDUT-30Zn804770       0.252930       0.133333     0.841924   \n",
       "fromDMFsolvatedFebdp100K1058447       0.211634       0.211111     0.707904   \n",
       "toVMOP-+1590348                       0.190406       0.294444     0.549828   \n",
       "fromic035111o_si_001                  0.224989       0.188889     0.790378   \n",
       "...                                        ...            ...          ...   \n",
       "from4in61536823                       0.223951       0.172222     0.824742   \n",
       "2from2924308-Copy                     0.252930       0.133333     0.841924   \n",
       "fromDUT-49Cd296K1957602               0.456406       0.238889     0.800687   \n",
       "basedonMnfromPnna709780               0.207700       0.238889     0.591065   \n",
       "toCCDC_2065040_JUK-20-nor             0.456406       0.238889     0.800687   \n",
       "\n",
       "                                 polarizability(A^3)  \\\n",
       "toCAU13_-1GPa                               0.063869   \n",
       "fromassynthesizedDUT-30Zn804770             0.029197   \n",
       "fromDMFsolvatedFebdp100K1058447             0.065693   \n",
       "toVMOP-+1590348                             0.138686   \n",
       "fromic035111o_si_001                        0.049270   \n",
       "...                                              ...   \n",
       "from4in61536823                             0.036496   \n",
       "2from2924308-Copy                           0.029197   \n",
       "fromDUT-49Cd296K1957602                     0.043796   \n",
       "basedonMnfromPnna709780                     0.083942   \n",
       "toCCDC_2065040_JUK-20-nor                   0.043796   \n",
       "\n",
       "                                 electron affinity(kJ/mol)  \n",
       "toCAU13_-1GPa                                     0.158865  \n",
       "fromassynthesizedDUT-30Zn804770                   0.014184  \n",
       "fromDMFsolvatedFebdp100K1058447                   0.120567  \n",
       "toVMOP-+1590348                                   0.171631  \n",
       "fromic035111o_si_001                              0.190071  \n",
       "...                                                    ...  \n",
       "from4in61536823                                   0.258156  \n",
       "2from2924308-Copy                                 0.014184  \n",
       "fromDUT-49Cd296K1957602                           0.000000  \n",
       "basedonMnfromPnna709780                           0.028369  \n",
       "toCCDC_2065040_JUK-20-nor                         0.000000  \n",
       "\n",
       "[101 rows x 1018 columns]"
      ]
     },
     "execution_count": 42,
     "metadata": {},
     "output_type": "execute_result"
    }
   ],
   "source": [
    "x = x.drop(\"frompart_2\", axis=0)"
   ]
  },
  {
   "cell_type": "code",
   "execution_count": 37,
   "metadata": {},
   "outputs": [],
   "source": [
    "x.to_csv(\"../main_datasets/dataset.csv\")"
   ]
  },
  {
   "cell_type": "code",
   "execution_count": null,
   "metadata": {},
   "outputs": [],
   "source": []
  },
  {
   "cell_type": "code",
   "execution_count": 38,
   "metadata": {},
   "outputs": [],
   "source": [
    "y.to_csv(\"../main_datasets/target.csv\")"
   ]
  },
  {
   "cell_type": "code",
   "execution_count": null,
   "metadata": {},
   "outputs": [],
   "source": []
  }
 ],
 "metadata": {
  "kernelspec": {
   "display_name": "Python 3",
   "language": "python",
   "name": "python3"
  },
  "language_info": {
   "codemirror_mode": {
    "name": "ipython",
    "version": 3
   },
   "file_extension": ".py",
   "mimetype": "text/x-python",
   "name": "python",
   "nbconvert_exporter": "python",
   "pygments_lexer": "ipython3",
   "version": "3.10.11"
  }
 },
 "nbformat": 4,
 "nbformat_minor": 2
}
