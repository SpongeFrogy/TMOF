{
 "cells": [
  {
   "cell_type": "code",
   "execution_count": 1,
   "metadata": {},
   "outputs": [],
   "source": [
    "import pandas as pd\n",
    "import joblib\n",
    "\n",
    "from models.classification_model import ClassifierModel # class with classifiers\n",
    "from models.reduce_model import ReduceModel # class with autoencoder\n",
    "\n",
    "import numpy as np\n",
    "import pandas as pd\n",
    "\n",
    "from sklearn import metrics\n",
    "from sklearn.preprocessing import RobustScaler\n",
    "from sklearn.model_selection import train_test_split\n",
    "\n",
    "import matplotlib.pyplot as plt \n",
    "from cycler import cycler"
   ]
  },
  {
   "cell_type": "code",
   "execution_count": 18,
   "metadata": {},
   "outputs": [],
   "source": [
    "files = pd.read_csv(\"database/t_solvent.csv\", sep=\";\")"
   ]
  },
  {
   "cell_type": "code",
   "execution_count": 19,
   "metadata": {},
   "outputs": [
    {
     "data": {
      "text/html": [
       "<div>\n",
       "<style scoped>\n",
       "    .dataframe tbody tr th:only-of-type {\n",
       "        vertical-align: middle;\n",
       "    }\n",
       "\n",
       "    .dataframe tbody tr th {\n",
       "        vertical-align: top;\n",
       "    }\n",
       "\n",
       "    .dataframe thead th {\n",
       "        text-align: right;\n",
       "    }\n",
       "</style>\n",
       "<table border=\"1\" class=\"dataframe\">\n",
       "  <thead>\n",
       "    <tr style=\"text-align: right;\">\n",
       "      <th></th>\n",
       "      <th>Folder num</th>\n",
       "      <th>CIF name</th>\n",
       "      <th>Stimuli</th>\n",
       "    </tr>\n",
       "  </thead>\n",
       "  <tbody>\n",
       "    <tr>\n",
       "      <th>0</th>\n",
       "      <td>3</td>\n",
       "      <td>from part_2.cif</td>\n",
       "      <td>T, solvent</td>\n",
       "    </tr>\n",
       "    <tr>\n",
       "      <th>1</th>\n",
       "      <td>3</td>\n",
       "      <td>to part_4.cif</td>\n",
       "      <td>T, solvent</td>\n",
       "    </tr>\n",
       "    <tr>\n",
       "      <th>2</th>\n",
       "      <td>58</td>\n",
       "      <td>from (1) 1974527.cif</td>\n",
       "      <td>T, solvent</td>\n",
       "    </tr>\n",
       "    <tr>\n",
       "      <th>3</th>\n",
       "      <td>58</td>\n",
       "      <td>to (3) 1974529.cif</td>\n",
       "      <td>T, solvent</td>\n",
       "    </tr>\n",
       "  </tbody>\n",
       "</table>\n",
       "</div>"
      ],
      "text/plain": [
       "   Folder num              CIF name     Stimuli\n",
       "0           3       from part_2.cif  T, solvent\n",
       "1           3         to part_4.cif  T, solvent\n",
       "2          58  from (1) 1974527.cif  T, solvent\n",
       "3          58    to (3) 1974529.cif  T, solvent"
      ]
     },
     "execution_count": 19,
     "metadata": {},
     "output_type": "execute_result"
    }
   ],
   "source": [
    "files"
   ]
  },
  {
   "cell_type": "code",
   "execution_count": 5,
   "metadata": {},
   "outputs": [],
   "source": [
    "import json\n",
    "mapping_ = json.load(open(\"names_mapping.json\"))"
   ]
  },
  {
   "cell_type": "code",
   "execution_count": 20,
   "metadata": {},
   "outputs": [],
   "source": [
    "files[\"CIF name\"] = [mapping_[name] for name in files[\"CIF name\"]]"
   ]
  },
  {
   "cell_type": "code",
   "execution_count": 30,
   "metadata": {},
   "outputs": [
    {
     "data": {
      "text/plain": [
       "0       frompart2.cif\n",
       "1         topart4.cif\n",
       "2    from11974527.cif\n",
       "3      to31974529.cif\n",
       "Name: CIF name, dtype: object"
      ]
     },
     "execution_count": 30,
     "metadata": {},
     "output_type": "execute_result"
    }
   ],
   "source": [
    "files[\"CIF name\"]"
   ]
  },
  {
   "cell_type": "code",
   "execution_count": 8,
   "metadata": {},
   "outputs": [],
   "source": [
    "from pymatgen.io.cif import CifParser\n",
    "import fnmatch"
   ]
  },
  {
   "cell_type": "code",
   "execution_count": 35,
   "metadata": {},
   "outputs": [],
   "source": [
    "import os\n",
    "cif_data = pd.DataFrame(columns=[\"a\", \"b\", \"c\", \"alpha\", \"beta\", \"gamma\", \"volume\", \"sg_number\"])\n",
    "bad_parse  = []\n",
    "bad_get_sg = []\n",
    "main_folder = r\"cifs/\"\n",
    "\n",
    "for file in os.listdir(main_folder):\n",
    "    # print(file)\n",
    "    if fnmatch.fnmatch(file, '*.cif') and file in files[\"CIF name\"].values:\n",
    "        try:\n",
    "            # print(os.path.join(file))\n",
    "            struct = CifParser(os.path.join(main_folder, file)).get_structures()[0]\n",
    "            try:\n",
    "                d_lattice = struct.as_dict()['lattice']\n",
    "                property = [d_lattice[\"a\"], d_lattice[\"b\"], d_lattice[\"b\"],\n",
    "                            d_lattice[\"alpha\"], d_lattice[\"beta\"], d_lattice[\"gamma\"], d_lattice[\"volume\"],\n",
    "                            struct.get_space_group_info()[1]]\n",
    "                cif_data.loc[file[:-4]] = property\n",
    "            except ValueError:\n",
    "                print(f\"Error with get sg: {os.path.join(file)}\")\n",
    "                bad_get_sg.append(os.path.join(file))\n",
    "        except ValueError:\n",
    "            print(f\"Error with prase: no structure in {file}\")\n",
    "            bad_parse.append(file)\n",
    "        except KeyError:\n",
    "            print(f\"Error with prase: no parameters in {file}\")\n",
    "            bad_parse.append(file)"
   ]
  },
  {
   "cell_type": "code",
   "execution_count": 36,
   "metadata": {},
   "outputs": [
    {
     "data": {
      "text/html": [
       "<div>\n",
       "<style scoped>\n",
       "    .dataframe tbody tr th:only-of-type {\n",
       "        vertical-align: middle;\n",
       "    }\n",
       "\n",
       "    .dataframe tbody tr th {\n",
       "        vertical-align: top;\n",
       "    }\n",
       "\n",
       "    .dataframe thead th {\n",
       "        text-align: right;\n",
       "    }\n",
       "</style>\n",
       "<table border=\"1\" class=\"dataframe\">\n",
       "  <thead>\n",
       "    <tr style=\"text-align: right;\">\n",
       "      <th></th>\n",
       "      <th>a</th>\n",
       "      <th>b</th>\n",
       "      <th>c</th>\n",
       "      <th>alpha</th>\n",
       "      <th>beta</th>\n",
       "      <th>gamma</th>\n",
       "      <th>volume</th>\n",
       "      <th>sg_number</th>\n",
       "    </tr>\n",
       "  </thead>\n",
       "  <tbody>\n",
       "    <tr>\n",
       "      <th>from11974527</th>\n",
       "      <td>13.842833</td>\n",
       "      <td>13.842833</td>\n",
       "      <td>13.842833</td>\n",
       "      <td>90.000000</td>\n",
       "      <td>90.000000</td>\n",
       "      <td>93.101835</td>\n",
       "      <td>2967.619360</td>\n",
       "      <td>41.0</td>\n",
       "    </tr>\n",
       "    <tr>\n",
       "      <th>frompart2</th>\n",
       "      <td>17.511100</td>\n",
       "      <td>17.511100</td>\n",
       "      <td>17.511100</td>\n",
       "      <td>90.000000</td>\n",
       "      <td>90.000000</td>\n",
       "      <td>90.000000</td>\n",
       "      <td>12273.732180</td>\n",
       "      <td>91.0</td>\n",
       "    </tr>\n",
       "    <tr>\n",
       "      <th>to31974529</th>\n",
       "      <td>8.846700</td>\n",
       "      <td>10.058974</td>\n",
       "      <td>10.058974</td>\n",
       "      <td>108.460712</td>\n",
       "      <td>105.930959</td>\n",
       "      <td>93.057028</td>\n",
       "      <td>1214.122775</td>\n",
       "      <td>9.0</td>\n",
       "    </tr>\n",
       "    <tr>\n",
       "      <th>topart4</th>\n",
       "      <td>17.554724</td>\n",
       "      <td>17.554724</td>\n",
       "      <td>17.554724</td>\n",
       "      <td>90.000000</td>\n",
       "      <td>90.000000</td>\n",
       "      <td>93.289645</td>\n",
       "      <td>12339.495390</td>\n",
       "      <td>20.0</td>\n",
       "    </tr>\n",
       "  </tbody>\n",
       "</table>\n",
       "</div>"
      ],
      "text/plain": [
       "                      a          b          c       alpha        beta  \\\n",
       "from11974527  13.842833  13.842833  13.842833   90.000000   90.000000   \n",
       "frompart2     17.511100  17.511100  17.511100   90.000000   90.000000   \n",
       "to31974529     8.846700  10.058974  10.058974  108.460712  105.930959   \n",
       "topart4       17.554724  17.554724  17.554724   90.000000   90.000000   \n",
       "\n",
       "                  gamma        volume  sg_number  \n",
       "from11974527  93.101835   2967.619360       41.0  \n",
       "frompart2     90.000000  12273.732180       91.0  \n",
       "to31974529    93.057028   1214.122775        9.0  \n",
       "topart4       93.289645  12339.495390       20.0  "
      ]
     },
     "execution_count": 36,
     "metadata": {},
     "output_type": "execute_result"
    }
   ],
   "source": [
    "cif_data"
   ]
  },
  {
   "cell_type": "code",
   "execution_count": 43,
   "metadata": {},
   "outputs": [],
   "source": [
    "zeo_data = pd.read_csv(\"preprocessing/zeopp/zeo_data_.csv\", index_col=0)\n",
    "zeo_data = zeo_data.loc[list(v[:-4] for v in files[\"CIF name\"].values)]"
   ]
  },
  {
   "cell_type": "code",
   "execution_count": 44,
   "metadata": {},
   "outputs": [
    {
     "data": {
      "text/html": [
       "<div>\n",
       "<style scoped>\n",
       "    .dataframe tbody tr th:only-of-type {\n",
       "        vertical-align: middle;\n",
       "    }\n",
       "\n",
       "    .dataframe tbody tr th {\n",
       "        vertical-align: top;\n",
       "    }\n",
       "\n",
       "    .dataframe thead th {\n",
       "        text-align: right;\n",
       "    }\n",
       "</style>\n",
       "<table border=\"1\" class=\"dataframe\">\n",
       "  <thead>\n",
       "    <tr style=\"text-align: right;\">\n",
       "      <th></th>\n",
       "      <th>pld</th>\n",
       "      <th>lcd</th>\n",
       "    </tr>\n",
       "  </thead>\n",
       "  <tbody>\n",
       "    <tr>\n",
       "      <th>frompart2</th>\n",
       "      <td>25.67396</td>\n",
       "      <td>28.46977</td>\n",
       "    </tr>\n",
       "    <tr>\n",
       "      <th>topart4</th>\n",
       "      <td>27.54718</td>\n",
       "      <td>30.28158</td>\n",
       "    </tr>\n",
       "    <tr>\n",
       "      <th>from11974527</th>\n",
       "      <td>4.07961</td>\n",
       "      <td>5.55567</td>\n",
       "    </tr>\n",
       "    <tr>\n",
       "      <th>to31974529</th>\n",
       "      <td>1.50110</td>\n",
       "      <td>2.93504</td>\n",
       "    </tr>\n",
       "  </tbody>\n",
       "</table>\n",
       "</div>"
      ],
      "text/plain": [
       "                   pld       lcd\n",
       "frompart2     25.67396  28.46977\n",
       "topart4       27.54718  30.28158\n",
       "from11974527   4.07961   5.55567\n",
       "to31974529     1.50110   2.93504"
      ]
     },
     "execution_count": 44,
     "metadata": {},
     "output_type": "execute_result"
    }
   ],
   "source": [
    "zeo_data"
   ]
  },
  {
   "cell_type": "code",
   "execution_count": 45,
   "metadata": {},
   "outputs": [],
   "source": [
    "mofid_data = pd.read_csv(\"preprocessing/mofid/mofid_data_.csv\", index_col=0)\n",
    "mofid_data = mofid_data.loc[list(v[:-4] for v in files[\"CIF name\"].values)]"
   ]
  },
  {
   "cell_type": "code",
   "execution_count": 46,
   "metadata": {},
   "outputs": [
    {
     "name": "stderr",
     "output_type": "stream",
     "text": [
      "100%|██████████| 1/1 [00:02<00:00,  2.47s/it]\n",
      "100%|██████████| 1/1 [00:02<00:00,  2.73s/it]\n",
      "100%|██████████| 1/1 [00:01<00:00,  1.87s/it]\n",
      "100%|██████████| 1/1 [00:01<00:00,  1.95s/it]\n"
     ]
    },
    {
     "name": "stdout",
     "output_type": "stream",
     "text": [
      "C:\\Users\\droid\\AppData\\Local\\Packages\\PythonSoftwareFoundation.Python.3.10_qbz5n2kfra8p0\\LocalCache\\local-packages\\Python310\\site-packages\\mordred\\Autocorrelation.py:97: RuntimeWarning: Mean of empty slice.\n",
      "  return avec - avec.mean()\n",
      "C:\\Users\\droid\\AppData\\Local\\Packages\\PythonSoftwareFoundation.Python.3.10_qbz5n2kfra8p0\\LocalCache\\local-packages\\Python310\\site-packages\\numpy\\core\\_methods.py:190: RuntimeWarning: invalid value encountered in double_scalars\n",
      "  ret = ret.dtype.type(ret / rcount)\n",
      "C:\\Users\\droid\\AppData\\Local\\Packages\\PythonSoftwareFoundation.Python.3.10_qbz5n2kfra8p0\\LocalCache\\local-packages\\Python310\\site-packages\\mordred\\Constitutional.py:80: RuntimeWarning: invalid value encountered in double_scalars\n",
      "  return S / self.mol.GetNumAtoms()\n"
     ]
    }
   ],
   "source": [
    "from mordred import Calculator, descriptors\n",
    "from rdkit import Chem\n",
    "\n",
    "linkers = [smi.strip('\"')[1:-1].replace(\"'\", \"\").split(\", \") for smi in mofid_data['linker'].values]\n",
    "mols = [[Chem.MolFromSmiles(smi) for smi in smi_list] for smi_list in linkers]\n",
    "calc = Calculator(descriptors, ignore_3D=False)\n",
    "def f(mof):\n",
    "    try: return calc.pandas(mof)\n",
    "    except TypeError:\n",
    "        return None\n",
    "    \n",
    "dfs = [f(mof) for mof in mols]\n",
    "data_mordred = pd.DataFrame(columns=dfs[0].columns)\n",
    "\n",
    "for i, filename in enumerate(mofid_data.index):\n",
    "    try:\n",
    "        if linkers[i] != [\"\"]:\n",
    "            data_mordred.loc[filename] = dfs[i].mean()\n",
    "    except AttributeError:\n",
    "        print(f\"{filename:_^20}\")\n",
    "#data_mordred.to_csv(\"../data/all_f_main_dataset_mordred_V2.csv\")"
   ]
  },
  {
   "cell_type": "code",
   "execution_count": 47,
   "metadata": {},
   "outputs": [],
   "source": [
    "def metal_from_node(node: str):\n",
    "    import re\n",
    "    \"\"\"\n",
    "    input: smilesNodes: str\n",
    "    return: \n",
    "    'metals' in node: list\n",
    "    'unique' types of metals: np.array, dtype='<U2'\n",
    "    'count' of unique: np.array, dtype=int\n",
    "    \"\"\"\n",
    "    # \"O[Zr]123(O)[OH]4[Zr]56([O]3[Zr]37([OH]2[Zr]28([O]1[Zr]14([O]6[Zr]([OH]53)([OH]21)([O]78)(O)O)([OH2])([OH2])O)[OH2])([OH2])([OH2])O)[OH2]\"\n",
    "    node = node.replace(\"OH\", \"\").replace(\"O\", \"\")\n",
    "    node = node.replace(\"[\", \"\").replace(\"]\", \"\").replace(\")\", \"\").replace(\"(\", \"\").replace(\",\", \"\")\n",
    "    node = re.sub(r\"\\d\", \"\", node) # replace numbers\n",
    "    #print(node)\n",
    "    # \"ZrZrZrZrZrZr\"\n",
    "    start_cut = 0\n",
    "    metals = []\n",
    "    for i, char in enumerate(node[1:]):\n",
    "        if not char.islower():\n",
    "            metals.append(node[start_cut:i+1])\n",
    "            start_cut = i+1\n",
    "    metals.append(node[start_cut:])\n",
    "    unique, counts = np.unique(np.array(metals), return_counts=True)\n",
    "    return metals, unique, counts"
   ]
  },
  {
   "cell_type": "code",
   "execution_count": 48,
   "metadata": {},
   "outputs": [],
   "source": [
    "elemental_descriptors = pd.read_csv(\"preprocessing/qmof/data/elemental_descriptors.csv\")"
   ]
  },
  {
   "cell_type": "code",
   "execution_count": 49,
   "metadata": {},
   "outputs": [
    {
     "name": "stdout",
     "output_type": "stream",
     "text": [
      "Error with ['*']\n"
     ]
    }
   ],
   "source": [
    "node_descriptors = pd.DataFrame(columns=(\"n_metals\", 'n_types_metals', 'Atomic_Number', 'Atomic_Weight', 'Atomic Radius',\n",
    "       'Mulliken EN', 'polarizability(A^3)', 'electron affinity(kJ/mol)'))\n",
    "\n",
    "d = ['Atomic_Number', 'Atomic_Weight', 'Atomic Radius',\n",
    "       'Mulliken EN', 'polarizability(A^3)', 'electron affinity(kJ/mol)']\n",
    "\n",
    "for filename, node in zip(mofid_data.index, mofid_data[\"node\"]):\n",
    "    try:\n",
    "       metals, unique, count = metal_from_node(node.replace(\"'\", \"\").replace(\" \", \"\").replace(\"%\", \"\"))\n",
    "       #print(metals)\n",
    "       n_metals = count.sum()\n",
    "       n_metals_types = count.__len__()\n",
    "       df = pd.DataFrame(columns=d, index=[range(count.sum())])\n",
    "       for metal in metals:\n",
    "          #print(metal)\n",
    "          df.loc[len(df)] = elemental_descriptors.loc[elemental_descriptors[\"Symbol\"] == metal].loc[:,d].iloc[0]\n",
    "       node_descriptors.loc[filename] = n_metals, n_metals_types, *df.mean().array\n",
    "    except IndexError:\n",
    "       print(f\"Error with {node}\")"
   ]
  },
  {
   "cell_type": "code",
   "execution_count": 50,
   "metadata": {},
   "outputs": [
    {
     "data": {
      "text/html": [
       "<div>\n",
       "<style scoped>\n",
       "    .dataframe tbody tr th:only-of-type {\n",
       "        vertical-align: middle;\n",
       "    }\n",
       "\n",
       "    .dataframe tbody tr th {\n",
       "        vertical-align: top;\n",
       "    }\n",
       "\n",
       "    .dataframe thead th {\n",
       "        text-align: right;\n",
       "    }\n",
       "</style>\n",
       "<table border=\"1\" class=\"dataframe\">\n",
       "  <thead>\n",
       "    <tr style=\"text-align: right;\">\n",
       "      <th></th>\n",
       "      <th>n_metals</th>\n",
       "      <th>n_types_metals</th>\n",
       "      <th>Atomic_Number</th>\n",
       "      <th>Atomic_Weight</th>\n",
       "      <th>Atomic Radius</th>\n",
       "      <th>Mulliken EN</th>\n",
       "      <th>polarizability(A^3)</th>\n",
       "      <th>electron affinity(kJ/mol)</th>\n",
       "    </tr>\n",
       "  </thead>\n",
       "  <tbody>\n",
       "    <tr>\n",
       "      <th>frompart2</th>\n",
       "      <td>2.0</td>\n",
       "      <td>1.0</td>\n",
       "      <td>27.0</td>\n",
       "      <td>58.9332</td>\n",
       "      <td>1.52</td>\n",
       "      <td>4.30</td>\n",
       "      <td>7.5</td>\n",
       "      <td>64.0</td>\n",
       "    </tr>\n",
       "    <tr>\n",
       "      <th>topart4</th>\n",
       "      <td>2.0</td>\n",
       "      <td>1.0</td>\n",
       "      <td>27.0</td>\n",
       "      <td>58.9332</td>\n",
       "      <td>1.52</td>\n",
       "      <td>4.30</td>\n",
       "      <td>7.5</td>\n",
       "      <td>64.0</td>\n",
       "    </tr>\n",
       "    <tr>\n",
       "      <th>from11974527</th>\n",
       "      <td>1.0</td>\n",
       "      <td>1.0</td>\n",
       "      <td>48.0</td>\n",
       "      <td>112.4110</td>\n",
       "      <td>1.61</td>\n",
       "      <td>4.33</td>\n",
       "      <td>7.2</td>\n",
       "      <td>-70.0</td>\n",
       "    </tr>\n",
       "  </tbody>\n",
       "</table>\n",
       "</div>"
      ],
      "text/plain": [
       "              n_metals  n_types_metals  Atomic_Number  Atomic_Weight  \\\n",
       "frompart2          2.0             1.0           27.0        58.9332   \n",
       "topart4            2.0             1.0           27.0        58.9332   \n",
       "from11974527       1.0             1.0           48.0       112.4110   \n",
       "\n",
       "              Atomic Radius  Mulliken EN  polarizability(A^3)  \\\n",
       "frompart2              1.52         4.30                  7.5   \n",
       "topart4                1.52         4.30                  7.5   \n",
       "from11974527           1.61         4.33                  7.2   \n",
       "\n",
       "              electron affinity(kJ/mol)  \n",
       "frompart2                          64.0  \n",
       "topart4                            64.0  \n",
       "from11974527                      -70.0  "
      ]
     },
     "execution_count": 50,
     "metadata": {},
     "output_type": "execute_result"
    }
   ],
   "source": [
    "node_descriptors"
   ]
  },
  {
   "cell_type": "code",
   "execution_count": 53,
   "metadata": {},
   "outputs": [],
   "source": [
    "index = list({*list(zeo_data.index)} & {*list(cif_data.index)} & {*list(data_mordred.index)} & {*list(node_descriptors.index)})"
   ]
  },
  {
   "cell_type": "code",
   "execution_count": 54,
   "metadata": {},
   "outputs": [],
   "source": [
    "t_solvent = pd.concat([zeo_data.loc[index], cif_data.loc[index], data_mordred.loc[index], node_descriptors.loc[index]], axis=1)"
   ]
  },
  {
   "cell_type": "code",
   "execution_count": 55,
   "metadata": {},
   "outputs": [
    {
     "data": {
      "text/html": [
       "<div>\n",
       "<style scoped>\n",
       "    .dataframe tbody tr th:only-of-type {\n",
       "        vertical-align: middle;\n",
       "    }\n",
       "\n",
       "    .dataframe tbody tr th {\n",
       "        vertical-align: top;\n",
       "    }\n",
       "\n",
       "    .dataframe thead th {\n",
       "        text-align: right;\n",
       "    }\n",
       "</style>\n",
       "<table border=\"1\" class=\"dataframe\">\n",
       "  <thead>\n",
       "    <tr style=\"text-align: right;\">\n",
       "      <th></th>\n",
       "      <th>pld</th>\n",
       "      <th>lcd</th>\n",
       "      <th>a</th>\n",
       "      <th>b</th>\n",
       "      <th>c</th>\n",
       "      <th>alpha</th>\n",
       "      <th>beta</th>\n",
       "      <th>gamma</th>\n",
       "      <th>volume</th>\n",
       "      <th>sg_number</th>\n",
       "      <th>...</th>\n",
       "      <th>mZagreb1</th>\n",
       "      <th>mZagreb2</th>\n",
       "      <th>n_metals</th>\n",
       "      <th>n_types_metals</th>\n",
       "      <th>Atomic_Number</th>\n",
       "      <th>Atomic_Weight</th>\n",
       "      <th>Atomic Radius</th>\n",
       "      <th>Mulliken EN</th>\n",
       "      <th>polarizability(A^3)</th>\n",
       "      <th>electron affinity(kJ/mol)</th>\n",
       "    </tr>\n",
       "  </thead>\n",
       "  <tbody>\n",
       "    <tr>\n",
       "      <th>topart4</th>\n",
       "      <td>27.54718</td>\n",
       "      <td>30.28158</td>\n",
       "      <td>17.554724</td>\n",
       "      <td>17.554724</td>\n",
       "      <td>17.554724</td>\n",
       "      <td>90.0</td>\n",
       "      <td>90.0</td>\n",
       "      <td>93.289645</td>\n",
       "      <td>12339.49539</td>\n",
       "      <td>20.0</td>\n",
       "      <td>...</td>\n",
       "      <td>15.277778</td>\n",
       "      <td>10.000000</td>\n",
       "      <td>2.0</td>\n",
       "      <td>1.0</td>\n",
       "      <td>27.0</td>\n",
       "      <td>58.9332</td>\n",
       "      <td>1.52</td>\n",
       "      <td>4.30</td>\n",
       "      <td>7.5</td>\n",
       "      <td>64.0</td>\n",
       "    </tr>\n",
       "    <tr>\n",
       "      <th>from11974527</th>\n",
       "      <td>4.07961</td>\n",
       "      <td>5.55567</td>\n",
       "      <td>13.842833</td>\n",
       "      <td>13.842833</td>\n",
       "      <td>13.842833</td>\n",
       "      <td>90.0</td>\n",
       "      <td>90.0</td>\n",
       "      <td>93.101835</td>\n",
       "      <td>2967.61936</td>\n",
       "      <td>41.0</td>\n",
       "      <td>...</td>\n",
       "      <td>5.555556</td>\n",
       "      <td>3.666667</td>\n",
       "      <td>1.0</td>\n",
       "      <td>1.0</td>\n",
       "      <td>48.0</td>\n",
       "      <td>112.4110</td>\n",
       "      <td>1.61</td>\n",
       "      <td>4.33</td>\n",
       "      <td>7.2</td>\n",
       "      <td>-70.0</td>\n",
       "    </tr>\n",
       "    <tr>\n",
       "      <th>frompart2</th>\n",
       "      <td>25.67396</td>\n",
       "      <td>28.46977</td>\n",
       "      <td>17.511100</td>\n",
       "      <td>17.511100</td>\n",
       "      <td>17.511100</td>\n",
       "      <td>90.0</td>\n",
       "      <td>90.0</td>\n",
       "      <td>90.000000</td>\n",
       "      <td>12273.73218</td>\n",
       "      <td>91.0</td>\n",
       "      <td>...</td>\n",
       "      <td>15.277778</td>\n",
       "      <td>10.000000</td>\n",
       "      <td>2.0</td>\n",
       "      <td>1.0</td>\n",
       "      <td>27.0</td>\n",
       "      <td>58.9332</td>\n",
       "      <td>1.52</td>\n",
       "      <td>4.30</td>\n",
       "      <td>7.5</td>\n",
       "      <td>64.0</td>\n",
       "    </tr>\n",
       "  </tbody>\n",
       "</table>\n",
       "<p>3 rows × 1844 columns</p>\n",
       "</div>"
      ],
      "text/plain": [
       "                   pld       lcd          a          b          c  alpha  \\\n",
       "topart4       27.54718  30.28158  17.554724  17.554724  17.554724   90.0   \n",
       "from11974527   4.07961   5.55567  13.842833  13.842833  13.842833   90.0   \n",
       "frompart2     25.67396  28.46977  17.511100  17.511100  17.511100   90.0   \n",
       "\n",
       "              beta      gamma       volume  sg_number  ...   mZagreb1  \\\n",
       "topart4       90.0  93.289645  12339.49539       20.0  ...  15.277778   \n",
       "from11974527  90.0  93.101835   2967.61936       41.0  ...   5.555556   \n",
       "frompart2     90.0  90.000000  12273.73218       91.0  ...  15.277778   \n",
       "\n",
       "               mZagreb2  n_metals  n_types_metals  Atomic_Number  \\\n",
       "topart4       10.000000       2.0             1.0           27.0   \n",
       "from11974527   3.666667       1.0             1.0           48.0   \n",
       "frompart2     10.000000       2.0             1.0           27.0   \n",
       "\n",
       "              Atomic_Weight  Atomic Radius  Mulliken EN  polarizability(A^3)  \\\n",
       "topart4             58.9332           1.52         4.30                  7.5   \n",
       "from11974527       112.4110           1.61         4.33                  7.2   \n",
       "frompart2           58.9332           1.52         4.30                  7.5   \n",
       "\n",
       "              electron affinity(kJ/mol)  \n",
       "topart4                            64.0  \n",
       "from11974527                      -70.0  \n",
       "frompart2                          64.0  \n",
       "\n",
       "[3 rows x 1844 columns]"
      ]
     },
     "execution_count": 55,
     "metadata": {},
     "output_type": "execute_result"
    }
   ],
   "source": [
    "t_solvent"
   ]
  },
  {
   "cell_type": "code",
   "execution_count": 61,
   "metadata": {},
   "outputs": [],
   "source": [
    "from preproc_model import PreprocessingModel\n",
    "preproc = joblib.load(\"preprocessing/preproc_m.pkl\")\n",
    "scaler = joblib.load(\"models/best/scaler.pkl\")\n",
    "reduce = joblib.load(\"models/best/reduce_model.pkl\")\n",
    "c_model = joblib.load(\"models/best/c_model.pkl\")"
   ]
  },
  {
   "cell_type": "code",
   "execution_count": 72,
   "metadata": {},
   "outputs": [],
   "source": [
    "x = preproc.transform(t_solvent.rename({\"sg_number\": \"spacegroupNumber\"}, axis=1))"
   ]
  },
  {
   "cell_type": "code",
   "execution_count": 73,
   "metadata": {},
   "outputs": [],
   "source": [
    "x = reduce.transform(x)"
   ]
  },
  {
   "cell_type": "code",
   "execution_count": 74,
   "metadata": {},
   "outputs": [],
   "source": [
    "np.save(\"preprocessing/datasets/t_solvent.npy\", x)"
   ]
  }
 ],
 "metadata": {
  "kernelspec": {
   "display_name": "Python 3",
   "language": "python",
   "name": "python3"
  },
  "language_info": {
   "codemirror_mode": {
    "name": "ipython",
    "version": 3
   },
   "file_extension": ".py",
   "mimetype": "text/x-python",
   "name": "python",
   "nbconvert_exporter": "python",
   "pygments_lexer": "ipython3",
   "version": "3.10.11"
  }
 },
 "nbformat": 4,
 "nbformat_minor": 2
}
